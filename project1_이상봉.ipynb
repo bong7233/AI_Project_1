{
  "nbformat": 4,
  "nbformat_minor": 0,
  "metadata": {
    "colab": {
      "name": "project1_이상봉.ipynb",
      "provenance": [],
      "collapsed_sections": []
    },
    "kernelspec": {
      "name": "python3",
      "display_name": "Python 3"
    },
    "language_info": {
      "name": "python"
    }
  },
  "cells": [
    {
      "cell_type": "markdown",
      "metadata": {
        "id": "xNm35ClGwGE0"
      },
      "source": [
        "# 첫번째 프로젝트"
      ]
    },
    {
      "cell_type": "code",
      "metadata": {
        "id": "KH-by6CHS_uf"
      },
      "source": [],
      "execution_count": null,
      "outputs": []
    },
    {
      "cell_type": "code",
      "metadata": {
        "id": "EjJXkgguwJxb"
      },
      "source": [],
      "execution_count": null,
      "outputs": []
    }
  ]
}