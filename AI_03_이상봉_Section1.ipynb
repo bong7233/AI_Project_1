{
  "nbformat": 4,
  "nbformat_minor": 0,
  "metadata": {
    "colab": {
      "name": "project1_이상봉.ipynb",
      "provenance": [],
      "collapsed_sections": []
    },
    "kernelspec": {
      "name": "python3",
      "display_name": "Python 3"
    },
    "language_info": {
      "name": "python"
    }
  },
  "cells": [
    {
      "cell_type": "markdown",
      "metadata": {
        "id": "xNm35ClGwGE0"
      },
      "source": [
        "# Project\n",
        "\n",
        "## **주제와 목적**\n",
        "최근 북미, 유럽, 일본, 그외 지역에서의 게임 판매량 데이터를 분석하고  \n",
        "분석을 바탕으로 다음 분기 어떤 게임을 설계 할 것인지 정하는것이다    \n",
        "\n",
        "## **게임을 설계하기 위해서 무엇을 고려해야할까?**\n",
        "게임을 설계하는 방향은 \"판매량이 많은 게임\" 을 만드는 것이다  \n",
        "그러므로 게임의 판매량에 영향을 주는 요인이 무엇인지 확인하고  \n",
        "그 요인들을 바탕으로 게임의 장르, 플랫폼을 선택해야한다.\n",
        "\n",
        "### **1. 장르는 어떻게 선택할까?**\n",
        "\n",
        "우선 장르와 지역, 연도의 관련성을 분석해보자\n",
        "1. 지역별 장르의 선호도가 다를까?\n",
        "2. 연도별 장르의 트랜드가 있는가?\n",
        "\n",
        "이 과정을 통해 장르와 연관성 있는것을 찾아낸다  \n",
        "\n",
        "### **2. 플랫폼은 어떻게 선택할까?**\n",
        "\n",
        "플랫폼과 판매량의 관련성을 분석해보자\n",
        "1. 지역별 플랫폼의 선호도가 다를까?\n",
        "\n",
        "\n",
        "### **3. 그 후 설계 방향은?**\n",
        "위의 연관성 있는 기준들을 판매량이 많은 게임들에 적용시켜  \n",
        "설계할 게임의 최적의 장르와 플렛폼을 고를 수 있다\n"
      ]
    },
    {
      "cell_type": "markdown",
      "metadata": {
        "id": "Hqvk5acKkl4A"
      },
      "source": [
        "분석을 시작하기전에, 데이터를 좀더 깔끔하게 다듬는 전처리 작업을 진행하였다  \n",
        "# 전처리작업(EDA)\n",
        "우선 데이터내의 수치를 일관성있게 통일하기위해 전처리작업을 진행하였다  \n",
        "전처리작업이란, 숫자의단위나 알파벳의 대소문자의 통일, 알수없는값이나 비어있는값을 처리하여 데이터의 오류를 줄이는 과정이다."
      ]
    },
    {
      "cell_type": "code",
      "metadata": {
        "colab": {
          "base_uri": "https://localhost:8080/"
        },
        "id": "QcswP7LkOhIS",
        "outputId": "c6fd4074-a729-4897-a9cb-7a30dc1d08e2"
      },
      "source": [
        "from google.colab import drive\n",
        "drive.mount('/content/drive')"
      ],
      "execution_count": 3,
      "outputs": [
        {
          "output_type": "stream",
          "text": [
            "Mounted at /content/drive\n"
          ],
          "name": "stdout"
        }
      ]
    },
    {
      "cell_type": "code",
      "metadata": {
        "id": "KaSK2caSlPW4"
      },
      "source": [
        "import pandas as pd\n",
        "import numpy as np\n",
        "from scipy.stats import chi2_contingency, f_oneway, stats\n",
        "from sklearn.decomposition import PCA\n",
        "from sklearn.preprocessing import StandardScaler\n",
        "\n",
        "\n",
        "# 데이터 불러오기\n",
        "df = pd.read_csv('/content/drive/MyDrive/AI_bootcamp/vgames2.csv', encoding='CP949')\n",
        "\n",
        "# 인덱스제거\n",
        "df = df.drop(['Unnamed: 0','Name','Publisher'], axis=1)"
      ],
      "execution_count": 30,
      "outputs": []
    },
    {
      "cell_type": "code",
      "metadata": {
        "colab": {
          "base_uri": "https://localhost:8080/"
        },
        "id": "kHVwjbdwlQY-",
        "outputId": "26653d23-a538-4e66-dced-ce7e5f64a920"
      },
      "source": [
        "# 데이터 전처리하기\n",
        "\n",
        "\n",
        "# 판매량을 (0.00) 단위로 통일하고 float으로 변경하는 함수 선언\n",
        "def unification(string):\n",
        "    # K가 있다면 지우고 천 곱하고 백만으로 나누기\n",
        "    if ('K' in string) == True:\n",
        "        # 만약 0K 라면 0.001로 바로바꾸기\n",
        "        if string == '0K':\n",
        "            return float(0.001)\n",
        "        else:\n",
        "            remove_k = string.replace('K','')\n",
        "            return float(remove_k)*0.001\n",
        "    # M이 있다면 지우기\n",
        "    elif ('M' in string) == True:\n",
        "        # 만약 OM 이라면 1.0으로 바꾸기\n",
        "        if string == '0M':\n",
        "            return float(1.0)\n",
        "        else:\n",
        "            remove_m = string.replace('M','')\n",
        "            return float(remove_m)\n",
        "    # 둘다없다면 타입만바꾸기\n",
        "    else:\n",
        "        return float(string)\n",
        "\n",
        "# 판매량 칼럽의 단위통일시키기\n",
        "df['NA_Sales'] = df['NA_Sales'].apply(unification)\n",
        "df['JP_Sales'] = df['JP_Sales'].apply(unification)\n",
        "df['EU_Sales'] = df['EU_Sales'].apply(unification)\n",
        "df['Other_Sales'] = df['Other_Sales'].apply(unification)\n",
        "\n",
        "# datatype이 object->float으로 되었는지 확인\n",
        "df.dtypes"
      ],
      "execution_count": 31,
      "outputs": [
        {
          "output_type": "execute_result",
          "data": {
            "text/plain": [
              "Platform        object\n",
              "Year           float64\n",
              "Genre           object\n",
              "NA_Sales       float64\n",
              "EU_Sales       float64\n",
              "JP_Sales       float64\n",
              "Other_Sales    float64\n",
              "dtype: object"
            ]
          },
          "metadata": {
            "tags": []
          },
          "execution_count": 31
        }
      ]
    },
    {
      "cell_type": "markdown",
      "metadata": {
        "id": "2-4sokgN_edQ"
      },
      "source": [
        "전처리가 끝난 데이터로 분석해보자  \n",
        "\n",
        "\n",
        "# 1. 장르는 어떻게 선택할까?\n",
        "\n",
        "- 지역별 장르의 선호도는 다를까?  \n",
        "  - 장르들의 지역별 판매량이 비슷하다면  ->  선호도가 비슷하다  \n",
        "  - 장르들의 지역별 판매량이 다르다면  ->  선호도가 다르다  \n"
      ]
    },
    {
      "cell_type": "code",
      "metadata": {
        "colab": {
          "base_uri": "https://localhost:8080/",
          "height": 205
        },
        "id": "6cxR7Lo1_fGp",
        "outputId": "dd3bb465-e8e1-41dd-f224-8b0cc957ef5b"
      },
      "source": [
        "# 장르와 판매량만 포함하는 df2 선언후 결측치 처리\n",
        "df2 = df\n",
        "df2 = df2.drop(['Year','Platform'],axis=1)\n",
        "df2 = df2.dropna()\n",
        "df2.isna().sum()\n",
        "df2.head()"
      ],
      "execution_count": 32,
      "outputs": [
        {
          "output_type": "execute_result",
          "data": {
            "text/html": [
              "<div>\n",
              "<style scoped>\n",
              "    .dataframe tbody tr th:only-of-type {\n",
              "        vertical-align: middle;\n",
              "    }\n",
              "\n",
              "    .dataframe tbody tr th {\n",
              "        vertical-align: top;\n",
              "    }\n",
              "\n",
              "    .dataframe thead th {\n",
              "        text-align: right;\n",
              "    }\n",
              "</style>\n",
              "<table border=\"1\" class=\"dataframe\">\n",
              "  <thead>\n",
              "    <tr style=\"text-align: right;\">\n",
              "      <th></th>\n",
              "      <th>Genre</th>\n",
              "      <th>NA_Sales</th>\n",
              "      <th>EU_Sales</th>\n",
              "      <th>JP_Sales</th>\n",
              "      <th>Other_Sales</th>\n",
              "    </tr>\n",
              "  </thead>\n",
              "  <tbody>\n",
              "    <tr>\n",
              "      <th>0</th>\n",
              "      <td>Action</td>\n",
              "      <td>0.04</td>\n",
              "      <td>0.00</td>\n",
              "      <td>0.00</td>\n",
              "      <td>0.00</td>\n",
              "    </tr>\n",
              "    <tr>\n",
              "      <th>1</th>\n",
              "      <td>Action</td>\n",
              "      <td>0.17</td>\n",
              "      <td>0.00</td>\n",
              "      <td>0.00</td>\n",
              "      <td>0.01</td>\n",
              "    </tr>\n",
              "    <tr>\n",
              "      <th>2</th>\n",
              "      <td>Adventure</td>\n",
              "      <td>0.00</td>\n",
              "      <td>0.00</td>\n",
              "      <td>0.02</td>\n",
              "      <td>0.00</td>\n",
              "    </tr>\n",
              "    <tr>\n",
              "      <th>3</th>\n",
              "      <td>Misc</td>\n",
              "      <td>0.04</td>\n",
              "      <td>0.00</td>\n",
              "      <td>0.00</td>\n",
              "      <td>0.00</td>\n",
              "    </tr>\n",
              "    <tr>\n",
              "      <th>4</th>\n",
              "      <td>Platform</td>\n",
              "      <td>0.12</td>\n",
              "      <td>0.09</td>\n",
              "      <td>0.00</td>\n",
              "      <td>0.04</td>\n",
              "    </tr>\n",
              "  </tbody>\n",
              "</table>\n",
              "</div>"
            ],
            "text/plain": [
              "       Genre  NA_Sales  EU_Sales  JP_Sales  Other_Sales\n",
              "0     Action      0.04      0.00      0.00         0.00\n",
              "1     Action      0.17      0.00      0.00         0.01\n",
              "2  Adventure      0.00      0.00      0.02         0.00\n",
              "3       Misc      0.04      0.00      0.00         0.00\n",
              "4   Platform      0.12      0.09      0.00         0.04"
            ]
          },
          "metadata": {
            "tags": []
          },
          "execution_count": 32
        }
      ]
    },
    {
      "cell_type": "code",
      "metadata": {
        "colab": {
          "base_uri": "https://localhost:8080/"
        },
        "id": "CMgj5VhjFziI",
        "outputId": "96d1dcda-2735-41a4-af48-e5db679cb7c2"
      },
      "source": [
        "# 장르 선호도 비교해보기\n",
        "\n",
        "# 장르들 목록 선언\n",
        "genres = ['Action', 'Adventure', 'Fighting', 'Misc', 'Platform', 'Puzzle',\n",
        "       'Racing', 'Role-Playing', 'Shooter', 'Simulation', 'Sports',\n",
        "       'Strategy']\n",
        "\n",
        "# 각 장르에대한 지역별 판매량 비교\n",
        "for genre in genres:\n",
        "    genre_data = df2[df2['Genre'] == genre]\n",
        "    result = f_oneway(genre_data['NA_Sales'],genre_data['JP_Sales'],genre_data['EU_Sales'],genre_data['Other_Sales'])\n",
        "    print(genre, '/p-value =', result[1])\n",
        "\n",
        "# 여기서의 \" 귀무가설 = 지역간 장르별 판매량은 차이가없다 \"\n",
        "# 하지만 장르들의 p-value 값이 모두 0.05보다 현저히 작으므로 귀무가설을 기각할수 있다\n",
        "# 즉 \"각 지역간의 장르별 판매량은 차이가 있다\"\n",
        "# 지역별 장르의 선호도는 다르다"
      ],
      "execution_count": 33,
      "outputs": [
        {
          "output_type": "stream",
          "text": [
            "Action /p-value = 9.917382232427142e-147\n",
            "Adventure /p-value = 2.0945837982584205e-20\n",
            "Fighting /p-value = 1.2330556384385163e-43\n",
            "Misc /p-value = 6.440700553325507e-43\n",
            "Platform /p-value = 3.476396668290617e-28\n",
            "Puzzle /p-value = 7.747629545653912e-07\n",
            "Racing /p-value = 5.541020506203407e-39\n",
            "Role-Playing /p-value = 2.1695107684387342e-27\n",
            "Shooter /p-value = 1.8083226259160457e-63\n",
            "Simulation /p-value = 1.0172201539635495e-21\n",
            "Sports /p-value = 1.4237698139211029e-39\n",
            "Strategy /p-value = 2.6194762348013894e-12\n"
          ],
          "name": "stdout"
        }
      ]
    },
    {
      "cell_type": "code",
      "metadata": {
        "id": "ql65qUBkHV_2"
      },
      "source": [
        "ddt = df2.T.drop('Genre',axis=1)\n",
        "\n",
        "scaler = StandardScaler()\n",
        "df_scaled = scaler.fit_transform(ddt)\n",
        "df_scaled\n",
        "\n",
        "pca = PCA(2)\n",
        "pca_df = pca.fit_transform(df_scaled)\n",
        "pca_df = pd.DataFrame(pca_df, columns=['g1','g2'])\n",
        "pca_df\n",
        "\n",
        "stats.spearmanr(pca_df.g1,pca_df.g2)\n"
      ],
      "execution_count": null,
      "outputs": []
    },
    {
      "cell_type": "markdown",
      "metadata": {
        "id": "MfMrUpW2VYjT"
      },
      "source": [
        "- 연도별 게임의 트랜드가 있을까?\n",
        "  - 연도의 장르별 갯수가 다르다면 - > 트랜드가 있다\n",
        "  - 연도의 장르별 갯수가 비슷하다면 - > 트랜드가 없다  \n",
        "(트랜드가 의미하는것이 장르의 갯수일까? 장르의 판매량일까 ?)"
      ]
    },
    {
      "cell_type": "code",
      "metadata": {
        "colab": {
          "base_uri": "https://localhost:8080/",
          "height": 205
        },
        "id": "J33HGkyGOHlz",
        "outputId": "dd2a0a4e-3502-4027-86be-fee1018fb182"
      },
      "source": [
        "# 연도와 장르만 포함한 df3 선언후 결측치 처리\n",
        "df3 = df[['Year','Genre']].dropna()\n",
        "df3.isna().sum()\n",
        "\n",
        "# 네자리로 통일시킨후 catogorical 하게 바꾸는 함수 선언\n",
        "def make_year(year):\n",
        "    if year < 21:\n",
        "        return str(year+2000)\n",
        "    elif year > 80 and year <= 99:\n",
        "        return str(year+1900)\n",
        "    else:\n",
        "        return str(year)\n",
        "\n",
        "# apply 사용해서 단위 통일\n",
        "df3['Year'] = df3['Year'].apply(make_year)\n",
        "df3.head()"
      ],
      "execution_count": 39,
      "outputs": [
        {
          "output_type": "execute_result",
          "data": {
            "text/html": [
              "<div>\n",
              "<style scoped>\n",
              "    .dataframe tbody tr th:only-of-type {\n",
              "        vertical-align: middle;\n",
              "    }\n",
              "\n",
              "    .dataframe tbody tr th {\n",
              "        vertical-align: top;\n",
              "    }\n",
              "\n",
              "    .dataframe thead th {\n",
              "        text-align: right;\n",
              "    }\n",
              "</style>\n",
              "<table border=\"1\" class=\"dataframe\">\n",
              "  <thead>\n",
              "    <tr style=\"text-align: right;\">\n",
              "      <th></th>\n",
              "      <th>Year</th>\n",
              "      <th>Genre</th>\n",
              "    </tr>\n",
              "  </thead>\n",
              "  <tbody>\n",
              "    <tr>\n",
              "      <th>0</th>\n",
              "      <td>2008.0</td>\n",
              "      <td>Action</td>\n",
              "    </tr>\n",
              "    <tr>\n",
              "      <th>1</th>\n",
              "      <td>2009.0</td>\n",
              "      <td>Action</td>\n",
              "    </tr>\n",
              "    <tr>\n",
              "      <th>2</th>\n",
              "      <td>2010.0</td>\n",
              "      <td>Adventure</td>\n",
              "    </tr>\n",
              "    <tr>\n",
              "      <th>3</th>\n",
              "      <td>2010.0</td>\n",
              "      <td>Misc</td>\n",
              "    </tr>\n",
              "    <tr>\n",
              "      <th>4</th>\n",
              "      <td>2010.0</td>\n",
              "      <td>Platform</td>\n",
              "    </tr>\n",
              "  </tbody>\n",
              "</table>\n",
              "</div>"
            ],
            "text/plain": [
              "     Year      Genre\n",
              "0  2008.0     Action\n",
              "1  2009.0     Action\n",
              "2  2010.0  Adventure\n",
              "3  2010.0       Misc\n",
              "4  2010.0   Platform"
            ]
          },
          "metadata": {
            "tags": []
          },
          "execution_count": 39
        }
      ]
    },
    {
      "cell_type": "code",
      "metadata": {
        "id": "5FYUPbv6GGMm",
        "colab": {
          "base_uri": "https://localhost:8080/"
        },
        "outputId": "b3abdb54-103c-45ef-c450-2711a778b974"
      },
      "source": [
        "# 장르의 갯수라면 ? \n",
        "# 연도별 장르의 갯수를 나타내는 데이터프레임 선언\n",
        "year_genre = pd.crosstab(df3.Year,df3.Genre)\n",
        "year_genre.head()\n",
        "\n",
        "scaler = StandardScaler()\n",
        "df_scaled = scaler.fit_transform(year_genre)\n",
        "df_scaled\n",
        "\n",
        "pca = PCA(2)\n",
        "pca_df = pca.fit_transform(df_scaled)\n",
        "pca_df = pd.DataFrame(pca_df, columns=['g1','g2'])\n",
        "pca_df\n",
        "\n",
        "stats.spearmanr(pca_df.g1,pca_df.g2)"
      ],
      "execution_count": 38,
      "outputs": [
        {
          "output_type": "execute_result",
          "data": {
            "text/plain": [
              "SpearmanrResult(correlation=0.07469635627530365, pvalue=0.6513166876572201)"
            ]
          },
          "metadata": {
            "tags": []
          },
          "execution_count": 38
        }
      ]
    },
    {
      "cell_type": "code",
      "metadata": {
        "id": "IjAQDNVAo7MX"
      },
      "source": [
        "# 장르의 판매량이라면 ?\n",
        "# 연도"
      ],
      "execution_count": null,
      "outputs": []
    },
    {
      "cell_type": "code",
      "metadata": {
        "id": "KGO8P31ICmpY"
      },
      "source": [
        "# 연도별 데이터나누기\n",
        "\n",
        "# 연도리스트 생성\n",
        "years = ['1980.0', '1981.0', '1982.0', '1983.0', '1984.0', '1985.0', '1986.0',\n",
        "       '1987.0', '1988.0', '1989.0', '1990.0', '1991.0', '1992.0', '1993.0',\n",
        "       '1994.0', '1995.0', '1996.0', '1997.0', '1998.0', '1999.0', '2000.0',\n",
        "       '2001.0', '2002.0', '2003.0', '2004.0', '2005.0', '2006.0', '2007.0',\n",
        "       '2008.0', '2009.0', '2010.0', '2011.0', '2012.0', '2013.0', '2014.0',\n",
        "       '2015.0', '2016.0', '2017.0', '2020.0']\n",
        "\n",
        "\n"
      ],
      "execution_count": 371,
      "outputs": []
    },
    {
      "cell_type": "markdown",
      "metadata": {
        "id": "-Xej8yxWN9rj"
      },
      "source": [
        "# 2. 플랫폼은 어떻게 선택할까?\n",
        "\n",
        "- 플랫폼과 지역별 판매량은 연관이있을까?\n",
        "\n",
        "\n"
      ]
    },
    {
      "cell_type": "code",
      "metadata": {
        "colab": {
          "base_uri": "https://localhost:8080/",
          "height": 205
        },
        "id": "dlsQpqH-ONt4",
        "outputId": "98d11d00-79c0-4fb2-8511-b623ac386d22"
      },
      "source": [
        "# 플랫폼과 지역별 판매액만 나타내는 데이터프레임 선언, 결측치제거\n",
        "df4 = df.drop(['Year','Genre'],axis=1)\n",
        "df4 = df4.dropna()\n",
        "df4.head()"
      ],
      "execution_count": 367,
      "outputs": [
        {
          "output_type": "execute_result",
          "data": {
            "text/html": [
              "<div>\n",
              "<style scoped>\n",
              "    .dataframe tbody tr th:only-of-type {\n",
              "        vertical-align: middle;\n",
              "    }\n",
              "\n",
              "    .dataframe tbody tr th {\n",
              "        vertical-align: top;\n",
              "    }\n",
              "\n",
              "    .dataframe thead th {\n",
              "        text-align: right;\n",
              "    }\n",
              "</style>\n",
              "<table border=\"1\" class=\"dataframe\">\n",
              "  <thead>\n",
              "    <tr style=\"text-align: right;\">\n",
              "      <th></th>\n",
              "      <th>Platform</th>\n",
              "      <th>NA_Sales</th>\n",
              "      <th>EU_Sales</th>\n",
              "      <th>JP_Sales</th>\n",
              "      <th>Other_Sales</th>\n",
              "    </tr>\n",
              "  </thead>\n",
              "  <tbody>\n",
              "    <tr>\n",
              "      <th>0</th>\n",
              "      <td>DS</td>\n",
              "      <td>0.04</td>\n",
              "      <td>0.00</td>\n",
              "      <td>0.00</td>\n",
              "      <td>0.00</td>\n",
              "    </tr>\n",
              "    <tr>\n",
              "      <th>1</th>\n",
              "      <td>Wii</td>\n",
              "      <td>0.17</td>\n",
              "      <td>0.00</td>\n",
              "      <td>0.00</td>\n",
              "      <td>0.01</td>\n",
              "    </tr>\n",
              "    <tr>\n",
              "      <th>2</th>\n",
              "      <td>PSP</td>\n",
              "      <td>0.00</td>\n",
              "      <td>0.00</td>\n",
              "      <td>0.02</td>\n",
              "      <td>0.00</td>\n",
              "    </tr>\n",
              "    <tr>\n",
              "      <th>3</th>\n",
              "      <td>DS</td>\n",
              "      <td>0.04</td>\n",
              "      <td>0.00</td>\n",
              "      <td>0.00</td>\n",
              "      <td>0.00</td>\n",
              "    </tr>\n",
              "    <tr>\n",
              "      <th>4</th>\n",
              "      <td>PS3</td>\n",
              "      <td>0.12</td>\n",
              "      <td>0.09</td>\n",
              "      <td>0.00</td>\n",
              "      <td>0.04</td>\n",
              "    </tr>\n",
              "  </tbody>\n",
              "</table>\n",
              "</div>"
            ],
            "text/plain": [
              "  Platform  NA_Sales  EU_Sales  JP_Sales  Other_Sales\n",
              "0       DS      0.04      0.00      0.00         0.00\n",
              "1      Wii      0.17      0.00      0.00         0.01\n",
              "2      PSP      0.00      0.00      0.02         0.00\n",
              "3       DS      0.04      0.00      0.00         0.00\n",
              "4      PS3      0.12      0.09      0.00         0.04"
            ]
          },
          "metadata": {
            "tags": []
          },
          "execution_count": 367
        }
      ]
    },
    {
      "cell_type": "code",
      "metadata": {
        "id": "IFUXp0lWetRQ",
        "colab": {
          "base_uri": "https://localhost:8080/"
        },
        "outputId": "2e54f798-302c-4868-a12a-0f7b6102b313"
      },
      "source": [
        "# 플랫폼 리스트 선언\n",
        "platforms = ['2600', '3DO', '3DS', 'DC', 'DS', 'GB', 'GBA', 'GC', 'GEN', 'GG', 'N64',\n",
        "       'NES', 'NG', 'PC', 'PCFX', 'PS', 'PS2', 'PS3', 'PS4', 'PSP', 'PSV',\n",
        "       'SAT', 'SCD', 'SNES', 'TG16', 'WS', 'Wii', 'WiiU', 'X360', 'XB',\n",
        "       'XOne']\n",
        "\n",
        "# 각 플랫폼별 데이터 분리\n",
        "def makePlatform(df):\n",
        "    for platform in platforms:\n",
        "        platform_data = df4[df4['Platform'] == platform]\n",
        "        result = f_oneway(platform_data['NA_Sales'],platform_data['JP_Sales'],platform_data['EU_Sales'],platform_data['Other_Sales'])\n",
        "        print(platform, '/p-value =', result[1])\n",
        "\n",
        "makePlatform(df4)\n",
        "\n",
        "# 귀무가설은 지역별 플랫폼의 판매량은 차이가 없다\n",
        "# 결과는 아주오래된 몇개의 플랫폼을 제외하고는 모두 0.05보다 훨씬 낮은 p-value값을 가졌다\n",
        "# 그러므로 귀무가설을 기각할 수 있고, 지역별 플랫폼의 판매량은 차이가 있다 고 판단할 수 있다\n",
        "# 즉 지역별 플랫폼의 선호도는 다르다"
      ],
      "execution_count": 368,
      "outputs": [
        {
          "output_type": "stream",
          "text": [
            "2600 /p-value = 3.136406828910054e-42\n",
            "3DO /p-value = 0.017162023580482293\n",
            "3DS /p-value = 9.455209761154263e-10\n",
            "DC /p-value = 0.00025256814746011486\n",
            "DS /p-value = 7.303193580388891e-31\n",
            "GB /p-value = 0.00017150874520351794\n",
            "GBA /p-value = 2.2205794111493737e-53\n",
            "GC /p-value = 7.714143836255033e-62\n",
            "GEN /p-value = 0.0002372932225412577\n",
            "GG /p-value = nan\n",
            "N64 /p-value = 1.1672258273331049e-31\n",
            "NES /p-value = 4.8735256244936565e-05\n",
            "NG /p-value = 1.0011788008419206e-09\n",
            "PC /p-value = 2.180888936680166e-34\n",
            "PCFX /p-value = nan\n",
            "PS /p-value = 2.2098341986663434e-58\n",
            "PS2 /p-value = 1.0035671961679485e-71\n",
            "PS3 /p-value = 2.372704652390955e-56\n",
            "PS4 /p-value = 4.3547886105079335e-17\n",
            "PSP /p-value = 1.7909100328021057e-11\n",
            "PSV /p-value = 0.006047894173131857\n",
            "SAT /p-value = 1.7092865289945671e-65\n",
            "SCD /p-value = 0.6543526382795086\n",
            "SNES /p-value = 2.6965843101790935e-16\n",
            "TG16 /p-value = 0.29035241802349165\n",
            "WS /p-value = 5.5371926648596975e-05\n",
            "Wii /p-value = 5.524957156652667e-22\n",
            "WiiU /p-value = 1.33240566024685e-07\n",
            "X360 /p-value = 4.498129177185492e-101\n",
            "XB /p-value = 2.886602418452676e-106\n",
            "XOne /p-value = 1.907247483069732e-28\n"
          ],
          "name": "stdout"
        },
        {
          "output_type": "stream",
          "text": [
            "/usr/local/lib/python3.7/dist-packages/scipy/stats/stats.py:3348: RuntimeWarning: invalid value encountered in double_scalars\n",
            "  msw = sswn / dfwn\n"
          ],
          "name": "stderr"
        }
      ]
    },
    {
      "cell_type": "markdown",
      "metadata": {
        "id": "j0jOOZu-lq12"
      },
      "source": [
        "# 4. 출고량이 많은 게임을 분석하고 시각화해보자\n",
        "\n",
        "출고량 순서대로 그래프를 그려보자"
      ]
    },
    {
      "cell_type": "code",
      "metadata": {
        "id": "kDcImloYlvj5"
      },
      "source": [
        ""
      ],
      "execution_count": null,
      "outputs": []
    },
    {
      "cell_type": "markdown",
      "metadata": {
        "id": "vLNWBlA1lxjN"
      },
      "source": [
        "# 결론\n",
        "## 판매량과 다른 요소들의 관계를 비교해보자  \n",
        "위의 분석들을 통해 다음과 같은 결론을 내릴 수 있다  \n",
        "\n",
        "판매량 - 장르  \n",
        "판매량 - 플랫폼  \n",
        "판매량 - \n",
        "\n",
        "이 우선순위를 바탕으로  \n",
        "최근 판매량이 많은 게임을 분석하여 적용시켜본다면  \n",
        "\n",
        "목적에 부합하는  \n",
        "\"잘 팔리는 게임\"을 만들 수 있는 가능성이 높다  \n",
        "\n",
        "~ 한 게임을 만드는것이 좋다"
      ]
    },
    {
      "cell_type": "code",
      "metadata": {
        "id": "ysJdFLbLnLtj",
        "colab": {
          "base_uri": "https://localhost:8080/"
        },
        "outputId": "afe7bf8f-dfe3-48f7-ad1b-c8a31b267588"
      },
      "source": [
        "Rs = [8,1,1]\n",
        "Ws = [1,1,8]\n",
        "Ps = [1,8,1]\n",
        "\n",
        "f_oneway(Rs,Ws,Ps)"
      ],
      "execution_count": 26,
      "outputs": [
        {
          "output_type": "execute_result",
          "data": {
            "text/plain": [
              "F_onewayResult(statistic=0.0, pvalue=1.0)"
            ]
          },
          "metadata": {
            "tags": []
          },
          "execution_count": 26
        }
      ]
    },
    {
      "cell_type": "code",
      "metadata": {
        "id": "pT7F8PCR4BO2",
        "colab": {
          "base_uri": "https://localhost:8080/"
        },
        "outputId": "b896c09d-99ed-4dd6-f4e2-680fdbd6d6cc"
      },
      "source": [
        "g11"
      ],
      "execution_count": 22,
      "outputs": [
        {
          "output_type": "execute_result",
          "data": {
            "text/plain": [
              "[8, 1, 1]"
            ]
          },
          "metadata": {
            "tags": []
          },
          "execution_count": 22
        }
      ]
    },
    {
      "cell_type": "markdown",
      "metadata": {
        "id": "7L9-qDDfvysl"
      },
      "source": [
        "# 잘못된 자료들"
      ]
    },
    {
      "cell_type": "code",
      "metadata": {
        "id": "ziQLXn90v0EO"
      },
      "source": [
        "# 정체불명의 장르분포비교 ,\n",
        "ge_lo = df2.groupby('Genre').sum().T\n",
        "\n",
        "# 각 지역별 장르의 분포를 비교하는 F-test 실시\n",
        "ge_loc = f_oneway(ge_lo['Action'],ge_lo['Adventure'],ge_lo['Fighting'],ge_lo['Misc'],ge_lo['Platform'],ge_lo['Puzzle'],ge_lo['Racing'],ge_lo['Role-Playing'],ge_lo['Shooter'],ge_lo['Simulation'],ge_lo['Sports'],ge_lo['Strategy'])\n",
        "print(\"P-value :\", ge_loc.pvalue)\n",
        "\n",
        "print(\"\"\"\n",
        "여기서의 귀무가설은 \"장르별 판매량은 차이가없다\" 이다\n",
        "\n",
        "p-value의 값은 0.051 이므로 귀무가설을 기각할 수 없다\n",
        "지역의 장르별 판매량은 차이가없다. 즉, 선호도가 비슷하다 \n",
        "\"\"\")"
      ],
      "execution_count": null,
      "outputs": []
    },
    {
      "cell_type": "code",
      "metadata": {
        "id": "JymkQGZ-qnMl"
      },
      "source": [
        "# 플랫폼별 장르의 판매량 나타내는 함수 선언\n",
        "platforms = ['2600', '3DO', '3DS', 'DC', 'DS', 'GB', 'GBA', 'GC', 'GEN', 'GG', 'N64',\n",
        "       'NES', 'NG', 'PC', 'PCFX', 'PS', 'PS2', 'PS3', 'PS4', 'PSP', 'PSV',\n",
        "       'SAT', 'SCD', 'SNES', 'TG16', 'WS', 'Wii', 'WiiU', 'X360', 'XB',\n",
        "       'XOne']\n",
        "\n",
        "def platformGenre(df):\n",
        "    df_empty = pd.DataFrame(columns=['Action','Adventure',\t'Fighting',\t'Misc',\t'Platform',\t'Puzzle',\t'Racing',\t'Role-Playing',\t'Shooter',\t'Simulation',\t'Sports',\t'Strategy'])\n",
        "    for platform in platforms:\n",
        "        plat = df[df['Platform'] == platform]\n",
        "        plat = plat[['Genre','Total_Sales']]\n",
        "        result = plat.groupby('Genre').mean().T\n",
        "        result = result.rename(index={'Total_Sales': platform})\n",
        "        df_empty = pd.concat([df_empty,result])\n",
        "    return df_empty\n",
        "\n",
        "platformGenre(df_platform_genre)"
      ],
      "execution_count": null,
      "outputs": []
    }
  ]
}