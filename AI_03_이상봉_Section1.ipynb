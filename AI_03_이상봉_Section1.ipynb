{
  "nbformat": 4,
  "nbformat_minor": 0,
  "metadata": {
    "colab": {
      "name": "project1_이상봉.ipynb",
      "provenance": [],
      "collapsed_sections": []
    },
    "kernelspec": {
      "name": "python3",
      "display_name": "Python 3"
    },
    "language_info": {
      "name": "python"
    }
  },
  "cells": [
    {
      "cell_type": "markdown",
      "metadata": {
        "id": "xNm35ClGwGE0"
      },
      "source": [
        "# Project_One_이상봉\n",
        "\n",
        "## 주제와 목적\n",
        "최근 북미, 유럽, 일본, 그외 지역에서의 게임 판매량 데이터를 분석하고  \n",
        "분석을 바탕으로 다음 분기에 게임 설계 방향을 정하는것이다    \n",
        "정확한 분석을 위해서는 게임의 판매량에 영향을 미치는요인이 무엇인지 알아내야한다.  \n",
        "\n",
        "## 우선 분석과정을 4개의 작은 단위로 나눠볼 수 있다\n",
        "1. 지역별 선호하는 장르가 다른가?\n",
        "2. 연도별 트랜드가 있는가?\n",
        "3. 플랫폼에따른 판매량의 차이가 있는가?\n",
        "4. 판매량이 가장 높은 게임들은 무슨 특징을 가지고 있는가?\n",
        "\n",
        "이 분석과정을 통해, **\"잘 팔리는\"** 게임을 만들기위해 어떤 부분을 우선시 해야하는지를 판단해야 한다\n"
      ]
    },
    {
      "cell_type": "markdown",
      "metadata": {
        "id": "Hqvk5acKkl4A"
      },
      "source": [
        "분석을 시작하기전에, 데이터를 좀더 깔끔하게 다듬는 전처리 작업을 진행하였다  \n",
        "# 전처리작업(EDA)\n",
        "우선 데이터내의 수치를 일관성있게 통일하기위해 전처리작업을 진행하였다  \n",
        "전처리작업이란, 숫자의단위나 알파벳의 대소문자의 통일, 알수없는값이나 비어있는값을 처리하여 데이터의 오류를 줄이는 과정이다."
      ]
    },
    {
      "cell_type": "code",
      "metadata": {
        "id": "KaSK2caSlPW4"
      },
      "source": [
        "import pandas as pd\n",
        "import numpy as np\n",
        "from scipy.stats import chi2_contingency, f_oneway\n",
        "\n",
        "\n",
        "# 데이터 불러오기\n",
        "df = pd.read_csv('/content/drive/MyDrive/AI_bootcamp/vgames2.csv', encoding='CP949')\n",
        "\n",
        "# 인덱스제거\n",
        "df = df.drop(['Unnamed: 0','Name','Publisher'], axis=1)"
      ],
      "execution_count": 122,
      "outputs": []
    },
    {
      "cell_type": "code",
      "metadata": {
        "colab": {
          "base_uri": "https://localhost:8080/"
        },
        "id": "kHVwjbdwlQY-",
        "outputId": "8e7c027f-ee47-4cee-9a8f-933925292220"
      },
      "source": [
        "# 판매량을 (0.00) 단위로 통일하고 float으로 변경\n",
        "def unification(string):\n",
        "    # K가 있다면 지우고 천 곱하고 백만으로 나누기\n",
        "    if ('K' in string) == True:\n",
        "        # 만약 0K 라면 0.001로 바로바꾸기\n",
        "        if string == '0K':\n",
        "            return float(0.001)\n",
        "        else:\n",
        "            remove_k = string.replace('K','')\n",
        "            return float(remove_k)*0.001\n",
        "    # M이 있다면 지우기\n",
        "    elif ('M' in string) == True:\n",
        "        # 만약 OM 이라면 1.0으로 바꾸기\n",
        "        if string == '0M':\n",
        "            return float(1.0)\n",
        "        else:\n",
        "            remove_m = string.replace('M','')\n",
        "            return float(remove_m)\n",
        "    # 둘다없다면 타입만바꾸기\n",
        "    else:\n",
        "        return float(string)\n",
        "\n",
        "# 판매량 칼럽의 단위통일시키기\n",
        "df['NA_Sales'] = df['NA_Sales'].apply(unification)\n",
        "df['JP_Sales'] = df['JP_Sales'].apply(unification)\n",
        "df['EU_Sales'] = df['EU_Sales'].apply(unification)\n",
        "df['Other_Sales'] = df['Other_Sales'].apply(unification)\n",
        "\n",
        "# datatype이 object->float으로 되었는지 확인\n",
        "df.dtypes"
      ],
      "execution_count": 123,
      "outputs": [
        {
          "output_type": "execute_result",
          "data": {
            "text/plain": [
              "Platform        object\n",
              "Year           float64\n",
              "Genre           object\n",
              "NA_Sales       float64\n",
              "EU_Sales       float64\n",
              "JP_Sales       float64\n",
              "Other_Sales    float64\n",
              "dtype: object"
            ]
          },
          "metadata": {
            "tags": []
          },
          "execution_count": 123
        }
      ]
    },
    {
      "cell_type": "code",
      "metadata": {
        "id": "nRLi2kFOo-ia"
      },
      "source": [
        "# Year 칼럼 네자리로 통일시키기\n",
        "def make_year(year):\n",
        "    if year < 21:\n",
        "        return float(year+2000)\n",
        "    elif year > 80 and year <= 99:\n",
        "        return float(year+1900)\n",
        "    else:\n",
        "        return float(year)\n",
        "\n",
        "df['Year'] = df['Year'].apply(make_year)"
      ],
      "execution_count": 124,
      "outputs": []
    },
    {
      "cell_type": "code",
      "metadata": {
        "colab": {
          "base_uri": "https://localhost:8080/"
        },
        "id": "vO9HXjhs35lQ",
        "outputId": "210dca58-3173-4359-bd5c-19fa284e84f0"
      },
      "source": [
        "# 결측치 위치 확인하기\n",
        "# 이값은 후에 다시 다루기\n",
        "df.isna().sum()"
      ],
      "execution_count": 125,
      "outputs": [
        {
          "output_type": "execute_result",
          "data": {
            "text/plain": [
              "Platform         0\n",
              "Year           271\n",
              "Genre           50\n",
              "NA_Sales         0\n",
              "EU_Sales         0\n",
              "JP_Sales         0\n",
              "Other_Sales      0\n",
              "dtype: int64"
            ]
          },
          "metadata": {
            "tags": []
          },
          "execution_count": 125
        }
      ]
    },
    {
      "cell_type": "markdown",
      "metadata": {
        "id": "2-4sokgN_edQ"
      },
      "source": [
        "전처리가 끝난 데이터로 분석해보자  \n",
        "\n",
        "\n",
        "# 1. 지역별 선호하는 장르가 다른가?  \n",
        "다시말해  \n",
        "**\"장르의 지역별 판매량이 서로 비슷한가가?\"**  \n",
        "**\"미국에서 잘 팔린 레이싱게임이 다른지역에서도 잘 팔리는가,  \n",
        "아니면 미국에서만 잘팔렸는가?\"**  \n",
        "정도로 이해할 수 있다  \n",
        "\n",
        "우선 장르들이 각각의 나라에서의 총판매량을 알아야한다  \n",
        "그 후 각 장르의 총판매량이 얼마나 비슷한지를 확인하여\n",
        "비슷하다면, 선호하는 장르가 비슷하다  \n",
        "비슷하지않다면, 선호하는 장르다 다르다  \n",
        "고 결론내릴 수 있다\n"
      ]
    },
    {
      "cell_type": "code",
      "metadata": {
        "colab": {
          "base_uri": "https://localhost:8080/",
          "height": 455
        },
        "id": "6cxR7Lo1_fGp",
        "outputId": "6b922868-7e54-4cbf-90ad-31c26f6137ec"
      },
      "source": [
        "# 각 지역에서 장르의 총 판매량 확인\n",
        "df_genre_loc = df.groupby('Genre').sum().drop('Year',axis=1)\n",
        "df_genre_loc"
      ],
      "execution_count": 126,
      "outputs": [
        {
          "output_type": "execute_result",
          "data": {
            "text/html": [
              "<div>\n",
              "<style scoped>\n",
              "    .dataframe tbody tr th:only-of-type {\n",
              "        vertical-align: middle;\n",
              "    }\n",
              "\n",
              "    .dataframe tbody tr th {\n",
              "        vertical-align: top;\n",
              "    }\n",
              "\n",
              "    .dataframe thead th {\n",
              "        text-align: right;\n",
              "    }\n",
              "</style>\n",
              "<table border=\"1\" class=\"dataframe\">\n",
              "  <thead>\n",
              "    <tr style=\"text-align: right;\">\n",
              "      <th></th>\n",
              "      <th>NA_Sales</th>\n",
              "      <th>EU_Sales</th>\n",
              "      <th>JP_Sales</th>\n",
              "      <th>Other_Sales</th>\n",
              "    </tr>\n",
              "    <tr>\n",
              "      <th>Genre</th>\n",
              "      <th></th>\n",
              "      <th></th>\n",
              "      <th></th>\n",
              "      <th></th>\n",
              "    </tr>\n",
              "  </thead>\n",
              "  <tbody>\n",
              "    <tr>\n",
              "      <th>Action</th>\n",
              "      <td>878.814</td>\n",
              "      <td>528.163</td>\n",
              "      <td>169.910</td>\n",
              "      <td>194.461</td>\n",
              "    </tr>\n",
              "    <tr>\n",
              "      <th>Adventure</th>\n",
              "      <td>108.660</td>\n",
              "      <td>70.052</td>\n",
              "      <td>53.954</td>\n",
              "      <td>19.815</td>\n",
              "    </tr>\n",
              "    <tr>\n",
              "      <th>Fighting</th>\n",
              "      <td>223.200</td>\n",
              "      <td>103.224</td>\n",
              "      <td>89.344</td>\n",
              "      <td>38.641</td>\n",
              "    </tr>\n",
              "    <tr>\n",
              "      <th>Misc</th>\n",
              "      <td>410.055</td>\n",
              "      <td>220.366</td>\n",
              "      <td>119.274</td>\n",
              "      <td>75.045</td>\n",
              "    </tr>\n",
              "    <tr>\n",
              "      <th>Platform</th>\n",
              "      <td>446.440</td>\n",
              "      <td>201.610</td>\n",
              "      <td>133.656</td>\n",
              "      <td>54.536</td>\n",
              "    </tr>\n",
              "    <tr>\n",
              "      <th>Puzzle</th>\n",
              "      <td>123.351</td>\n",
              "      <td>51.732</td>\n",
              "      <td>58.871</td>\n",
              "      <td>13.522</td>\n",
              "    </tr>\n",
              "    <tr>\n",
              "      <th>Racing</th>\n",
              "      <td>360.191</td>\n",
              "      <td>239.101</td>\n",
              "      <td>63.409</td>\n",
              "      <td>78.102</td>\n",
              "    </tr>\n",
              "    <tr>\n",
              "      <th>Role-Playing</th>\n",
              "      <td>323.542</td>\n",
              "      <td>187.583</td>\n",
              "      <td>344.955</td>\n",
              "      <td>61.965</td>\n",
              "    </tr>\n",
              "    <tr>\n",
              "      <th>Shooter</th>\n",
              "      <td>582.921</td>\n",
              "      <td>313.052</td>\n",
              "      <td>42.284</td>\n",
              "      <td>105.653</td>\n",
              "    </tr>\n",
              "    <tr>\n",
              "      <th>Simulation</th>\n",
              "      <td>186.961</td>\n",
              "      <td>113.353</td>\n",
              "      <td>65.704</td>\n",
              "      <td>34.483</td>\n",
              "    </tr>\n",
              "    <tr>\n",
              "      <th>Sports</th>\n",
              "      <td>683.525</td>\n",
              "      <td>377.486</td>\n",
              "      <td>147.379</td>\n",
              "      <td>140.673</td>\n",
              "    </tr>\n",
              "    <tr>\n",
              "      <th>Strategy</th>\n",
              "      <td>74.706</td>\n",
              "      <td>47.321</td>\n",
              "      <td>50.461</td>\n",
              "      <td>16.364</td>\n",
              "    </tr>\n",
              "  </tbody>\n",
              "</table>\n",
              "</div>"
            ],
            "text/plain": [
              "              NA_Sales  EU_Sales  JP_Sales  Other_Sales\n",
              "Genre                                                  \n",
              "Action         878.814   528.163   169.910      194.461\n",
              "Adventure      108.660    70.052    53.954       19.815\n",
              "Fighting       223.200   103.224    89.344       38.641\n",
              "Misc           410.055   220.366   119.274       75.045\n",
              "Platform       446.440   201.610   133.656       54.536\n",
              "Puzzle         123.351    51.732    58.871       13.522\n",
              "Racing         360.191   239.101    63.409       78.102\n",
              "Role-Playing   323.542   187.583   344.955       61.965\n",
              "Shooter        582.921   313.052    42.284      105.653\n",
              "Simulation     186.961   113.353    65.704       34.483\n",
              "Sports         683.525   377.486   147.379      140.673\n",
              "Strategy        74.706    47.321    50.461       16.364"
            ]
          },
          "metadata": {
            "tags": []
          },
          "execution_count": 126
        }
      ]
    },
    {
      "cell_type": "code",
      "metadata": {
        "colab": {
          "base_uri": "https://localhost:8080/"
        },
        "id": "CN2APiTXJ-ea",
        "outputId": "f199cfc7-6c07-4a91-8c4b-79915288ec14"
      },
      "source": [
        "# H0 = 지역별 장르의 판매량 분포는 차이가없다\n",
        "\n",
        "# 각 지역별 분포를 비교하는 F-test 실시\n",
        "dif_genre_loc = f_oneway(df_genre_loc['EU_Sales'],df_genre_loc['JP_Sales'],df_genre_loc['NA_Sales'],df_genre_loc['Other_Sales'])\n",
        "print(dif_genre_loc.pvalue)\n",
        "\n",
        "# p-value 매우작음 -> H0 기각 -> 지역별 장르의 판매량 분포는 차이가 있다\n",
        "\n",
        "# 즉 지역별로 선호하는 장르가 다르다"
      ],
      "execution_count": 132,
      "outputs": [
        {
          "output_type": "stream",
          "text": [
            "9.854620901886625e-05\n"
          ],
          "name": "stdout"
        }
      ]
    },
    {
      "cell_type": "code",
      "metadata": {
        "id": "3n04a6prLl-n"
      },
      "source": [
        ""
      ],
      "execution_count": 133,
      "outputs": []
    },
    {
      "cell_type": "code",
      "metadata": {
        "id": "J33HGkyGOHlz"
      },
      "source": [
        ""
      ],
      "execution_count": null,
      "outputs": []
    },
    {
      "cell_type": "markdown",
      "metadata": {
        "id": "jkJV2-ykQ9tm"
      },
      "source": [
        "통계학적 방법을 이용하여 데이터를 **단순화** 시켜  \n",
        "효율적이고 정확한 비교를 해야한다  \n",
        "\n",
        "단순화란 무엇일까? 예를들면  \n",
        "산에 조난되었는데 먹을게 버섯밖에없다  \n",
        "독버섯은 여러가지 특징들이 있지만, 정확히 구분하기가 힘들다  \n",
        "하지만 책에서 \"독버섯의 95%가 빨간색이다\" 라는 글이 생각났고 빨간버섯은 피했다    \n",
        "이와 같은 맥락이다  \n",
        "수많은 데이터가 있고 그중 가장 영향력있는 조건하나를 찾거나 조합해내서  \n",
        "그 조건을 기준으로 최대한 정확하게 판단하는것이다  \n"
      ]
    },
    {
      "cell_type": "code",
      "metadata": {
        "id": "p_KVs6HZQ-WI"
      },
      "source": [
        ""
      ],
      "execution_count": null,
      "outputs": []
    }
  ]
}