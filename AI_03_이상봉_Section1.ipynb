{
  "nbformat": 4,
  "nbformat_minor": 0,
  "metadata": {
    "colab": {
      "name": "project1_이상봉.ipynb",
      "provenance": [],
      "collapsed_sections": []
    },
    "kernelspec": {
      "name": "python3",
      "display_name": "Python 3"
    },
    "language_info": {
      "name": "python"
    }
  },
  "cells": [
    {
      "cell_type": "markdown",
      "metadata": {
        "id": "xNm35ClGwGE0"
      },
      "source": [
        "# Project_One_이상봉\n",
        "\n",
        "## 주제와 목적\n",
        "최근 북미, 유럽, 일본, 그외 지역에서의 게임 판매량 데이터를 분석하고  \n",
        "분석을 바탕으로 다음 분기에 게임 설계 방향을 정하는것이다    \n",
        "정확한 분석을 위해서는 게임의 판매량에 영향을 미치는요인이 무엇인지 알아내야한다.  \n",
        "\n",
        "## 우선 분석과정을 4개의 작은 단위로 나눠볼 수 있다\n",
        "1. 지역별 선호하는 장르가 다른가?\n",
        "2. 연도별 트랜드가 있는가?\n",
        "3. 플랫폼에따른 판매량의 차이가 있는가?\n",
        "4. 판매량이 가장 높은 게임들은 무슨 특징을 가지고 있는가?\n",
        "\n",
        "이 분석과정을 통해, **\"잘 팔리는\"** 게임을 만들기위해 어떤 부분을 우선시 해야하는지를 판단해야 한다\n"
      ]
    },
    {
      "cell_type": "markdown",
      "metadata": {
        "id": "Hqvk5acKkl4A"
      },
      "source": [
        "분석을 시작하기전에, 데이터를 좀더 깔끔하게 다듬는 전처리 작업을 진행하였다  \n",
        "# 전처리작업(EDA)\n",
        "우선 데이터내의 수치를 일관성있게 통일하기위해 전처리작업을 진행하였다  \n",
        "전처리작업이란, 숫자의단위나 알파벳의 대소문자의 통일, 알수없는값이나 비어있는값을 처리하여 데이터의 오류를 줄이는 과정이다."
      ]
    },
    {
      "cell_type": "code",
      "metadata": {
        "id": "KaSK2caSlPW4"
      },
      "source": [
        "import pandas as pd\n",
        "import numpy as np\n",
        "from scipy.stats import chi2_contingency, f_oneway\n",
        "from sklearn.decomposition import PCA\n",
        "from sklearn.preprocessing import StandardScaler\n",
        "\n",
        "\n",
        "# 데이터 불러오기\n",
        "df = pd.read_csv('/content/drive/MyDrive/AI_bootcamp/vgames2.csv', encoding='CP949')\n",
        "\n",
        "# 인덱스제거\n",
        "df = df.drop(['Unnamed: 0','Name','Publisher'], axis=1)"
      ],
      "execution_count": 237,
      "outputs": []
    },
    {
      "cell_type": "code",
      "metadata": {
        "colab": {
          "base_uri": "https://localhost:8080/"
        },
        "id": "kHVwjbdwlQY-",
        "outputId": "8011fc43-15c1-4364-8acc-75de980eaf0d"
      },
      "source": [
        "# 데이터 전처리하기\n",
        "\n",
        "\n",
        "# 판매량을 (0.00) 단위로 통일하고 float으로 변경하는 함수 선언\n",
        "def unification(string):\n",
        "    # K가 있다면 지우고 천 곱하고 백만으로 나누기\n",
        "    if ('K' in string) == True:\n",
        "        # 만약 0K 라면 0.001로 바로바꾸기\n",
        "        if string == '0K':\n",
        "            return float(0.001)\n",
        "        else:\n",
        "            remove_k = string.replace('K','')\n",
        "            return float(remove_k)*0.001\n",
        "    # M이 있다면 지우기\n",
        "    elif ('M' in string) == True:\n",
        "        # 만약 OM 이라면 1.0으로 바꾸기\n",
        "        if string == '0M':\n",
        "            return float(1.0)\n",
        "        else:\n",
        "            remove_m = string.replace('M','')\n",
        "            return float(remove_m)\n",
        "    # 둘다없다면 타입만바꾸기\n",
        "    else:\n",
        "        return float(string)\n",
        "\n",
        "# 판매량 칼럽의 단위통일시키기\n",
        "df['NA_Sales'] = df['NA_Sales'].apply(unification)\n",
        "df['JP_Sales'] = df['JP_Sales'].apply(unification)\n",
        "df['EU_Sales'] = df['EU_Sales'].apply(unification)\n",
        "df['Other_Sales'] = df['Other_Sales'].apply(unification)\n",
        "\n",
        "# datatype이 object->float으로 되었는지 확인\n",
        "df.dtypes"
      ],
      "execution_count": 238,
      "outputs": [
        {
          "output_type": "execute_result",
          "data": {
            "text/plain": [
              "Platform        object\n",
              "Year           float64\n",
              "Genre           object\n",
              "NA_Sales       float64\n",
              "EU_Sales       float64\n",
              "JP_Sales       float64\n",
              "Other_Sales    float64\n",
              "dtype: object"
            ]
          },
          "metadata": {
            "tags": []
          },
          "execution_count": 238
        }
      ]
    },
    {
      "cell_type": "code",
      "metadata": {
        "id": "nRLi2kFOo-ia"
      },
      "source": [
        "# Year 칼럼 네자리로 통일시키기\n",
        "def make_year(year):\n",
        "    if year < 21:\n",
        "        return float(year+2000)\n",
        "    elif year > 80 and year <= 99:\n",
        "        return float(year+1900)\n",
        "    else:\n",
        "        return float(year)\n",
        "\n",
        "df['Year'] = df['Year'].apply(make_year)"
      ],
      "execution_count": 239,
      "outputs": []
    },
    {
      "cell_type": "code",
      "metadata": {
        "colab": {
          "base_uri": "https://localhost:8080/"
        },
        "id": "vO9HXjhs35lQ",
        "outputId": "25ae0b04-3bef-4765-feee-c57cd814f598"
      },
      "source": [
        "# 결측치 위치 확인하기\n",
        "# 이값은 후에 다시 다루기\n",
        "df.isna().sum()"
      ],
      "execution_count": 240,
      "outputs": [
        {
          "output_type": "execute_result",
          "data": {
            "text/plain": [
              "Platform         0\n",
              "Year           271\n",
              "Genre           50\n",
              "NA_Sales         0\n",
              "EU_Sales         0\n",
              "JP_Sales         0\n",
              "Other_Sales      0\n",
              "dtype: int64"
            ]
          },
          "metadata": {
            "tags": []
          },
          "execution_count": 240
        }
      ]
    },
    {
      "cell_type": "markdown",
      "metadata": {
        "id": "2-4sokgN_edQ"
      },
      "source": [
        "전처리가 끝난 데이터로 분석해보자  \n",
        "\n",
        "\n",
        "# 1. 지역별 선호하는 장르가 다른가?  \n",
        "다시말해  \n",
        "**\"장르의 지역별 판매량이 서로 비슷한가가?\"**  \n",
        "**\"레이싱게임이 RPG게임보다  잘 팔리는가,  \n",
        "아니면 미국에서만 잘팔렸는가?\"**  \n",
        "정도로 이해할 수 있다  \n",
        "\n",
        "우선 장르들이 각각의 나라에서의 총판매량을 알아야한다  \n",
        "그 후 각 장르의 총판매량이 얼마나 비슷한지를 확인하여\n",
        "비슷하다면, 선호하는 장르가 비슷하다  \n",
        "비슷하지않다면, 선호하는 장르다 다르다  \n",
        "고 결론내릴 수 있다\n"
      ]
    },
    {
      "cell_type": "code",
      "metadata": {
        "colab": {
          "base_uri": "https://localhost:8080/"
        },
        "id": "6cxR7Lo1_fGp",
        "outputId": "b0798f07-0934-4165-cbae-a51cf5752493"
      },
      "source": [
        "# 장르와 판매량만 포함하는 df2 선언후 결측치 처리\n",
        "df2 = df\n",
        "df2 = df2.drop(['Year','Platform'],axis=1)\n",
        "df2 = df2.dropna()\n",
        "df2.isna().sum()"
      ],
      "execution_count": 241,
      "outputs": [
        {
          "output_type": "execute_result",
          "data": {
            "text/plain": [
              "Genre          0\n",
              "NA_Sales       0\n",
              "EU_Sales       0\n",
              "JP_Sales       0\n",
              "Other_Sales    0\n",
              "dtype: int64"
            ]
          },
          "metadata": {
            "tags": []
          },
          "execution_count": 241
        }
      ]
    },
    {
      "cell_type": "code",
      "metadata": {
        "colab": {
          "base_uri": "https://localhost:8080/",
          "height": 192
        },
        "id": "0Pn2SF1g--eJ",
        "outputId": "fc568ccb-edd8-492a-858f-4ea674084334"
      },
      "source": [
        "# 각 지역별 판매된장르의 평균을 나타내는 데이터프레임 ge_lo 선언\n",
        "ge_lo = df2.groupby('Genre').mean().T\n",
        "ge_lo"
      ],
      "execution_count": 262,
      "outputs": [
        {
          "output_type": "execute_result",
          "data": {
            "text/html": [
              "<div>\n",
              "<style scoped>\n",
              "    .dataframe tbody tr th:only-of-type {\n",
              "        vertical-align: middle;\n",
              "    }\n",
              "\n",
              "    .dataframe tbody tr th {\n",
              "        vertical-align: top;\n",
              "    }\n",
              "\n",
              "    .dataframe thead th {\n",
              "        text-align: right;\n",
              "    }\n",
              "</style>\n",
              "<table border=\"1\" class=\"dataframe\">\n",
              "  <thead>\n",
              "    <tr style=\"text-align: right;\">\n",
              "      <th>Genre</th>\n",
              "      <th>Action</th>\n",
              "      <th>Adventure</th>\n",
              "      <th>Fighting</th>\n",
              "      <th>Misc</th>\n",
              "      <th>Platform</th>\n",
              "      <th>Puzzle</th>\n",
              "      <th>Racing</th>\n",
              "      <th>Role-Playing</th>\n",
              "      <th>Shooter</th>\n",
              "      <th>Simulation</th>\n",
              "      <th>Sports</th>\n",
              "      <th>Strategy</th>\n",
              "    </tr>\n",
              "  </thead>\n",
              "  <tbody>\n",
              "    <tr>\n",
              "      <th>NA_Sales</th>\n",
              "      <td>0.265904</td>\n",
              "      <td>0.084891</td>\n",
              "      <td>0.263518</td>\n",
              "      <td>0.236479</td>\n",
              "      <td>0.505023</td>\n",
              "      <td>0.213410</td>\n",
              "      <td>0.289776</td>\n",
              "      <td>0.218167</td>\n",
              "      <td>0.445658</td>\n",
              "      <td>0.216140</td>\n",
              "      <td>0.291980</td>\n",
              "      <td>0.109862</td>\n",
              "    </tr>\n",
              "    <tr>\n",
              "      <th>EU_Sales</th>\n",
              "      <td>0.159807</td>\n",
              "      <td>0.054728</td>\n",
              "      <td>0.121870</td>\n",
              "      <td>0.127085</td>\n",
              "      <td>0.228066</td>\n",
              "      <td>0.089502</td>\n",
              "      <td>0.192358</td>\n",
              "      <td>0.126489</td>\n",
              "      <td>0.239336</td>\n",
              "      <td>0.131044</td>\n",
              "      <td>0.161250</td>\n",
              "      <td>0.069590</td>\n",
              "    </tr>\n",
              "    <tr>\n",
              "      <th>JP_Sales</th>\n",
              "      <td>0.051410</td>\n",
              "      <td>0.042152</td>\n",
              "      <td>0.105483</td>\n",
              "      <td>0.068785</td>\n",
              "      <td>0.151195</td>\n",
              "      <td>0.101853</td>\n",
              "      <td>0.051013</td>\n",
              "      <td>0.232606</td>\n",
              "      <td>0.032327</td>\n",
              "      <td>0.075958</td>\n",
              "      <td>0.062956</td>\n",
              "      <td>0.074207</td>\n",
              "    </tr>\n",
              "    <tr>\n",
              "      <th>Other_Sales</th>\n",
              "      <td>0.058838</td>\n",
              "      <td>0.015480</td>\n",
              "      <td>0.045621</td>\n",
              "      <td>0.043279</td>\n",
              "      <td>0.061692</td>\n",
              "      <td>0.023394</td>\n",
              "      <td>0.062833</td>\n",
              "      <td>0.041784</td>\n",
              "      <td>0.080774</td>\n",
              "      <td>0.039865</td>\n",
              "      <td>0.060091</td>\n",
              "      <td>0.024065</td>\n",
              "    </tr>\n",
              "  </tbody>\n",
              "</table>\n",
              "</div>"
            ],
            "text/plain": [
              "Genre          Action  Adventure  Fighting  ...  Simulation    Sports  Strategy\n",
              "NA_Sales     0.265904   0.084891  0.263518  ...    0.216140  0.291980  0.109862\n",
              "EU_Sales     0.159807   0.054728  0.121870  ...    0.131044  0.161250  0.069590\n",
              "JP_Sales     0.051410   0.042152  0.105483  ...    0.075958  0.062956  0.074207\n",
              "Other_Sales  0.058838   0.015480  0.045621  ...    0.039865  0.060091  0.024065\n",
              "\n",
              "[4 rows x 12 columns]"
            ]
          },
          "metadata": {
            "tags": []
          },
          "execution_count": 262
        }
      ]
    },
    {
      "cell_type": "code",
      "metadata": {
        "colab": {
          "base_uri": "https://localhost:8080/"
        },
        "id": "CN2APiTXJ-ea",
        "outputId": "5d66c657-8305-4fd1-8708-0ab5a2e2879b"
      },
      "source": [
        "# 각 지역별 장르의 분포를 비교하는 F-test 실시\n",
        "ge_loc = f_oneway(ge_lo['Action'],ge_lo['Adventure'],ge_lo['Fighting'],ge_lo['Misc'],ge_lo['Platform'],ge_lo['Puzzle'],ge_lo['Racing'],ge_lo['Role-Playing'],ge_lo['Shooter'],ge_lo['Simulation'],ge_lo['Sports'],ge_lo['Strategy'])\n",
        "print(\"P-value :\", ge_loc.pvalue)\n",
        "\n",
        "print(\"\"\"\n",
        "여기서의 귀무가설은 \"장르별 판매량은 나라와 관련이없다\" 이다\n",
        "\n",
        "p-value의 값은 0.59 이므로 귀무가설을 기각할 수 없다\n",
        "(장르별 판매량은 나라와 관련이없다)\n",
        "즉 나라별 장르에대한 선호도는 다르지않다\n",
        "\"\"\")"
      ],
      "execution_count": 263,
      "outputs": [
        {
          "output_type": "stream",
          "text": [
            "P-value : 0.5922861885716234\n",
            "\n",
            "여기서의 귀무가설은 \"장르별 판매량은 나라와 관련이없다\" 이다\n",
            "\n",
            "p-value의 값은 0.054 이므로 귀무가설을 기각할 수 없다\n",
            "(장르별 판매량은 나라와 관련이없다)\n",
            "즉 나라별 장르에대한 선호도는 다르지않다\n",
            "\n"
          ],
          "name": "stdout"
        }
      ]
    },
    {
      "cell_type": "markdown",
      "metadata": {
        "id": "MfMrUpW2VYjT"
      },
      "source": [
        "# 2. 연도별 게임의 트랜드가 있을까?\n",
        "\n",
        "\"연도별 출시된 장르의 갯수가 다를까?\"  \n",
        "\"2000년과 2002년에 출시된 RPG 게임의 수가 다를까?\"  \n",
        "정도로 생각해볼 수 있다.\n",
        "\n",
        "연도별 출시된 게임들의 장르 총 갯수를 구해야한다  \n",
        "\n",
        "갯수의 분포도를 비교하여 연도와 장르의 갯수가 연관이있는지 확인해보자\n",
        "\n"
      ]
    },
    {
      "cell_type": "code",
      "metadata": {
        "colab": {
          "base_uri": "https://localhost:8080/"
        },
        "id": "J33HGkyGOHlz",
        "outputId": "434c67bd-9a8d-4ab1-c5a6-f14459348925"
      },
      "source": [
        "# 연도와 장르만 포함한 df3 선언후 결측치 처리\n",
        "df3 = df[['Year','Genre']].dropna()\n",
        "df3.isna().sum()"
      ],
      "execution_count": 210,
      "outputs": [
        {
          "output_type": "execute_result",
          "data": {
            "text/plain": [
              "Year     0\n",
              "Genre    0\n",
              "dtype: int64"
            ]
          },
          "metadata": {
            "tags": []
          },
          "execution_count": 210
        }
      ]
    },
    {
      "cell_type": "code",
      "metadata": {
        "colab": {
          "base_uri": "https://localhost:8080/"
        },
        "id": "RHafLvnkFSnr",
        "outputId": "3a11829d-70be-4a5a-c40d-8bb0d7b972be"
      },
      "source": [
        "# 각 년도별 장르의 갯수를 포함하는 데이터프레임 ge_ye 선언\n",
        "ge_ye = pd.crosstab(df3.Year,df3.Genre)\n",
        "\n",
        "# 각 연도별 장르의 분포를 비교하는 F-test 실시\n",
        "ge_year = f_oneway(ge_ye['Action'],ge_ye['Adventure'],ge_ye['Fighting'],ge_ye['Misc'],ge_ye['Platform'],ge_ye['Puzzle'],ge_ye['Racing'],ge_ye['Role-Playing'],ge_ye['Shooter'],ge_ye['Simulation'],ge_ye['Sports'],ge_ye['Strategy'])\n",
        "print(\"P-value :\", ge_year.pvalue)\n",
        "\n",
        "print(\"\"\"\n",
        "여기서의 귀무가설은 \"장르별 트랜드는 연도와 관련이없다\" 이다\n",
        "\n",
        "p-value의 값은 0.05보다 매우 작은 값이므로 귀무가설은 기각된다\n",
        "(장르별 트랜드는 연도와 관련이 있다)\n",
        "즉 연도별 게임의 트랜드가 있다\n",
        "\"\"\")"
      ],
      "execution_count": 249,
      "outputs": [
        {
          "output_type": "stream",
          "text": [
            "P-value : 5.988229153302235e-11\n"
          ],
          "name": "stdout"
        }
      ]
    },
    {
      "cell_type": "markdown",
      "metadata": {
        "id": "jkJV2-ykQ9tm"
      },
      "source": [
        "\n",
        "# 3. 플랫폼과 판매량은 관계가 있을까? \n",
        "# 4. 장르와 판매량은 관계가 있을까?\n",
        "\n"
      ]
    },
    {
      "cell_type": "code",
      "metadata": {
        "id": "p_KVs6HZQ-WI"
      },
      "source": [
        ""
      ],
      "execution_count": 263,
      "outputs": []
    },
    {
      "cell_type": "code",
      "metadata": {
        "id": "XtQpJy8tbSbR"
      },
      "source": [
        ""
      ],
      "execution_count": null,
      "outputs": []
    },
    {
      "cell_type": "markdown",
      "metadata": {
        "id": "dhgAZVyVmuu2"
      },
      "source": [
        "## 판매량과 다른 요소들의 관계를 비교해보자  \n",
        "위의 분석들을 통해 다음과 같은 결론을 내릴 수 있다  \n",
        "\n",
        "판매량 - 장르  \n",
        "판매량 - 플랫폼  \n",
        "판매량 - \n",
        "\n",
        "이 우선순위를 바탕으로  \n",
        "최근 판매량이 많은 게임을 분석하여 적용시켜본다면  \n",
        "\n",
        "목적에 부합하는  \n",
        "\"잘 팔리는 게임\"을 만들 수 있는 가능성이 높다"
      ]
    },
    {
      "cell_type": "markdown",
      "metadata": {
        "id": "j0jOOZu-lq12"
      },
      "source": [
        "# 5. 판매량이 많은 게임을 분석하고 시각화해보자"
      ]
    },
    {
      "cell_type": "code",
      "metadata": {
        "id": "kDcImloYlvj5"
      },
      "source": [
        ""
      ],
      "execution_count": 263,
      "outputs": []
    },
    {
      "cell_type": "markdown",
      "metadata": {
        "id": "vLNWBlA1lxjN"
      },
      "source": [
        "# 결론\n",
        "~ 한 게임을 만드는것이 좋다"
      ]
    },
    {
      "cell_type": "code",
      "metadata": {
        "id": "ysJdFLbLnLtj"
      },
      "source": [
        ""
      ],
      "execution_count": null,
      "outputs": []
    }
  ]
}