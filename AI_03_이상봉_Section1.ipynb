{
  "nbformat": 4,
  "nbformat_minor": 0,
  "metadata": {
    "colab": {
      "name": "project1_이상봉.ipynb",
      "provenance": [],
      "collapsed_sections": []
    },
    "kernelspec": {
      "name": "python3",
      "display_name": "Python 3"
    },
    "language_info": {
      "name": "python"
    }
  },
  "cells": [
    {
      "cell_type": "markdown",
      "metadata": {
        "id": "xNm35ClGwGE0"
      },
      "source": [
        "# Project_One_이상봉\n",
        "\n",
        "## 주제와 목적\n",
        "최근 북미, 유럽, 일본, 그외 지역에서의 게임 판매량 데이터를 분석하고  \n",
        "분석을 바탕으로 다음 분기에 게임 설계 방향을 정하는것이다    \n",
        "정확한 분석을 위해서는 게임의 판매량에 영향을 미치는요인이 무엇인지 알아내야한다.  \n",
        "\n",
        "## 우선 분석과정을 4개의 작은 단위로 나눠볼 수 있다\n",
        "1. 지역별 선호하는 장르가 다른가?\n",
        "2. 연도별 트랜드가 있는가?\n",
        "3. 플랫폼에따른 판매량의 차이가 있는가?\n",
        "4. 판매량이 가장 높은 게임들은 무슨 특징을 가지고 있는가?\n",
        "\n",
        "이 분석과정을 통해, **\"잘 팔리는\"** 게임을 만들기위해 어떤 부분을 우선시 해야하는지를 판단해야 한다\n"
      ]
    },
    {
      "cell_type": "markdown",
      "metadata": {
        "id": "Hqvk5acKkl4A"
      },
      "source": [
        "분석을 시작하기전에, 데이터를 좀더 깔끔하게 다듬는 전처리 작업을 진행하였다  \n",
        "# 전처리작업(EDA)\n",
        "우선 데이터내의 수치를 일관성있게 통일하기위해 전처리작업을 진행하였다  \n",
        "전처리작업이란, 숫자의단위나 알파벳의 대소문자의 통일, 알수없는값이나 비어있는값을 처리하여 데이터의 오류를 줄이는 과정이다."
      ]
    },
    {
      "cell_type": "code",
      "metadata": {
        "id": "KaSK2caSlPW4"
      },
      "source": [
        "import pandas as pd\n",
        "\n",
        "\n",
        "# 데이터 불러오기\n",
        "df = pd.read_csv('/content/drive/MyDrive/AI_bootcamp/vgames2.csv', encoding='CP949')\n",
        "\n",
        "# 인덱스제거\n",
        "df = df.drop(['Unnamed: 0','Name','Publisher'], axis=1)"
      ],
      "execution_count": 104,
      "outputs": []
    },
    {
      "cell_type": "code",
      "metadata": {
        "colab": {
          "base_uri": "https://localhost:8080/"
        },
        "id": "kHVwjbdwlQY-",
        "outputId": "ba91d29a-9edf-459c-d48b-f056109830ea"
      },
      "source": [
        "# 판매량을 (0.00) 단위로 통일하고 float으로 변경\n",
        "def unification(string):\n",
        "    # K가 있다면 지우고 천 곱하고 백만으로 나누기\n",
        "    if ('K' in string) == True:\n",
        "        # 만약 0K 라면 0.001로 바로바꾸기\n",
        "        if string == '0K':\n",
        "            return float(0.001)\n",
        "        else:\n",
        "            remove_k = string.replace('K','')\n",
        "            return float(remove_k)*0.001\n",
        "    # M이 있다면 지우기\n",
        "    elif ('M' in string) == True:\n",
        "        # 만약 OM 이라면 1.0으로 바꾸기\n",
        "        if string == '0M':\n",
        "            return float(1.0)\n",
        "        else:\n",
        "            remove_m = string.replace('M','')\n",
        "            return float(remove_m)\n",
        "    # 둘다없다면 타입만바꾸기\n",
        "    else:\n",
        "        return float(string)\n",
        "\n",
        "# 판매량 칼럽의 단위통일시키기\n",
        "df['NA_Sales'] = df['NA_Sales'].apply(unification)\n",
        "df['JP_Sales'] = df['JP_Sales'].apply(unification)\n",
        "df['EU_Sales'] = df['EU_Sales'].apply(unification)\n",
        "df['Other_Sales'] = df['Other_Sales'].apply(unification)\n",
        "\n",
        "# 480K 값이 0.48로 잘 변경되었는지 확인\n",
        "df['NA_Sales'][10]\n",
        "\n",
        "# datatype이 object->float으로 되었는지 확인\n",
        "df.dtypes"
      ],
      "execution_count": 105,
      "outputs": [
        {
          "output_type": "execute_result",
          "data": {
            "text/plain": [
              "Platform        object\n",
              "Year           float64\n",
              "Genre           object\n",
              "NA_Sales       float64\n",
              "EU_Sales       float64\n",
              "JP_Sales       float64\n",
              "Other_Sales    float64\n",
              "dtype: object"
            ]
          },
          "metadata": {
            "tags": []
          },
          "execution_count": 105
        }
      ]
    },
    {
      "cell_type": "code",
      "metadata": {
        "id": "nRLi2kFOo-ia"
      },
      "source": [
        "# Year 칼럼 네자리로 통일시키기\n",
        "def make_year(year):\n",
        "    if year < 21:\n",
        "        return float(year+2000)\n",
        "    elif year > 80 and year <= 99:\n",
        "        return float(year+1900)\n",
        "    else:\n",
        "        return float(year)\n",
        "\n",
        "df['Year'] = df['Year'].apply(make_year)"
      ],
      "execution_count": 106,
      "outputs": []
    },
    {
      "cell_type": "code",
      "metadata": {
        "id": "vO9HXjhs35lQ",
        "outputId": "08b6823c-959b-40a4-dcb7-6a1eaa04a95f",
        "colab": {
          "base_uri": "https://localhost:8080/"
        }
      },
      "source": [
        "# 결측치 위치 확인하기\n",
        "# 이값은 후에 다시 다루기\n",
        "df.isna().sum()"
      ],
      "execution_count": 107,
      "outputs": [
        {
          "output_type": "execute_result",
          "data": {
            "text/plain": [
              "Platform         0\n",
              "Year           271\n",
              "Genre           50\n",
              "NA_Sales         0\n",
              "EU_Sales         0\n",
              "JP_Sales         0\n",
              "Other_Sales      0\n",
              "dtype: int64"
            ]
          },
          "metadata": {
            "tags": []
          },
          "execution_count": 107
        }
      ]
    },
    {
      "cell_type": "markdown",
      "metadata": {
        "id": "2-4sokgN_edQ"
      },
      "source": [
        "전처리가 끝났으니 데이터를 분석해보자\n",
        "\n",
        "# 지역별 선호하는 장르가 다른가?  \n",
        "선호하는 장르란?  \"많이 팔리는 장르\"이다.  \n",
        "한마디로 **\"지역별 판매량과, 장르가 서로 관련이 있는가?\"** 를 확인해야한다  \n",
        "\n",
        "만약 장르가 두가지 뿐이라면 어떤 장르가 더 잘팔리는지를 비교하면 된다\n",
        "하지만 수많은 장르와 수만개이상의 게임을 비교한다면... 한번에 정확한 비교를 할 수 없다  \n",
        "\n",
        "그러므로, 통계학적 방법을 이용하여 데이터를 **단순화** 시켜, 효율적이고 정확한 비교를 해야한다  \n",
        "\n",
        "단순화한다는게 무슨뜻일까?  \n",
        "예를들면 사람의 외모나 능력, 습관을 가지고 \"이사람은 예의바른사람인가?\" 를 판단하긴 힘들다.  \n",
        "하지만 그 사람이 초면에 반말을하는 습관이있다면, 예의없는 사람일 확률이 매우높다.  \n",
        "즉, 외모나 능력보다 반말을한다는 조건이 비교적 확실한 판단 기준이 될 수 있다.  \n",
        "동일하게, 데이터의 특징들 중 비교적 확실한 판단기준이되는 특징을 찾고(경우에따라 특징들을 혼합하기도한다) 그것을 기준으로 나누는것이 단순화라고 볼 수 있다."
      ]
    },
    {
      "cell_type": "code",
      "metadata": {
        "id": "6cxR7Lo1_fGp"
      },
      "source": [
        ""
      ],
      "execution_count": null,
      "outputs": []
    }
  ]
}