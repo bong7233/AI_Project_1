{
  "nbformat": 4,
  "nbformat_minor": 0,
  "metadata": {
    "colab": {
      "name": "project1_이상봉.ipynb",
      "provenance": [],
      "collapsed_sections": []
    },
    "kernelspec": {
      "name": "python3",
      "display_name": "Python 3"
    },
    "language_info": {
      "name": "python"
    }
  },
  "cells": [
    {
      "cell_type": "markdown",
      "metadata": {
        "id": "xNm35ClGwGE0"
      },
      "source": [
        "# Project\n",
        "\n",
        "## **주제와 목적**\n",
        "최근 북미, 유럽, 일본, 그외 지역에서의 게임 판매량 데이터를 분석하고  \n",
        "분석을 바탕으로 다음 분기 어떤 게임을 설계 할 것인지 정하는것이다    \n",
        "\n",
        "## **게임을 설계하기 위해서 무엇을 고려해야할까?**\n",
        "게임을 설계하는 방향은 \"판매량이 많은 게임\" 을 만드는 것이다  \n",
        "그러므로 게임의 판매량에 영향을 주는 요인이 무엇인지 확인하고  \n",
        "그 요인들을 바탕으로 게임의 장르, 플랫폼을 선택해야한다.\n",
        "\n",
        "### **1. 장르는 어떻게 선택할까?**\n",
        "\n",
        "우선 장르와 지역, 연도의 관련성을 분석해보자\n",
        "1. 지역별 장르의 선호도가 다를까?\n",
        "2. 연도별 장르의 트랜드가 있는가?\n",
        "\n",
        "이 과정을 통해 장르와 연관성 있는것을 찾아낸다  \n",
        "\n",
        "### **2. 플랫폼은 어떻게 선택할까?**\n",
        "\n",
        "플랫폼과 지역,연도의 관련성도 분석해보자\n",
        "1. 지역별 플랫폼의 선호도가 다를까?\n",
        "2. 연도별 플랫폼의 트랜드가 있을까?\n",
        "\n",
        "이 과정을 통해 플랫폼과 연관성 있는것을 찾아낸다\n",
        "\n",
        "### **3. 그 후 설계 방향은?**\n",
        "위의 연관성 있는 기준들을 판매량이 많은 게임들에 적용시켜  \n",
        "설계할 게임의 최적의 장르와 플렛폼을 고를 수 있다\n"
      ]
    },
    {
      "cell_type": "markdown",
      "metadata": {
        "id": "Hqvk5acKkl4A"
      },
      "source": [
        "분석을 시작하기전에, 데이터를 좀더 깔끔하게 다듬는 전처리 작업을 진행하였다  \n",
        "# 전처리작업(EDA)\n",
        "우선 데이터내의 수치를 일관성있게 통일하기위해 전처리작업을 진행하였다  \n",
        "전처리작업이란, 숫자의단위나 알파벳의 대소문자의 통일, 알수없는값이나 비어있는값을 처리하여 데이터의 오류를 줄이는 과정이다."
      ]
    },
    {
      "cell_type": "code",
      "metadata": {
        "colab": {
          "base_uri": "https://localhost:8080/"
        },
        "id": "QcswP7LkOhIS",
        "outputId": "b7452f15-1bcb-4971-a444-72d23e1112bd"
      },
      "source": [
        "from google.colab import drive\n",
        "drive.mount('/content/drive')"
      ],
      "execution_count": 135,
      "outputs": [
        {
          "output_type": "stream",
          "text": [
            "Drive already mounted at /content/drive; to attempt to forcibly remount, call drive.mount(\"/content/drive\", force_remount=True).\n"
          ],
          "name": "stdout"
        }
      ]
    },
    {
      "cell_type": "code",
      "metadata": {
        "id": "KaSK2caSlPW4"
      },
      "source": [
        "import pandas as pd\n",
        "import numpy as np\n",
        "from scipy.stats import chi2_contingency, f_oneway\n",
        "from sklearn.decomposition import PCA\n",
        "from sklearn.preprocessing import StandardScaler\n",
        "\n",
        "\n",
        "# 데이터 불러오기\n",
        "df = pd.read_csv('/content/drive/MyDrive/AI_bootcamp/vgames2.csv', encoding='CP949')\n",
        "\n",
        "# 인덱스제거\n",
        "df = df.drop(['Unnamed: 0','Name','Publisher'], axis=1)"
      ],
      "execution_count": 224,
      "outputs": []
    },
    {
      "cell_type": "code",
      "metadata": {
        "colab": {
          "base_uri": "https://localhost:8080/"
        },
        "id": "kHVwjbdwlQY-",
        "outputId": "18306d77-0608-424d-adcf-587c06238449"
      },
      "source": [
        "# 데이터 전처리하기\n",
        "\n",
        "\n",
        "# 판매량을 (0.00) 단위로 통일하고 float으로 변경하는 함수 선언\n",
        "def unification(string):\n",
        "    # K가 있다면 지우고 천 곱하고 백만으로 나누기\n",
        "    if ('K' in string) == True:\n",
        "        # 만약 0K 라면 0.001로 바로바꾸기\n",
        "        if string == '0K':\n",
        "            return float(0.001)\n",
        "        else:\n",
        "            remove_k = string.replace('K','')\n",
        "            return float(remove_k)*0.001\n",
        "    # M이 있다면 지우기\n",
        "    elif ('M' in string) == True:\n",
        "        # 만약 OM 이라면 1.0으로 바꾸기\n",
        "        if string == '0M':\n",
        "            return float(1.0)\n",
        "        else:\n",
        "            remove_m = string.replace('M','')\n",
        "            return float(remove_m)\n",
        "    # 둘다없다면 타입만바꾸기\n",
        "    else:\n",
        "        return float(string)\n",
        "\n",
        "# 판매량 칼럽의 단위통일시키기\n",
        "df['NA_Sales'] = df['NA_Sales'].apply(unification)\n",
        "df['JP_Sales'] = df['JP_Sales'].apply(unification)\n",
        "df['EU_Sales'] = df['EU_Sales'].apply(unification)\n",
        "df['Other_Sales'] = df['Other_Sales'].apply(unification)\n",
        "\n",
        "# datatype이 object->float으로 되었는지 확인\n",
        "df.dtypes"
      ],
      "execution_count": 225,
      "outputs": [
        {
          "output_type": "execute_result",
          "data": {
            "text/plain": [
              "Platform        object\n",
              "Year           float64\n",
              "Genre           object\n",
              "NA_Sales       float64\n",
              "EU_Sales       float64\n",
              "JP_Sales       float64\n",
              "Other_Sales    float64\n",
              "dtype: object"
            ]
          },
          "metadata": {
            "tags": []
          },
          "execution_count": 225
        }
      ]
    },
    {
      "cell_type": "markdown",
      "metadata": {
        "id": "2-4sokgN_edQ"
      },
      "source": [
        "전처리가 끝난 데이터로 분석해보자  \n",
        "\n",
        "\n",
        "# 1. 장르는 어떻게 선택할까?\n",
        "\n",
        "- 지역별 장르의 선호도는 다를까?  \n",
        "  - 장르들의 지역별 판매량이 비슷하다면  ->  선호도가 비슷하다  \n",
        "  - 장르들의 지역별 판매량이 다르다면  ->  선호도가 다르다  \n"
      ]
    },
    {
      "cell_type": "code",
      "metadata": {
        "colab": {
          "base_uri": "https://localhost:8080/",
          "height": 205
        },
        "id": "6cxR7Lo1_fGp",
        "outputId": "5054c22d-5595-4528-d363-b6d29e733517"
      },
      "source": [
        "# 장르와 판매량만 포함하는 df2 선언후 결측치 처리\n",
        "df2 = df\n",
        "df2 = df2.drop(['Year','Platform'],axis=1)\n",
        "df2 = df2.dropna()\n",
        "df2.isna().sum()\n",
        "df2.head()"
      ],
      "execution_count": 226,
      "outputs": [
        {
          "output_type": "execute_result",
          "data": {
            "text/html": [
              "<div>\n",
              "<style scoped>\n",
              "    .dataframe tbody tr th:only-of-type {\n",
              "        vertical-align: middle;\n",
              "    }\n",
              "\n",
              "    .dataframe tbody tr th {\n",
              "        vertical-align: top;\n",
              "    }\n",
              "\n",
              "    .dataframe thead th {\n",
              "        text-align: right;\n",
              "    }\n",
              "</style>\n",
              "<table border=\"1\" class=\"dataframe\">\n",
              "  <thead>\n",
              "    <tr style=\"text-align: right;\">\n",
              "      <th></th>\n",
              "      <th>Genre</th>\n",
              "      <th>NA_Sales</th>\n",
              "      <th>EU_Sales</th>\n",
              "      <th>JP_Sales</th>\n",
              "      <th>Other_Sales</th>\n",
              "    </tr>\n",
              "  </thead>\n",
              "  <tbody>\n",
              "    <tr>\n",
              "      <th>0</th>\n",
              "      <td>Action</td>\n",
              "      <td>0.04</td>\n",
              "      <td>0.00</td>\n",
              "      <td>0.00</td>\n",
              "      <td>0.00</td>\n",
              "    </tr>\n",
              "    <tr>\n",
              "      <th>1</th>\n",
              "      <td>Action</td>\n",
              "      <td>0.17</td>\n",
              "      <td>0.00</td>\n",
              "      <td>0.00</td>\n",
              "      <td>0.01</td>\n",
              "    </tr>\n",
              "    <tr>\n",
              "      <th>2</th>\n",
              "      <td>Adventure</td>\n",
              "      <td>0.00</td>\n",
              "      <td>0.00</td>\n",
              "      <td>0.02</td>\n",
              "      <td>0.00</td>\n",
              "    </tr>\n",
              "    <tr>\n",
              "      <th>3</th>\n",
              "      <td>Misc</td>\n",
              "      <td>0.04</td>\n",
              "      <td>0.00</td>\n",
              "      <td>0.00</td>\n",
              "      <td>0.00</td>\n",
              "    </tr>\n",
              "    <tr>\n",
              "      <th>4</th>\n",
              "      <td>Platform</td>\n",
              "      <td>0.12</td>\n",
              "      <td>0.09</td>\n",
              "      <td>0.00</td>\n",
              "      <td>0.04</td>\n",
              "    </tr>\n",
              "  </tbody>\n",
              "</table>\n",
              "</div>"
            ],
            "text/plain": [
              "       Genre  NA_Sales  EU_Sales  JP_Sales  Other_Sales\n",
              "0     Action      0.04      0.00      0.00         0.00\n",
              "1     Action      0.17      0.00      0.00         0.01\n",
              "2  Adventure      0.00      0.00      0.02         0.00\n",
              "3       Misc      0.04      0.00      0.00         0.00\n",
              "4   Platform      0.12      0.09      0.00         0.04"
            ]
          },
          "metadata": {
            "tags": []
          },
          "execution_count": 226
        }
      ]
    },
    {
      "cell_type": "code",
      "metadata": {
        "colab": {
          "base_uri": "https://localhost:8080/"
        },
        "id": "CMgj5VhjFziI",
        "outputId": "36e62584-2f34-4299-862c-a24fd4bfbab7"
      },
      "source": [
        "# 장르 선호도 비교해보기\n",
        "\n",
        "# 장르들 목록 선언\n",
        "genres = ['Action', 'Adventure', 'Fighting', 'Misc', 'Platform', 'Puzzle',\n",
        "       'Racing', 'Role-Playing', 'Shooter', 'Simulation', 'Sports',\n",
        "       'Strategy']\n",
        "\n",
        "# 각 장르에대한 지역별 판매량 비교\n",
        "for genre in genres:\n",
        "    genre_data = df2[df2['Genre'] == genre]\n",
        "    result = f_oneway(genre_data['NA_Sales'],genre_data['JP_Sales'],genre_data['EU_Sales'],genre_data['Other_Sales'])\n",
        "    print(genre, '/p-value =', result[1])\n",
        "\n",
        "# 여기서의 \" 귀무가설 = 지역간 장르별 판매량은 차이가없다 \"\n",
        "# 하지만 장르들의 p-value 값이 모두 0.05보다 현저히 작으므로 귀무가설을 기각할수 있다\n",
        "# 즉 \"각 지역간의 장르별 판매량은 차이가 있다\"\n",
        "# 다시말해 지역별 선호도는 다르다"
      ],
      "execution_count": 227,
      "outputs": [
        {
          "output_type": "stream",
          "text": [
            "Action /p-value = 9.917382232427142e-147\n",
            "Adventure /p-value = 2.0945837982584205e-20\n",
            "Fighting /p-value = 1.2330556384385163e-43\n",
            "Misc /p-value = 6.440700553325507e-43\n",
            "Platform /p-value = 3.476396668290617e-28\n",
            "Puzzle /p-value = 7.747629545653912e-07\n",
            "Racing /p-value = 5.541020506203407e-39\n",
            "Role-Playing /p-value = 2.1695107684387342e-27\n",
            "Shooter /p-value = 1.8083226259160457e-63\n",
            "Simulation /p-value = 1.0172201539635495e-21\n",
            "Sports /p-value = 1.4237698139211029e-39\n",
            "Strategy /p-value = 2.6194762348013894e-12\n"
          ],
          "name": "stdout"
        }
      ]
    },
    {
      "cell_type": "markdown",
      "metadata": {
        "id": "MfMrUpW2VYjT"
      },
      "source": [
        "- 연도별 게임의 트랜드가 있을까?\n",
        "  - 연도의 장르별 판매량이 다르다면 - > 트랜드가 있다\n",
        "  - 연도의 장르별 판매량이 비슷하다면 - > 트랜드가 없다\n",
        "\n",
        "즉, 잘팔리는 장르가 그 연도의 트랜드 라고 볼 수 있다.  \n",
        "이것을 비교하기위해서 각 연도내에서 장르별 판매량을 비교하여 비슷하다면 트랜드가 없는것이다."
      ]
    },
    {
      "cell_type": "code",
      "metadata": {
        "colab": {
          "base_uri": "https://localhost:8080/",
          "height": 205
        },
        "id": "J33HGkyGOHlz",
        "outputId": "99262339-c9a5-46f9-bac3-b203c24508c8"
      },
      "source": [
        "# 연도와 장르만 포함한 df3 선언후 결측치 처리\n",
        "df3 = df[['Year','Genre']].dropna()\n",
        "df3.isna().sum()\n",
        "\n",
        "# 네자리로 통일시킨후 catogorical 하게 바꾸는 함수 선언\n",
        "def make_year(year):\n",
        "    if year < 21:\n",
        "        return str(year+2000)\n",
        "    elif year > 80 and year <= 99:\n",
        "        return str(year+1900)\n",
        "    else:\n",
        "        return str(year)\n",
        "\n",
        "# apply 사용해서 단위 통일\n",
        "df3['Year'] = df3['Year'].apply(make_year)\n",
        "df3.head()"
      ],
      "execution_count": 228,
      "outputs": [
        {
          "output_type": "execute_result",
          "data": {
            "text/html": [
              "<div>\n",
              "<style scoped>\n",
              "    .dataframe tbody tr th:only-of-type {\n",
              "        vertical-align: middle;\n",
              "    }\n",
              "\n",
              "    .dataframe tbody tr th {\n",
              "        vertical-align: top;\n",
              "    }\n",
              "\n",
              "    .dataframe thead th {\n",
              "        text-align: right;\n",
              "    }\n",
              "</style>\n",
              "<table border=\"1\" class=\"dataframe\">\n",
              "  <thead>\n",
              "    <tr style=\"text-align: right;\">\n",
              "      <th></th>\n",
              "      <th>Year</th>\n",
              "      <th>Genre</th>\n",
              "    </tr>\n",
              "  </thead>\n",
              "  <tbody>\n",
              "    <tr>\n",
              "      <th>0</th>\n",
              "      <td>2008.0</td>\n",
              "      <td>Action</td>\n",
              "    </tr>\n",
              "    <tr>\n",
              "      <th>1</th>\n",
              "      <td>2009.0</td>\n",
              "      <td>Action</td>\n",
              "    </tr>\n",
              "    <tr>\n",
              "      <th>2</th>\n",
              "      <td>2010.0</td>\n",
              "      <td>Adventure</td>\n",
              "    </tr>\n",
              "    <tr>\n",
              "      <th>3</th>\n",
              "      <td>2010.0</td>\n",
              "      <td>Misc</td>\n",
              "    </tr>\n",
              "    <tr>\n",
              "      <th>4</th>\n",
              "      <td>2010.0</td>\n",
              "      <td>Platform</td>\n",
              "    </tr>\n",
              "  </tbody>\n",
              "</table>\n",
              "</div>"
            ],
            "text/plain": [
              "     Year      Genre\n",
              "0  2008.0     Action\n",
              "1  2009.0     Action\n",
              "2  2010.0  Adventure\n",
              "3  2010.0       Misc\n",
              "4  2010.0   Platform"
            ]
          },
          "metadata": {
            "tags": []
          },
          "execution_count": 228
        }
      ]
    },
    {
      "cell_type": "code",
      "metadata": {
        "colab": {
          "base_uri": "https://localhost:8080/",
          "height": 236
        },
        "id": "RHafLvnkFSnr",
        "outputId": "23ff8d7c-6a04-4f37-a4e5-d7976472dac3"
      },
      "source": [
        "# 각 년도별 장르의 갯수를 포함하는 데이터프레임 ge_ye 선언\n",
        "ge_ye = pd.crosstab(df3.Year,df3.Genre)\n",
        "ge_ye.head()"
      ],
      "execution_count": 229,
      "outputs": [
        {
          "output_type": "execute_result",
          "data": {
            "text/html": [
              "<div>\n",
              "<style scoped>\n",
              "    .dataframe tbody tr th:only-of-type {\n",
              "        vertical-align: middle;\n",
              "    }\n",
              "\n",
              "    .dataframe tbody tr th {\n",
              "        vertical-align: top;\n",
              "    }\n",
              "\n",
              "    .dataframe thead th {\n",
              "        text-align: right;\n",
              "    }\n",
              "</style>\n",
              "<table border=\"1\" class=\"dataframe\">\n",
              "  <thead>\n",
              "    <tr style=\"text-align: right;\">\n",
              "      <th>Genre</th>\n",
              "      <th>Action</th>\n",
              "      <th>Adventure</th>\n",
              "      <th>Fighting</th>\n",
              "      <th>Misc</th>\n",
              "      <th>Platform</th>\n",
              "      <th>Puzzle</th>\n",
              "      <th>Racing</th>\n",
              "      <th>Role-Playing</th>\n",
              "      <th>Shooter</th>\n",
              "      <th>Simulation</th>\n",
              "      <th>Sports</th>\n",
              "      <th>Strategy</th>\n",
              "    </tr>\n",
              "    <tr>\n",
              "      <th>Year</th>\n",
              "      <th></th>\n",
              "      <th></th>\n",
              "      <th></th>\n",
              "      <th></th>\n",
              "      <th></th>\n",
              "      <th></th>\n",
              "      <th></th>\n",
              "      <th></th>\n",
              "      <th></th>\n",
              "      <th></th>\n",
              "      <th></th>\n",
              "      <th></th>\n",
              "    </tr>\n",
              "  </thead>\n",
              "  <tbody>\n",
              "    <tr>\n",
              "      <th>1980.0</th>\n",
              "      <td>1</td>\n",
              "      <td>0</td>\n",
              "      <td>1</td>\n",
              "      <td>4</td>\n",
              "      <td>0</td>\n",
              "      <td>0</td>\n",
              "      <td>0</td>\n",
              "      <td>0</td>\n",
              "      <td>2</td>\n",
              "      <td>0</td>\n",
              "      <td>0</td>\n",
              "      <td>0</td>\n",
              "    </tr>\n",
              "    <tr>\n",
              "      <th>1981.0</th>\n",
              "      <td>25</td>\n",
              "      <td>0</td>\n",
              "      <td>0</td>\n",
              "      <td>0</td>\n",
              "      <td>3</td>\n",
              "      <td>2</td>\n",
              "      <td>1</td>\n",
              "      <td>0</td>\n",
              "      <td>10</td>\n",
              "      <td>1</td>\n",
              "      <td>4</td>\n",
              "      <td>0</td>\n",
              "    </tr>\n",
              "    <tr>\n",
              "      <th>1982.0</th>\n",
              "      <td>18</td>\n",
              "      <td>0</td>\n",
              "      <td>0</td>\n",
              "      <td>1</td>\n",
              "      <td>5</td>\n",
              "      <td>3</td>\n",
              "      <td>2</td>\n",
              "      <td>0</td>\n",
              "      <td>5</td>\n",
              "      <td>0</td>\n",
              "      <td>2</td>\n",
              "      <td>0</td>\n",
              "    </tr>\n",
              "    <tr>\n",
              "      <th>1983.0</th>\n",
              "      <td>7</td>\n",
              "      <td>1</td>\n",
              "      <td>0</td>\n",
              "      <td>1</td>\n",
              "      <td>5</td>\n",
              "      <td>1</td>\n",
              "      <td>0</td>\n",
              "      <td>0</td>\n",
              "      <td>1</td>\n",
              "      <td>0</td>\n",
              "      <td>1</td>\n",
              "      <td>0</td>\n",
              "    </tr>\n",
              "    <tr>\n",
              "      <th>1984.0</th>\n",
              "      <td>1</td>\n",
              "      <td>0</td>\n",
              "      <td>0</td>\n",
              "      <td>1</td>\n",
              "      <td>1</td>\n",
              "      <td>3</td>\n",
              "      <td>3</td>\n",
              "      <td>0</td>\n",
              "      <td>3</td>\n",
              "      <td>0</td>\n",
              "      <td>2</td>\n",
              "      <td>0</td>\n",
              "    </tr>\n",
              "  </tbody>\n",
              "</table>\n",
              "</div>"
            ],
            "text/plain": [
              "Genre   Action  Adventure  Fighting  ...  Simulation  Sports  Strategy\n",
              "Year                                 ...                              \n",
              "1980.0       1          0         1  ...           0       0         0\n",
              "1981.0      25          0         0  ...           1       4         0\n",
              "1982.0      18          0         0  ...           0       2         0\n",
              "1983.0       7          1         0  ...           0       1         0\n",
              "1984.0       1          0         0  ...           0       2         0\n",
              "\n",
              "[5 rows x 12 columns]"
            ]
          },
          "metadata": {
            "tags": []
          },
          "execution_count": 229
        }
      ]
    },
    {
      "cell_type": "code",
      "metadata": {
        "colab": {
          "base_uri": "https://localhost:8080/",
          "height": 315
        },
        "id": "UlLykD87n-V8",
        "outputId": "72a5fa73-c63c-4fad-a7bf-f391cc99ac9b"
      },
      "source": [
        "# 다시생각해보자 연도의 트랜드... 연도와 장르? 판매량?\n",
        "\n",
        "df4 = df.dropna()\n",
        "df4['Total_Sales'] = df4['Other_Sales'] + df4['NA_Sales'] + df4['JP_Sales']+ df4['EU_Sales']\n",
        "df4 = df4[['Genre','Year','Total_Sales']]\n",
        "\n",
        "# apply 사용해서 단위 통일\n",
        "df_1980 = df4[df4['Year']== 1980]\n",
        "\n",
        "df_1980.groupby('Genre').mean()"
      ],
      "execution_count": 251,
      "outputs": [
        {
          "output_type": "stream",
          "text": [
            "/usr/local/lib/python3.7/dist-packages/ipykernel_launcher.py:4: SettingWithCopyWarning: \n",
            "A value is trying to be set on a copy of a slice from a DataFrame.\n",
            "Try using .loc[row_indexer,col_indexer] = value instead\n",
            "\n",
            "See the caveats in the documentation: https://pandas.pydata.org/pandas-docs/stable/user_guide/indexing.html#returning-a-view-versus-a-copy\n",
            "  after removing the cwd from sys.path.\n"
          ],
          "name": "stderr"
        },
        {
          "output_type": "execute_result",
          "data": {
            "text/html": [
              "<div>\n",
              "<style scoped>\n",
              "    .dataframe tbody tr th:only-of-type {\n",
              "        vertical-align: middle;\n",
              "    }\n",
              "\n",
              "    .dataframe tbody tr th {\n",
              "        vertical-align: top;\n",
              "    }\n",
              "\n",
              "    .dataframe thead th {\n",
              "        text-align: right;\n",
              "    }\n",
              "</style>\n",
              "<table border=\"1\" class=\"dataframe\">\n",
              "  <thead>\n",
              "    <tr style=\"text-align: right;\">\n",
              "      <th></th>\n",
              "      <th>Year</th>\n",
              "      <th>Total_Sales</th>\n",
              "    </tr>\n",
              "    <tr>\n",
              "      <th>Genre</th>\n",
              "      <th></th>\n",
              "      <th></th>\n",
              "    </tr>\n",
              "  </thead>\n",
              "  <tbody>\n",
              "    <tr>\n",
              "      <th>Action</th>\n",
              "      <td>1980.0</td>\n",
              "      <td>0.34000</td>\n",
              "    </tr>\n",
              "    <tr>\n",
              "      <th>Fighting</th>\n",
              "      <td>1980.0</td>\n",
              "      <td>0.77000</td>\n",
              "    </tr>\n",
              "    <tr>\n",
              "      <th>Misc</th>\n",
              "      <td>1980.0</td>\n",
              "      <td>0.67525</td>\n",
              "    </tr>\n",
              "    <tr>\n",
              "      <th>Shooter</th>\n",
              "      <td>1980.0</td>\n",
              "      <td>3.53500</td>\n",
              "    </tr>\n",
              "  </tbody>\n",
              "</table>\n",
              "</div>"
            ],
            "text/plain": [
              "            Year  Total_Sales\n",
              "Genre                        \n",
              "Action    1980.0      0.34000\n",
              "Fighting  1980.0      0.77000\n",
              "Misc      1980.0      0.67525\n",
              "Shooter   1980.0      3.53500"
            ]
          },
          "metadata": {
            "tags": []
          },
          "execution_count": 251
        }
      ]
    },
    {
      "cell_type": "markdown",
      "metadata": {
        "id": "-Xej8yxWN9rj"
      },
      "source": [
        "# 3. 2. 플랫폼은 어떻게 선택할까?\n",
        "\n"
      ]
    },
    {
      "cell_type": "code",
      "metadata": {
        "colab": {
          "base_uri": "https://localhost:8080/",
          "height": 81
        },
        "id": "dlsQpqH-ONt4",
        "outputId": "c2af2cdc-cb14-449d-be54-b0ab99e935c5"
      },
      "source": [
        "# 총매출을 나타내는 Total_Sales 열 추가\n",
        "df['Total_Sales'] = df['EU_Sales'] + df['JP_Sales'] + df['NA_Sales'] + df['Other_Sales']\n",
        "\n",
        "# 플랫폼과 장르 총판매액만 나타내는 데이터프레임 선언, 결측치제거\n",
        "df_platform_genre = df[['Platform','Genre','Total_Sales']].dropna()\n",
        "df_platform_genre.isna().sum()\n",
        "\n",
        "# 함수만들기\n",
        "df_empty = pd.DataFrame(columns=['Action','Adventure',\t'Fighting',\t'Misc',\t'Platform',\t'Puzzle',\t'Racing',\t'Role-Playing',\t'Shooter',\t'Simulation',\t'Sports',\t'Strategy'])\n",
        "\n",
        "dff = df_platform_genre[df_platform_genre['Platform'] == 'DS']\n",
        "dff = dff[['Genre','Total_Sales']]\n",
        "\n",
        "re = dff.groupby('Genre').mean().T\n",
        "\n",
        "re2 = re.rename (index={'Total_Sales':'DS'})\n",
        "\n",
        "df_empty = pd.concat([df_empty,re2])\n"
      ],
      "execution_count": 67,
      "outputs": [
        {
          "output_type": "execute_result",
          "data": {
            "text/html": [
              "<div>\n",
              "<style scoped>\n",
              "    .dataframe tbody tr th:only-of-type {\n",
              "        vertical-align: middle;\n",
              "    }\n",
              "\n",
              "    .dataframe tbody tr th {\n",
              "        vertical-align: top;\n",
              "    }\n",
              "\n",
              "    .dataframe thead th {\n",
              "        text-align: right;\n",
              "    }\n",
              "</style>\n",
              "<table border=\"1\" class=\"dataframe\">\n",
              "  <thead>\n",
              "    <tr style=\"text-align: right;\">\n",
              "      <th>Genre</th>\n",
              "      <th>Action</th>\n",
              "      <th>Adventure</th>\n",
              "      <th>Fighting</th>\n",
              "      <th>Misc</th>\n",
              "      <th>Platform</th>\n",
              "      <th>Puzzle</th>\n",
              "      <th>Racing</th>\n",
              "      <th>Role-Playing</th>\n",
              "      <th>Shooter</th>\n",
              "      <th>Simulation</th>\n",
              "      <th>Sports</th>\n",
              "      <th>Strategy</th>\n",
              "    </tr>\n",
              "  </thead>\n",
              "  <tbody>\n",
              "    <tr>\n",
              "      <th>DS</th>\n",
              "      <td>0.34805</td>\n",
              "      <td>0.214439</td>\n",
              "      <td>0.2</td>\n",
              "      <td>0.371446</td>\n",
              "      <td>0.841217</td>\n",
              "      <td>0.362152</td>\n",
              "      <td>0.575985</td>\n",
              "      <td>0.63886</td>\n",
              "      <td>0.21669</td>\n",
              "      <td>0.470303</td>\n",
              "      <td>0.228122</td>\n",
              "      <td>0.219367</td>\n",
              "    </tr>\n",
              "  </tbody>\n",
              "</table>\n",
              "</div>"
            ],
            "text/plain": [
              "Genre   Action  Adventure  Fighting  ...  Simulation    Sports  Strategy\n",
              "DS     0.34805   0.214439       0.2  ...    0.470303  0.228122  0.219367\n",
              "\n",
              "[1 rows x 12 columns]"
            ]
          },
          "metadata": {
            "tags": []
          },
          "execution_count": 67
        }
      ]
    },
    {
      "cell_type": "code",
      "metadata": {
        "id": "IFUXp0lWetRQ"
      },
      "source": [
        "platforms = df3.Genre\n",
        "\n",
        "def platformGenre(df):\n",
        "    df_empty = pd.DataFrame(columns=['Action','Adventure',\t'Fighting',\t'Misc',\t'Platform',\t'Puzzle',\t'Racing',\t'Role-Playing',\t'Shooter',\t'Simulation',\t'Sports',\t'Strategy'])\n",
        "    for platform in platforms:\n",
        "        plat = df[df['Platform'] == platform]\n",
        "        plat = plat[['Genre','Total_Sales']]\n",
        "        result = plat.groupby('Genre').mean().T\n",
        "        result = result.rename(index={'Total_Sales': platform})\n",
        "        df_empty = pd.concat([df_empty,result])\n",
        "    df_empty\n",
        "    \n",
        "platformGenre(df_platform_genre)"
      ],
      "execution_count": 80,
      "outputs": []
    },
    {
      "cell_type": "code",
      "metadata": {
        "colab": {
          "base_uri": "https://localhost:8080/",
          "height": 81
        },
        "id": "DFSdxtMblmik",
        "outputId": "96bfa3d4-2ce9-486b-b179-c75ac2f7e4c0"
      },
      "source": [
        "df_empty"
      ],
      "execution_count": 81,
      "outputs": [
        {
          "output_type": "execute_result",
          "data": {
            "text/html": [
              "<div>\n",
              "<style scoped>\n",
              "    .dataframe tbody tr th:only-of-type {\n",
              "        vertical-align: middle;\n",
              "    }\n",
              "\n",
              "    .dataframe tbody tr th {\n",
              "        vertical-align: top;\n",
              "    }\n",
              "\n",
              "    .dataframe thead th {\n",
              "        text-align: right;\n",
              "    }\n",
              "</style>\n",
              "<table border=\"1\" class=\"dataframe\">\n",
              "  <thead>\n",
              "    <tr style=\"text-align: right;\">\n",
              "      <th>Genre</th>\n",
              "      <th>Action</th>\n",
              "      <th>Adventure</th>\n",
              "      <th>Fighting</th>\n",
              "      <th>Misc</th>\n",
              "      <th>Platform</th>\n",
              "      <th>Puzzle</th>\n",
              "      <th>Racing</th>\n",
              "      <th>Role-Playing</th>\n",
              "      <th>Shooter</th>\n",
              "      <th>Simulation</th>\n",
              "      <th>Sports</th>\n",
              "      <th>Strategy</th>\n",
              "    </tr>\n",
              "  </thead>\n",
              "  <tbody>\n",
              "    <tr>\n",
              "      <th>DS</th>\n",
              "      <td>0.34805</td>\n",
              "      <td>0.214439</td>\n",
              "      <td>0.2</td>\n",
              "      <td>0.371446</td>\n",
              "      <td>0.841217</td>\n",
              "      <td>0.362152</td>\n",
              "      <td>0.575985</td>\n",
              "      <td>0.63886</td>\n",
              "      <td>0.21669</td>\n",
              "      <td>0.470303</td>\n",
              "      <td>0.228122</td>\n",
              "      <td>0.219367</td>\n",
              "    </tr>\n",
              "  </tbody>\n",
              "</table>\n",
              "</div>"
            ],
            "text/plain": [
              "Genre   Action  Adventure  Fighting  ...  Simulation    Sports  Strategy\n",
              "DS     0.34805   0.214439       0.2  ...    0.470303  0.228122  0.219367\n",
              "\n",
              "[1 rows x 12 columns]"
            ]
          },
          "metadata": {
            "tags": []
          },
          "execution_count": 81
        }
      ]
    },
    {
      "cell_type": "markdown",
      "metadata": {
        "id": "j0jOOZu-lq12"
      },
      "source": [
        "# 4. 출고량이 많은 게임을 분석하고 시각화해보자\n",
        "\n",
        "출고량 순서대로 그래프를 그려보자"
      ]
    },
    {
      "cell_type": "code",
      "metadata": {
        "id": "kDcImloYlvj5"
      },
      "source": [
        ""
      ],
      "execution_count": null,
      "outputs": []
    },
    {
      "cell_type": "markdown",
      "metadata": {
        "id": "vLNWBlA1lxjN"
      },
      "source": [
        "# 결론\n",
        "## 판매량과 다른 요소들의 관계를 비교해보자  \n",
        "위의 분석들을 통해 다음과 같은 결론을 내릴 수 있다  \n",
        "\n",
        "판매량 - 장르  \n",
        "판매량 - 플랫폼  \n",
        "판매량 - \n",
        "\n",
        "이 우선순위를 바탕으로  \n",
        "최근 판매량이 많은 게임을 분석하여 적용시켜본다면  \n",
        "\n",
        "목적에 부합하는  \n",
        "\"잘 팔리는 게임\"을 만들 수 있는 가능성이 높다  \n",
        "\n",
        "~ 한 게임을 만드는것이 좋다"
      ]
    },
    {
      "cell_type": "code",
      "metadata": {
        "id": "ysJdFLbLnLtj",
        "colab": {
          "base_uri": "https://localhost:8080/",
          "height": 205
        },
        "outputId": "2e332c8f-b6b4-4ce9-80ba-69af91d5ccbe"
      },
      "source": [
        "g1 = np.array([0, 31, 6, 26, 40])\n",
        "\n",
        "g2 = np.array([24, 15, 12, 22, 5])\n",
        "\n",
        "g3 = np.array([32, 52, 30, 18, 36])\n",
        "\n",
        "pd.DataFrame(g1)"
      ],
      "execution_count": 96,
      "outputs": [
        {
          "output_type": "execute_result",
          "data": {
            "text/html": [
              "<div>\n",
              "<style scoped>\n",
              "    .dataframe tbody tr th:only-of-type {\n",
              "        vertical-align: middle;\n",
              "    }\n",
              "\n",
              "    .dataframe tbody tr th {\n",
              "        vertical-align: top;\n",
              "    }\n",
              "\n",
              "    .dataframe thead th {\n",
              "        text-align: right;\n",
              "    }\n",
              "</style>\n",
              "<table border=\"1\" class=\"dataframe\">\n",
              "  <thead>\n",
              "    <tr style=\"text-align: right;\">\n",
              "      <th></th>\n",
              "      <th>0</th>\n",
              "    </tr>\n",
              "  </thead>\n",
              "  <tbody>\n",
              "    <tr>\n",
              "      <th>0</th>\n",
              "      <td>0</td>\n",
              "    </tr>\n",
              "    <tr>\n",
              "      <th>1</th>\n",
              "      <td>31</td>\n",
              "    </tr>\n",
              "    <tr>\n",
              "      <th>2</th>\n",
              "      <td>6</td>\n",
              "    </tr>\n",
              "    <tr>\n",
              "      <th>3</th>\n",
              "      <td>26</td>\n",
              "    </tr>\n",
              "    <tr>\n",
              "      <th>4</th>\n",
              "      <td>40</td>\n",
              "    </tr>\n",
              "  </tbody>\n",
              "</table>\n",
              "</div>"
            ],
            "text/plain": [
              "    0\n",
              "0   0\n",
              "1  31\n",
              "2   6\n",
              "3  26\n",
              "4  40"
            ]
          },
          "metadata": {
            "tags": []
          },
          "execution_count": 96
        }
      ]
    },
    {
      "cell_type": "code",
      "metadata": {
        "id": "pT7F8PCR4BO2"
      },
      "source": [
        ""
      ],
      "execution_count": null,
      "outputs": []
    },
    {
      "cell_type": "markdown",
      "metadata": {
        "id": "7L9-qDDfvysl"
      },
      "source": [
        "# 잘못된 자료들"
      ]
    },
    {
      "cell_type": "code",
      "metadata": {
        "id": "ziQLXn90v0EO"
      },
      "source": [
        "# 정체불명의 장르분포비교 ,\n",
        "ge_lo = df2.groupby('Genre').sum().T\n",
        "\n",
        "# 각 지역별 장르의 분포를 비교하는 F-test 실시\n",
        "ge_loc = f_oneway(ge_lo['Action'],ge_lo['Adventure'],ge_lo['Fighting'],ge_lo['Misc'],ge_lo['Platform'],ge_lo['Puzzle'],ge_lo['Racing'],ge_lo['Role-Playing'],ge_lo['Shooter'],ge_lo['Simulation'],ge_lo['Sports'],ge_lo['Strategy'])\n",
        "print(\"P-value :\", ge_loc.pvalue)\n",
        "\n",
        "print(\"\"\"\n",
        "여기서의 귀무가설은 \"장르별 판매량은 차이가없다\" 이다\n",
        "\n",
        "p-value의 값은 0.051 이므로 귀무가설을 기각할 수 없다\n",
        "지역의 장르별 판매량은 차이가없다. 즉, 선호도가 비슷하다 \n",
        "\"\"\")"
      ],
      "execution_count": null,
      "outputs": []
    }
  ]
}