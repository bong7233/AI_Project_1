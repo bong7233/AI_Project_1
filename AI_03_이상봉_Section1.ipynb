{
  "nbformat": 4,
  "nbformat_minor": 0,
  "metadata": {
    "colab": {
      "name": "project1_이상봉.ipynb",
      "provenance": [],
      "collapsed_sections": [],
      "toc_visible": true
    },
    "kernelspec": {
      "name": "python3",
      "display_name": "Python 3"
    },
    "language_info": {
      "name": "python"
    }
  },
  "cells": [
    {
      "cell_type": "code",
      "metadata": {
        "id": "yyjYHK8K3OTb",
        "outputId": "a4292159-409a-4e18-8864-8a735542f901",
        "colab": {
          "base_uri": "https://localhost:8080/"
        }
      },
      "source": [
        "from google.colab import drive\n",
        "drive.mount('/content/drive')"
      ],
      "execution_count": 10,
      "outputs": [
        {
          "output_type": "stream",
          "text": [
            "Drive already mounted at /content/drive; to attempt to forcibly remount, call drive.mount(\"/content/drive\", force_remount=True).\n"
          ],
          "name": "stdout"
        }
      ]
    },
    {
      "cell_type": "markdown",
      "metadata": {
        "id": "xNm35ClGwGE0"
      },
      "source": [
        "# Project\n",
        "---\n",
        "## **주제와 목적**\n",
        "주어진 게임판매량 데이터를 분석하여  \n",
        "다음 분기에 어떤 게임을 설계할지 선택\n",
        "\n",
        "---\n",
        "## **게임을 설계하기 위해서 무엇을 고려해야할까?**\n",
        "게임을 설계하는 방향은 \"판매량이 많은 게임\" 을 만드는 것  \n",
        "그러므로 게임의 판매량에 영향을 주는 요인이 무엇인지 확인   \n",
        "그 요인들을 바탕으로 게임의 장르, 플랫폼, 지역을 선택  \n",
        "\n",
        "---\n",
        "### **1. 장르는 어떻게 선택할까?**\n",
        "\n",
        "우선 장르와 지역, 연도의 관련성을 분석\n",
        "1. 지역별 장르의 선호도가 다를까?\n",
        "2. 연도별 장르의 트랜드가 있는가?\n",
        "\n",
        "장르와 연관성 있는것 찾기  \n",
        "\n",
        "---\n",
        "### **2. 플랫폼은 어떻게 선택할까?**\n",
        "\n",
        "플랫폼과 판매량의 관련성을 분석\n",
        "1. 지역별 플랫폼의 선호도가 다를까?\n",
        "2. 플랫폼과 장르는 연관이 있을까?\n",
        "\n",
        "플랫폼과 와 연관성 있는것 찾기\n",
        "\n",
        "---\n",
        "### **3. 출고량이 많은 게임을 분석해보자**\n",
        "출고량이 많은 게임의 분석 및 시각화\n",
        "1. 출고량이 많은 게임들의 장르 분포는?\n",
        "2. 출고량이 많은 게임들의 플랫폼 분포는?\n",
        "3. 기타 고려할 사항들은?\n",
        "\n",
        "---\n",
        "### **4. 분석방향**\n",
        "1,2번에서 분석한 장르와 플랫폼에 관련있는 사항들을 고려하여  \n",
        "출고량이 많은 게임들의 분석결과에 적용시키면  \n",
        "어떤 장르와 플랫폼을 골라야 하는지,  \n",
        "골랐다면 지역을 신경써야하는지 결론 도출 가능\n",
        "\n",
        "---\n",
        "## **결론**\n",
        "\n",
        "1~4번 과정을 통해  \n",
        "**\"어떤 장르의 게임을 어떤 플랫폼으로 어디에 출시할지\"**  \n",
        "설계 방향 선택\n",
        "\n",
        "![sales]()"
      ]
    },
    {
      "cell_type": "markdown",
      "metadata": {
        "id": "Hqvk5acKkl4A"
      },
      "source": [
        "---\n",
        "# 전처리작업(EDA)\n",
        "데이터내의 수치를 일관성있게 통일하기 위해 전처리작업 진행    \n",
        "전처리작업이란, 숫자의 단위나 알파벳의 대소문자 통일, 비어있는 값을 처리하여 데이터의 오류를 최소화하는 과정"
      ]
    },
    {
      "cell_type": "code",
      "metadata": {
        "colab": {
          "base_uri": "https://localhost:8080/"
        },
        "id": "QcswP7LkOhIS",
        "outputId": "09340172-730d-4440-d357-58598090a78f"
      },
      "source": [
        "from google.colab import drive\n",
        "drive.mount('/content/drive')"
      ],
      "execution_count": 2,
      "outputs": [
        {
          "output_type": "stream",
          "text": [
            "Mounted at /content/drive\n"
          ],
          "name": "stdout"
        }
      ]
    },
    {
      "cell_type": "code",
      "metadata": {
        "id": "KaSK2caSlPW4"
      },
      "source": [
        "import pandas as pd\n",
        "import numpy as np\n",
        "from scipy.stats import chi2_contingency, f_oneway, stats\n",
        "from sklearn.decomposition import PCA\n",
        "from sklearn.preprocessing import StandardScaler\n",
        "import seaborn as sns\n",
        "import matplotlib.pyplot as plt\n",
        "\n",
        "# 데이터 불러오기\n",
        "df = pd.read_csv('/content/drive/MyDrive/AI_bootcamp/vgames2.csv', encoding='CP949')\n",
        "\n",
        "# 인덱스제거\n",
        "df = df.drop(['Unnamed: 0','Name','Publisher'], axis=1)"
      ],
      "execution_count": 6,
      "outputs": []
    },
    {
      "cell_type": "code",
      "metadata": {
        "colab": {
          "base_uri": "https://localhost:8080/"
        },
        "id": "kHVwjbdwlQY-",
        "outputId": "cbb7cd85-ef21-4e17-bb84-0f5ffda81e71"
      },
      "source": [
        "# 데이터 전처리하기\n",
        "\n",
        "\n",
        "# 판매량을 (0.00) 단위로 통일하고 float으로 변경하는 함수 선언\n",
        "def unification(string):\n",
        "    # K가 있다면 지우고 천 곱하고 백만으로 나누기\n",
        "    if ('K' in string) == True:\n",
        "        # 만약 0K 라면 0.001로 바로바꾸기\n",
        "        if string == '0K':\n",
        "            return float(0.001)\n",
        "        else:\n",
        "            remove_k = string.replace('K','')\n",
        "            return float(remove_k)*0.001\n",
        "    # M이 있다면 지우기\n",
        "    elif ('M' in string) == True:\n",
        "        # 만약 OM 이라면 1.0으로 바꾸기\n",
        "        if string == '0M':\n",
        "            return float(1.0)\n",
        "        else:\n",
        "            remove_m = string.replace('M','')\n",
        "            return float(remove_m)\n",
        "    # 둘다없다면 타입만바꾸기\n",
        "    else:\n",
        "        return float(string)\n",
        "\n",
        "# 판매량 칼럽의 단위통일시키기\n",
        "df['NA_Sales'] = df['NA_Sales'].apply(unification)\n",
        "df['JP_Sales'] = df['JP_Sales'].apply(unification)\n",
        "df['EU_Sales'] = df['EU_Sales'].apply(unification)\n",
        "df['Other_Sales'] = df['Other_Sales'].apply(unification)\n",
        "\n",
        "# datatype이 object->float으로 되었는지 확인\n",
        "df.dtypes"
      ],
      "execution_count": 7,
      "outputs": [
        {
          "output_type": "execute_result",
          "data": {
            "text/plain": [
              "Platform        object\n",
              "Year           float64\n",
              "Genre           object\n",
              "NA_Sales       float64\n",
              "EU_Sales       float64\n",
              "JP_Sales       float64\n",
              "Other_Sales    float64\n",
              "dtype: object"
            ]
          },
          "metadata": {
            "tags": []
          },
          "execution_count": 7
        }
      ]
    },
    {
      "cell_type": "markdown",
      "metadata": {
        "id": "JPVtL4VAwmkv"
      },
      "source": [
        "---\n",
        "# 데이터 확인해보기\n"
      ]
    },
    {
      "cell_type": "code",
      "metadata": {
        "id": "MBrgbUCEwrQR",
        "outputId": "4605ba2d-25d6-46b6-946b-a934d2c39171",
        "colab": {
          "base_uri": "https://localhost:8080/",
          "height": 422
        }
      },
      "source": [
        "df"
      ],
      "execution_count": 8,
      "outputs": [
        {
          "output_type": "execute_result",
          "data": {
            "text/html": [
              "<div>\n",
              "<style scoped>\n",
              "    .dataframe tbody tr th:only-of-type {\n",
              "        vertical-align: middle;\n",
              "    }\n",
              "\n",
              "    .dataframe tbody tr th {\n",
              "        vertical-align: top;\n",
              "    }\n",
              "\n",
              "    .dataframe thead th {\n",
              "        text-align: right;\n",
              "    }\n",
              "</style>\n",
              "<table border=\"1\" class=\"dataframe\">\n",
              "  <thead>\n",
              "    <tr style=\"text-align: right;\">\n",
              "      <th></th>\n",
              "      <th>Platform</th>\n",
              "      <th>Year</th>\n",
              "      <th>Genre</th>\n",
              "      <th>NA_Sales</th>\n",
              "      <th>EU_Sales</th>\n",
              "      <th>JP_Sales</th>\n",
              "      <th>Other_Sales</th>\n",
              "    </tr>\n",
              "  </thead>\n",
              "  <tbody>\n",
              "    <tr>\n",
              "      <th>0</th>\n",
              "      <td>DS</td>\n",
              "      <td>2008.0</td>\n",
              "      <td>Action</td>\n",
              "      <td>0.04</td>\n",
              "      <td>0.00</td>\n",
              "      <td>0.00</td>\n",
              "      <td>0.00</td>\n",
              "    </tr>\n",
              "    <tr>\n",
              "      <th>1</th>\n",
              "      <td>Wii</td>\n",
              "      <td>2009.0</td>\n",
              "      <td>Action</td>\n",
              "      <td>0.17</td>\n",
              "      <td>0.00</td>\n",
              "      <td>0.00</td>\n",
              "      <td>0.01</td>\n",
              "    </tr>\n",
              "    <tr>\n",
              "      <th>2</th>\n",
              "      <td>PSP</td>\n",
              "      <td>2010.0</td>\n",
              "      <td>Adventure</td>\n",
              "      <td>0.00</td>\n",
              "      <td>0.00</td>\n",
              "      <td>0.02</td>\n",
              "      <td>0.00</td>\n",
              "    </tr>\n",
              "    <tr>\n",
              "      <th>3</th>\n",
              "      <td>DS</td>\n",
              "      <td>2010.0</td>\n",
              "      <td>Misc</td>\n",
              "      <td>0.04</td>\n",
              "      <td>0.00</td>\n",
              "      <td>0.00</td>\n",
              "      <td>0.00</td>\n",
              "    </tr>\n",
              "    <tr>\n",
              "      <th>4</th>\n",
              "      <td>PS3</td>\n",
              "      <td>2010.0</td>\n",
              "      <td>Platform</td>\n",
              "      <td>0.12</td>\n",
              "      <td>0.09</td>\n",
              "      <td>0.00</td>\n",
              "      <td>0.04</td>\n",
              "    </tr>\n",
              "    <tr>\n",
              "      <th>...</th>\n",
              "      <td>...</td>\n",
              "      <td>...</td>\n",
              "      <td>...</td>\n",
              "      <td>...</td>\n",
              "      <td>...</td>\n",
              "      <td>...</td>\n",
              "      <td>...</td>\n",
              "    </tr>\n",
              "    <tr>\n",
              "      <th>16593</th>\n",
              "      <td>GC</td>\n",
              "      <td>2006.0</td>\n",
              "      <td>Platform</td>\n",
              "      <td>0.15</td>\n",
              "      <td>0.04</td>\n",
              "      <td>0.00</td>\n",
              "      <td>0.01</td>\n",
              "    </tr>\n",
              "    <tr>\n",
              "      <th>16594</th>\n",
              "      <td>PSP</td>\n",
              "      <td>2005.0</td>\n",
              "      <td>Action</td>\n",
              "      <td>0.01</td>\n",
              "      <td>0.00</td>\n",
              "      <td>0.00</td>\n",
              "      <td>0.00</td>\n",
              "    </tr>\n",
              "    <tr>\n",
              "      <th>16595</th>\n",
              "      <td>PS3</td>\n",
              "      <td>2015.0</td>\n",
              "      <td>Sports</td>\n",
              "      <td>0.44</td>\n",
              "      <td>0.19</td>\n",
              "      <td>0.03</td>\n",
              "      <td>0.13</td>\n",
              "    </tr>\n",
              "    <tr>\n",
              "      <th>16596</th>\n",
              "      <td>PSV</td>\n",
              "      <td>2013.0</td>\n",
              "      <td>Action</td>\n",
              "      <td>0.05</td>\n",
              "      <td>0.05</td>\n",
              "      <td>0.25</td>\n",
              "      <td>0.03</td>\n",
              "    </tr>\n",
              "    <tr>\n",
              "      <th>16597</th>\n",
              "      <td>PS</td>\n",
              "      <td>1996.0</td>\n",
              "      <td>Fighting</td>\n",
              "      <td>0.00</td>\n",
              "      <td>0.00</td>\n",
              "      <td>0.16</td>\n",
              "      <td>0.01</td>\n",
              "    </tr>\n",
              "  </tbody>\n",
              "</table>\n",
              "<p>16598 rows × 7 columns</p>\n",
              "</div>"
            ],
            "text/plain": [
              "      Platform    Year      Genre  NA_Sales  EU_Sales  JP_Sales  Other_Sales\n",
              "0           DS  2008.0     Action      0.04      0.00      0.00         0.00\n",
              "1          Wii  2009.0     Action      0.17      0.00      0.00         0.01\n",
              "2          PSP  2010.0  Adventure      0.00      0.00      0.02         0.00\n",
              "3           DS  2010.0       Misc      0.04      0.00      0.00         0.00\n",
              "4          PS3  2010.0   Platform      0.12      0.09      0.00         0.04\n",
              "...        ...     ...        ...       ...       ...       ...          ...\n",
              "16593       GC  2006.0   Platform      0.15      0.04      0.00         0.01\n",
              "16594      PSP  2005.0     Action      0.01      0.00      0.00         0.00\n",
              "16595      PS3  2015.0     Sports      0.44      0.19      0.03         0.13\n",
              "16596      PSV  2013.0     Action      0.05      0.05      0.25         0.03\n",
              "16597       PS  1996.0   Fighting      0.00      0.00      0.16         0.01\n",
              "\n",
              "[16598 rows x 7 columns]"
            ]
          },
          "metadata": {
            "tags": []
          },
          "execution_count": 8
        }
      ]
    },
    {
      "cell_type": "markdown",
      "metadata": {
        "id": "RHnMxri4xxhA"
      },
      "source": [
        "## !! 분석을 시작하기전에 무슨 통계학적 방법이 사용되었는지 간단히 알아보기\n",
        "- 과일가게"
      ]
    },
    {
      "cell_type": "markdown",
      "metadata": {
        "id": "2-4sokgN_edQ"
      },
      "source": [
        "---\n",
        "# 1. 장르는 어떻게 선택할까?\n",
        "---\n",
        "## 지역별 장르 선호도 차이 확인 \n",
        "- 같은 장르가 모든 지역에서 판매량이 차이난다면,  \n",
        "장르의 선호도도 다른것으로 판단\n",
        "  - ex) 레이싱 게임의 유럽,북미,일본에서 판매량이 차이난다면    \n",
        "선호도가 다른것으로 판단\n",
        "\n",
        "- 분석결과 장르의 선호도가 다르다면,  \n",
        "장르 선택 후 출시할 지역도 고려해야함"
      ]
    },
    {
      "cell_type": "code",
      "metadata": {
        "colab": {
          "base_uri": "https://localhost:8080/",
          "height": 205
        },
        "id": "6cxR7Lo1_fGp",
        "outputId": "c101fffd-f809-4ee2-9be0-c3ed8f40e097"
      },
      "source": [
        "# 장르와 판매량만 포함하는 df2 선언후 결측치 처리\n",
        "df2 = df\n",
        "df2 = df2.drop(['Year','Platform'],axis=1)\n",
        "df2 = df2.dropna()\n",
        "df2.isna().sum()\n",
        "df2.head()"
      ],
      "execution_count": 9,
      "outputs": [
        {
          "output_type": "execute_result",
          "data": {
            "text/html": [
              "<div>\n",
              "<style scoped>\n",
              "    .dataframe tbody tr th:only-of-type {\n",
              "        vertical-align: middle;\n",
              "    }\n",
              "\n",
              "    .dataframe tbody tr th {\n",
              "        vertical-align: top;\n",
              "    }\n",
              "\n",
              "    .dataframe thead th {\n",
              "        text-align: right;\n",
              "    }\n",
              "</style>\n",
              "<table border=\"1\" class=\"dataframe\">\n",
              "  <thead>\n",
              "    <tr style=\"text-align: right;\">\n",
              "      <th></th>\n",
              "      <th>Genre</th>\n",
              "      <th>NA_Sales</th>\n",
              "      <th>EU_Sales</th>\n",
              "      <th>JP_Sales</th>\n",
              "      <th>Other_Sales</th>\n",
              "    </tr>\n",
              "  </thead>\n",
              "  <tbody>\n",
              "    <tr>\n",
              "      <th>0</th>\n",
              "      <td>Action</td>\n",
              "      <td>0.04</td>\n",
              "      <td>0.00</td>\n",
              "      <td>0.00</td>\n",
              "      <td>0.00</td>\n",
              "    </tr>\n",
              "    <tr>\n",
              "      <th>1</th>\n",
              "      <td>Action</td>\n",
              "      <td>0.17</td>\n",
              "      <td>0.00</td>\n",
              "      <td>0.00</td>\n",
              "      <td>0.01</td>\n",
              "    </tr>\n",
              "    <tr>\n",
              "      <th>2</th>\n",
              "      <td>Adventure</td>\n",
              "      <td>0.00</td>\n",
              "      <td>0.00</td>\n",
              "      <td>0.02</td>\n",
              "      <td>0.00</td>\n",
              "    </tr>\n",
              "    <tr>\n",
              "      <th>3</th>\n",
              "      <td>Misc</td>\n",
              "      <td>0.04</td>\n",
              "      <td>0.00</td>\n",
              "      <td>0.00</td>\n",
              "      <td>0.00</td>\n",
              "    </tr>\n",
              "    <tr>\n",
              "      <th>4</th>\n",
              "      <td>Platform</td>\n",
              "      <td>0.12</td>\n",
              "      <td>0.09</td>\n",
              "      <td>0.00</td>\n",
              "      <td>0.04</td>\n",
              "    </tr>\n",
              "  </tbody>\n",
              "</table>\n",
              "</div>"
            ],
            "text/plain": [
              "       Genre  NA_Sales  EU_Sales  JP_Sales  Other_Sales\n",
              "0     Action      0.04      0.00      0.00         0.00\n",
              "1     Action      0.17      0.00      0.00         0.01\n",
              "2  Adventure      0.00      0.00      0.02         0.00\n",
              "3       Misc      0.04      0.00      0.00         0.00\n",
              "4   Platform      0.12      0.09      0.00         0.04"
            ]
          },
          "metadata": {
            "tags": []
          },
          "execution_count": 9
        }
      ]
    },
    {
      "cell_type": "code",
      "metadata": {
        "colab": {
          "base_uri": "https://localhost:8080/"
        },
        "id": "CMgj5VhjFziI",
        "outputId": "cde46bd9-d0ba-4302-a7bb-acf2fdebcc12"
      },
      "source": [
        "# 장르 선호도 비교해보기\n",
        "\n",
        "# 장르들 목록 선언\n",
        "genres = ['Action', 'Adventure', 'Fighting', 'Misc', 'Platform', 'Puzzle',\n",
        "       'Racing', 'Role-Playing', 'Shooter', 'Simulation', 'Sports',\n",
        "       'Strategy']\n",
        "\n",
        "# 각 장르에대한 지역별 판매량 비교\n",
        "for genre in genres:\n",
        "    genre_data = df2[df2['Genre'] == genre]\n",
        "    result = f_oneway(genre_data['NA_Sales'],genre_data['JP_Sales'],genre_data['EU_Sales'],genre_data['Other_Sales'])\n",
        "    print(genre, '/p-value =', result[1])\n",
        "\n",
        "# 여기서의 \" 귀무가설 = 지역간 장르별 판매량은 차이가없다 \"\n",
        "# 하지만 장르들의 p-value 값이 모두 0.05보다 현저히 작으므로 귀무가설을 기각할수 있다\n",
        "# 즉 \"각 지역간의 장르별 판매량은 차이가 있다\" (지역별 장르의 선호도는 다르다)"
      ],
      "execution_count": null,
      "outputs": [
        {
          "output_type": "stream",
          "text": [
            "Action /p-value = 9.917382232427142e-147\n",
            "Adventure /p-value = 2.0945837982584205e-20\n",
            "Fighting /p-value = 1.2330556384385163e-43\n",
            "Misc /p-value = 6.440700553325507e-43\n",
            "Platform /p-value = 3.476396668290617e-28\n",
            "Puzzle /p-value = 7.747629545653912e-07\n",
            "Racing /p-value = 5.541020506203407e-39\n",
            "Role-Playing /p-value = 2.1695107684387342e-27\n",
            "Shooter /p-value = 1.8083226259160457e-63\n",
            "Simulation /p-value = 1.0172201539635495e-21\n",
            "Sports /p-value = 1.4237698139211029e-39\n",
            "Strategy /p-value = 2.6194762348013894e-12\n"
          ],
          "name": "stdout"
        }
      ]
    },
    {
      "cell_type": "markdown",
      "metadata": {
        "id": "MfMrUpW2VYjT"
      },
      "source": [
        "---\n",
        "## 연도별 게임의 트랜드가 있을까?\n",
        "\n",
        "- 연도의 장르별 판매량이 다르다면 - > 트랜드가 있다\n",
        "- 연도의 장르별 판매량이 비슷하다면 - > 트랜드가 없다 \n"
      ]
    },
    {
      "cell_type": "code",
      "metadata": {
        "colab": {
          "base_uri": "https://localhost:8080/"
        },
        "id": "J33HGkyGOHlz",
        "outputId": "09d55c54-c42c-4de6-a6ee-0760bcdccf86"
      },
      "source": [
        "# 연도와 장르,판매량 포함한 df3 선언후 결측치 처리\n",
        "df3 = df.drop('Platform',axis=1).dropna()\n",
        "df3.isna().sum()\n",
        "\n",
        "# 네자리로 통일시킨후 catogorical 하게 바꾸는 함수 선언\n",
        "def make_year(year):\n",
        "    if year < 21:\n",
        "        return str(int(year+2000))\n",
        "    elif year > 80 and year <= 99:\n",
        "        return str(int(year+1900))\n",
        "    else:\n",
        "        return str(int(year))\n",
        "\n",
        "# apply 사용해서 단위 통일\n",
        "df3['Year'] = df3['Year'].apply(make_year)\n",
        "df3.dtypes"
      ],
      "execution_count": null,
      "outputs": [
        {
          "output_type": "execute_result",
          "data": {
            "text/plain": [
              "Year            object\n",
              "Genre           object\n",
              "NA_Sales       float64\n",
              "EU_Sales       float64\n",
              "JP_Sales       float64\n",
              "Other_Sales    float64\n",
              "dtype: object"
            ]
          },
          "metadata": {
            "tags": []
          },
          "execution_count": 14
        }
      ]
    },
    {
      "cell_type": "code",
      "metadata": {
        "id": "IjAQDNVAo7MX"
      },
      "source": [
        "from scipy.stats import ttest_1samp\n",
        "\n",
        "# 연도와 장르별 총 판매량을 나타내는 데이터프레임 선언\n",
        "df3['Total'] = df3['NA_Sales'] + df3['JP_Sales'] + df3['EU_Sales'] + df3['Other_Sales']\n",
        "\n",
        "df_year_genre = df3.loc[:,['Year','Genre','Total']]\n",
        "\n",
        "# 연도 포함한 리스트생성\n",
        "years = sorted(df_year_genre.Year.unique())\n",
        "years.remove('2020')"
      ],
      "execution_count": null,
      "outputs": []
    },
    {
      "cell_type": "code",
      "metadata": {
        "id": "6vTBmJBNpbm_",
        "colab": {
          "base_uri": "https://localhost:8080/"
        },
        "outputId": "088b9c17-3e7c-436e-857b-a6a700d56d16"
      },
      "source": [
        "# 각 년도별 장르의 판매량을 단일t-test하여 p-value 찾기\n",
        "for year in years:\n",
        "    df_year = df_year_genre[df_year_genre['Year'] == year]\n",
        "    df_year = df_year.drop('Year',axis=1)\n",
        "    result = df_year.groupby('Genre').sum()\n",
        "    print(year, 'p-value =', ttest_1samp(result.Total, .5).pvalue)\n",
        "\n",
        "# 여기서의 귀무가설은 연도내에서 장르들의 판매량은 차이가없다\n",
        "# 1991년도 이후 p-value 값이 0.05보다 작으므로 귀무가설 기각\n",
        "# 연도내에서 장르들의 판매량은 차이가 있다, 즉 연도별 트랜드가 있다"
      ],
      "execution_count": null,
      "outputs": [
        {
          "output_type": "stream",
          "text": [
            "1980 p-value = 0.24459674030407155\n",
            "1981 p-value = 0.07466456063423615\n",
            "1982 p-value = 0.029252839150856514\n",
            "1983 p-value = 0.07141212851668743\n",
            "1984 p-value = 0.15085092647917114\n",
            "1985 p-value = 0.2698099895987587\n",
            "1986 p-value = 0.025617598721504594\n",
            "1987 p-value = 0.010817995665639705\n",
            "1988 p-value = 0.13628612185234243\n",
            "1989 p-value = 0.1039589968757798\n",
            "1990 p-value = 0.05572617213049469\n",
            "1991 p-value = 0.007927449605955157\n",
            "1992 p-value = 0.002128384090813836\n",
            "1993 p-value = 0.04481744445603272\n",
            "1994 p-value = 0.016677184597609827\n",
            "1995 p-value = 0.0006353026385446525\n",
            "1996 p-value = 0.0006439720650256627\n",
            "1997 p-value = 0.00016079559085433793\n",
            "1998 p-value = 0.00014008923976103222\n",
            "1999 p-value = 0.00020782071010839263\n",
            "2000 p-value = 0.0010549574981376908\n",
            "2001 p-value = 0.0003411432104538389\n",
            "2002 p-value = 0.0010166652954320416\n",
            "2003 p-value = 0.000692649939401702\n",
            "2004 p-value = 0.00043434654468725196\n",
            "2005 p-value = 0.0002537157317036536\n",
            "2006 p-value = 0.0016530282677865802\n",
            "2007 p-value = 0.00027428756323871794\n",
            "2008 p-value = 0.00023603466545541686\n",
            "2009 p-value = 0.0009187388893056157\n",
            "2010 p-value = 0.0008164739631273518\n",
            "2011 p-value = 0.0016809661970809972\n",
            "2012 p-value = 0.013136160978480332\n",
            "2013 p-value = 0.015146401186341365\n",
            "2014 p-value = 0.009758111141046629\n",
            "2015 p-value = 0.01244031498161676\n",
            "2016 p-value = 0.016871764453012437\n",
            "2017 p-value = 0.020097103583245166\n"
          ],
          "name": "stdout"
        }
      ]
    },
    {
      "cell_type": "markdown",
      "metadata": {
        "id": "-Xej8yxWN9rj"
      },
      "source": [
        "---\n",
        "\n",
        "# 2. 플랫폼은 어떻게 선택할까?\n",
        "---\n",
        "\n",
        "## 플랫폼과 지역별 판매량은 연관이있을까?\n",
        "\n",
        "\n"
      ]
    },
    {
      "cell_type": "code",
      "metadata": {
        "colab": {
          "base_uri": "https://localhost:8080/",
          "height": 205
        },
        "id": "dlsQpqH-ONt4",
        "outputId": "cc05f25e-9342-428c-cd4d-49757594cbf2"
      },
      "source": [
        "# 플랫폼과 지역별 판매액만 나타내는 데이터프레임 선언, 결측치제거\n",
        "df4 = df.drop(['Year','Genre'],axis=1)\n",
        "df4 = df4.dropna()\n",
        "df4.head()"
      ],
      "execution_count": null,
      "outputs": [
        {
          "output_type": "execute_result",
          "data": {
            "text/html": [
              "<div>\n",
              "<style scoped>\n",
              "    .dataframe tbody tr th:only-of-type {\n",
              "        vertical-align: middle;\n",
              "    }\n",
              "\n",
              "    .dataframe tbody tr th {\n",
              "        vertical-align: top;\n",
              "    }\n",
              "\n",
              "    .dataframe thead th {\n",
              "        text-align: right;\n",
              "    }\n",
              "</style>\n",
              "<table border=\"1\" class=\"dataframe\">\n",
              "  <thead>\n",
              "    <tr style=\"text-align: right;\">\n",
              "      <th></th>\n",
              "      <th>Platform</th>\n",
              "      <th>NA_Sales</th>\n",
              "      <th>EU_Sales</th>\n",
              "      <th>JP_Sales</th>\n",
              "      <th>Other_Sales</th>\n",
              "    </tr>\n",
              "  </thead>\n",
              "  <tbody>\n",
              "    <tr>\n",
              "      <th>0</th>\n",
              "      <td>DS</td>\n",
              "      <td>0.04</td>\n",
              "      <td>0.00</td>\n",
              "      <td>0.00</td>\n",
              "      <td>0.00</td>\n",
              "    </tr>\n",
              "    <tr>\n",
              "      <th>1</th>\n",
              "      <td>Wii</td>\n",
              "      <td>0.17</td>\n",
              "      <td>0.00</td>\n",
              "      <td>0.00</td>\n",
              "      <td>0.01</td>\n",
              "    </tr>\n",
              "    <tr>\n",
              "      <th>2</th>\n",
              "      <td>PSP</td>\n",
              "      <td>0.00</td>\n",
              "      <td>0.00</td>\n",
              "      <td>0.02</td>\n",
              "      <td>0.00</td>\n",
              "    </tr>\n",
              "    <tr>\n",
              "      <th>3</th>\n",
              "      <td>DS</td>\n",
              "      <td>0.04</td>\n",
              "      <td>0.00</td>\n",
              "      <td>0.00</td>\n",
              "      <td>0.00</td>\n",
              "    </tr>\n",
              "    <tr>\n",
              "      <th>4</th>\n",
              "      <td>PS3</td>\n",
              "      <td>0.12</td>\n",
              "      <td>0.09</td>\n",
              "      <td>0.00</td>\n",
              "      <td>0.04</td>\n",
              "    </tr>\n",
              "  </tbody>\n",
              "</table>\n",
              "</div>"
            ],
            "text/plain": [
              "  Platform  NA_Sales  EU_Sales  JP_Sales  Other_Sales\n",
              "0       DS      0.04      0.00      0.00         0.00\n",
              "1      Wii      0.17      0.00      0.00         0.01\n",
              "2      PSP      0.00      0.00      0.02         0.00\n",
              "3       DS      0.04      0.00      0.00         0.00\n",
              "4      PS3      0.12      0.09      0.00         0.04"
            ]
          },
          "metadata": {
            "tags": []
          },
          "execution_count": 29
        }
      ]
    },
    {
      "cell_type": "code",
      "metadata": {
        "id": "IFUXp0lWetRQ",
        "colab": {
          "base_uri": "https://localhost:8080/"
        },
        "outputId": "ae494bcc-27c9-4408-dc56-daf983cf1915"
      },
      "source": [
        "# 플랫폼 리스트 선언\n",
        "platforms = ['2600', '3DO', '3DS', 'DC', 'DS', 'GB', 'GBA', 'GC', 'GEN', 'N64',\n",
        "       'NES', 'NG', 'PC', 'PS', 'PS2', 'PS3', 'PS4', 'PSP', 'PSV',\n",
        "       'SAT', 'SCD', 'SNES', 'TG16', 'WS', 'Wii', 'WiiU', 'X360', 'XB',\n",
        "       'XOne']\n",
        "\n",
        "# 각 플랫폼별 데이터 분리\n",
        "def makePlatform(df):\n",
        "    for platform in platforms:\n",
        "        platform_data = df[df['Platform'] == platform]\n",
        "        result = f_oneway(platform_data['NA_Sales'],platform_data['JP_Sales'],platform_data['EU_Sales'],platform_data['Other_Sales'])\n",
        "        print(platform, '/p-value =', result[1])\n",
        "\n",
        "makePlatform(df4)\n",
        "\n",
        "# 귀무가설은 지역별 플랫폼 분포는 차이가 없다\n",
        "# 결과는 아주오래된 몇개의 플랫폼을 제외하고는 모두 0.05보다 훨씬 낮은 p-value값을 가졌다\n",
        "# 그러므로 귀무가설을 기각할 수 있고, 지역별 플랫폼의 분포는 차이가 있다 고 판단할 수 있다\n",
        "# 즉 지역별 플랫폼의 선호도는 다르다"
      ],
      "execution_count": null,
      "outputs": [
        {
          "output_type": "stream",
          "text": [
            "2600 /p-value = 3.136406828910054e-42\n",
            "3DO /p-value = 0.017162023580482293\n",
            "3DS /p-value = 9.455209761154263e-10\n",
            "DC /p-value = 0.00025256814746011486\n",
            "DS /p-value = 7.303193580388891e-31\n",
            "GB /p-value = 0.00017150874520351794\n",
            "GBA /p-value = 2.2205794111493737e-53\n",
            "GC /p-value = 7.714143836255033e-62\n",
            "GEN /p-value = 0.0002372932225412577\n",
            "N64 /p-value = 1.1672258273331049e-31\n",
            "NES /p-value = 4.8735256244936565e-05\n",
            "NG /p-value = 1.0011788008419206e-09\n",
            "PC /p-value = 2.180888936680166e-34\n",
            "PS /p-value = 2.2098341986663434e-58\n",
            "PS2 /p-value = 1.0035671961679485e-71\n",
            "PS3 /p-value = 2.372704652390955e-56\n",
            "PS4 /p-value = 4.3547886105079335e-17\n",
            "PSP /p-value = 1.7909100328021057e-11\n",
            "PSV /p-value = 0.006047894173131857\n",
            "SAT /p-value = 1.7092865289945671e-65\n",
            "SCD /p-value = 0.6543526382795086\n",
            "SNES /p-value = 2.6965843101790935e-16\n",
            "TG16 /p-value = 0.29035241802349165\n",
            "WS /p-value = 5.5371926648596975e-05\n",
            "Wii /p-value = 5.524957156652667e-22\n",
            "WiiU /p-value = 1.33240566024685e-07\n",
            "X360 /p-value = 4.498129177185492e-101\n",
            "XB /p-value = 2.886602418452676e-106\n",
            "XOne /p-value = 1.907247483069732e-28\n"
          ],
          "name": "stdout"
        }
      ]
    },
    {
      "cell_type": "markdown",
      "metadata": {
        "id": "j7khpXr0FsLt"
      },
      "source": [
        "## 플랫폼은 연도별 트랜드가 있을까?"
      ]
    },
    {
      "cell_type": "code",
      "metadata": {
        "id": "saovAp4SFrS6",
        "colab": {
          "base_uri": "https://localhost:8080/"
        },
        "outputId": "7262a590-d423-4406-8c78-c269a516d229"
      },
      "source": [
        "# 플랫폼과 연도별 데이터 정리\n",
        "df_pl_ye = df.drop('Genre',axis=1).dropna()\n",
        "df_pl_ye['Total'] = df_pl_ye['NA_Sales']+df_pl_ye['JP_Sales']+df_pl_ye['EU_Sales']+df_pl_ye['Other_Sales']\n",
        "# apply 사용해서 단위 통일\n",
        "df_pl_ye['Year'] = df_pl_ye['Year'].apply(make_year)\n",
        "df_pl_ye = df_pl_ye.dropna()\n",
        "\n",
        "df_pl_ye = df_pl_ye[['Platform','Year','Total']]\n",
        "\n",
        "# nan 년도 제거\n",
        "years.remove('1980')\n",
        "years.remove('1981')\n",
        "years.remove('1982')\n",
        "\n",
        "# 같은 플랫폼일때 연도별 판매량 비교\n",
        "for year in years:\n",
        "    df_year = df_pl_ye[df_pl_ye['Year'] == year]\n",
        "    df_year = df_year.drop('Year',axis=1)\n",
        "    result = df_year.groupby('Platform').sum()\n",
        "    print(year, 'p-value =', ttest_1samp(result.Total, .5).pvalue)\n",
        "\n",
        "# 귀무가설 연도별 플랫폼의 판매량은 차이가없다\n",
        "# 대부분의 p-value 값이 0.05보다 크다 -> 귀무가설 기각할수 없다\n",
        "# 즉 연도별 플랫폼판매량은 차이가없다, 플랫폼은 연도별 트랜드가없다."
      ],
      "execution_count": null,
      "outputs": [
        {
          "output_type": "stream",
          "text": [
            "1983 p-value = 0.19949944126604433\n",
            "1984 p-value = 0.5029531775753187\n",
            "1985 p-value = 0.40138732876169747\n",
            "1986 p-value = 0.49706787873104263\n",
            "1987 p-value = 0.4524906543041226\n",
            "1988 p-value = 0.3825151466168577\n",
            "1989 p-value = 0.35981212352264214\n",
            "1990 p-value = 0.11682507119190999\n",
            "1991 p-value = 0.07063551677071056\n",
            "1992 p-value = 0.08181943394267667\n",
            "1993 p-value = 0.31224253578214434\n",
            "1994 p-value = 0.056211991733741674\n",
            "1995 p-value = 0.08604766591663356\n",
            "1996 p-value = 0.0646414613060476\n",
            "1997 p-value = 0.17983638584931744\n",
            "1998 p-value = 0.16932873669712914\n",
            "1999 p-value = 0.12784649639173523\n",
            "2000 p-value = 0.07026491405117498\n",
            "2001 p-value = 0.07071900782487342\n",
            "2002 p-value = 0.08196928700988874\n",
            "2003 p-value = 0.07472400024289637\n",
            "2004 p-value = 0.07170274398081429\n",
            "2005 p-value = 0.025268512878073843\n",
            "2006 p-value = 0.011336115552060131\n",
            "2007 p-value = 0.011168839510745723\n",
            "2008 p-value = 0.01107244072891078\n",
            "2009 p-value = 0.011521666540899889\n",
            "2010 p-value = 0.012586562415018439\n",
            "2011 p-value = 0.0176258721522217\n",
            "2012 p-value = 0.014383936227087373\n",
            "2013 p-value = 0.015242347971878291\n",
            "2014 p-value = 0.006743483278368068\n",
            "2015 p-value = 0.036786000689997427\n",
            "2016 p-value = 0.10073142836829178\n",
            "2017 p-value = 0.006701013270894804\n"
          ],
          "name": "stdout"
        }
      ]
    },
    {
      "cell_type": "markdown",
      "metadata": {
        "id": "3CKqztPNvzYo"
      },
      "source": [
        "# 플랫폼과 장르는 연관이 있을까?\n",
        "- 같은 장르라면, 플랫폼에따라 판매량에 차이가 있는지 확인해보자\n"
      ]
    },
    {
      "cell_type": "code",
      "metadata": {
        "colab": {
          "base_uri": "https://localhost:8080/",
          "height": 243
        },
        "id": "86CEgeoqvrcr",
        "outputId": "e2fd8300-3999-4c9f-c470-770c80502b37"
      },
      "source": [
        "# 플랫폼 장르 총판매량 나타내는 데이터프레임 선언\n",
        "df6 = df.drop('Year',axis=1)\n",
        "df6['Total'] = df6['NA_Sales'] + df6['JP_Sales'] + df6['EU_Sales'] + df6['Other_Sales']\n",
        "df6 = df6[['Platform','Genre','Total']]\n",
        "df6 = df6.dropna()\n",
        "\n",
        "# 플랫폼별 장르의 판매량 나타내는 함수 선언\n",
        "platforms = df.Platform.unique()\n",
        "\n",
        "def platformGenre(df):\n",
        "    df_empty = pd.DataFrame(columns=df.Genre.unique())\n",
        "    for platform in platforms:\n",
        "        plat = df[df['Platform'] == platform]\n",
        "        plat = plat[['Genre','Total']]\n",
        "        result = plat.groupby('Genre').sum().T\n",
        "        result = result.rename(index={'Total': platform})\n",
        "        df_empty = pd.concat([df_empty,result])\n",
        "    return df_empty\n",
        "\n",
        "# 확인\n",
        "df_plat_gen = platformGenre(df6)\n",
        "df_plat_gen.head()"
      ],
      "execution_count": null,
      "outputs": [
        {
          "output_type": "execute_result",
          "data": {
            "text/html": [
              "<div>\n",
              "<style scoped>\n",
              "    .dataframe tbody tr th:only-of-type {\n",
              "        vertical-align: middle;\n",
              "    }\n",
              "\n",
              "    .dataframe tbody tr th {\n",
              "        vertical-align: top;\n",
              "    }\n",
              "\n",
              "    .dataframe thead th {\n",
              "        text-align: right;\n",
              "    }\n",
              "</style>\n",
              "<table border=\"1\" class=\"dataframe\">\n",
              "  <thead>\n",
              "    <tr style=\"text-align: right;\">\n",
              "      <th></th>\n",
              "      <th>Action</th>\n",
              "      <th>Adventure</th>\n",
              "      <th>Misc</th>\n",
              "      <th>Platform</th>\n",
              "      <th>Sports</th>\n",
              "      <th>Simulation</th>\n",
              "      <th>Racing</th>\n",
              "      <th>Role-Playing</th>\n",
              "      <th>Puzzle</th>\n",
              "      <th>Strategy</th>\n",
              "      <th>Fighting</th>\n",
              "      <th>Shooter</th>\n",
              "    </tr>\n",
              "  </thead>\n",
              "  <tbody>\n",
              "    <tr>\n",
              "      <th>DS</th>\n",
              "      <td>119.381</td>\n",
              "      <td>51.251</td>\n",
              "      <td>145.607</td>\n",
              "      <td>77.392</td>\n",
              "      <td>33.762</td>\n",
              "      <td>133.566</td>\n",
              "      <td>38.591</td>\n",
              "      <td>127.772</td>\n",
              "      <td>85.830</td>\n",
              "      <td>17.330</td>\n",
              "      <td>7.200</td>\n",
              "      <td>9.101</td>\n",
              "    </tr>\n",
              "    <tr>\n",
              "      <th>Wii</th>\n",
              "      <td>119.422</td>\n",
              "      <td>18.361</td>\n",
              "      <td>216.136</td>\n",
              "      <td>90.751</td>\n",
              "      <td>294.073</td>\n",
              "      <td>36.821</td>\n",
              "      <td>64.131</td>\n",
              "      <td>14.080</td>\n",
              "      <td>15.572</td>\n",
              "      <td>6.240</td>\n",
              "      <td>23.841</td>\n",
              "      <td>28.590</td>\n",
              "    </tr>\n",
              "    <tr>\n",
              "      <th>PSP</th>\n",
              "      <td>65.725</td>\n",
              "      <td>15.682</td>\n",
              "      <td>16.940</td>\n",
              "      <td>16.560</td>\n",
              "      <td>44.750</td>\n",
              "      <td>6.290</td>\n",
              "      <td>35.710</td>\n",
              "      <td>53.960</td>\n",
              "      <td>5.422</td>\n",
              "      <td>11.592</td>\n",
              "      <td>21.981</td>\n",
              "      <td>19.801</td>\n",
              "    </tr>\n",
              "    <tr>\n",
              "      <th>PS3</th>\n",
              "      <td>308.342</td>\n",
              "      <td>22.880</td>\n",
              "      <td>52.761</td>\n",
              "      <td>30.220</td>\n",
              "      <td>137.673</td>\n",
              "      <td>10.760</td>\n",
              "      <td>74.941</td>\n",
              "      <td>75.381</td>\n",
              "      <td>0.590</td>\n",
              "      <td>4.951</td>\n",
              "      <td>51.712</td>\n",
              "      <td>196.040</td>\n",
              "    </tr>\n",
              "    <tr>\n",
              "      <th>PC</th>\n",
              "      <td>32.511</td>\n",
              "      <td>10.033</td>\n",
              "      <td>9.540</td>\n",
              "      <td>0.470</td>\n",
              "      <td>12.973</td>\n",
              "      <td>53.771</td>\n",
              "      <td>6.032</td>\n",
              "      <td>48.633</td>\n",
              "      <td>0.930</td>\n",
              "      <td>47.683</td>\n",
              "      <td>0.270</td>\n",
              "      <td>46.222</td>\n",
              "    </tr>\n",
              "  </tbody>\n",
              "</table>\n",
              "</div>"
            ],
            "text/plain": [
              "      Action  Adventure     Misc  Platform  ...  Puzzle  Strategy  Fighting  Shooter\n",
              "DS   119.381     51.251  145.607    77.392  ...  85.830    17.330     7.200    9.101\n",
              "Wii  119.422     18.361  216.136    90.751  ...  15.572     6.240    23.841   28.590\n",
              "PSP   65.725     15.682   16.940    16.560  ...   5.422    11.592    21.981   19.801\n",
              "PS3  308.342     22.880   52.761    30.220  ...   0.590     4.951    51.712  196.040\n",
              "PC    32.511     10.033    9.540     0.470  ...   0.930    47.683     0.270   46.222\n",
              "\n",
              "[5 rows x 12 columns]"
            ]
          },
          "metadata": {
            "tags": []
          },
          "execution_count": 318
        }
      ]
    },
    {
      "cell_type": "code",
      "metadata": {
        "colab": {
          "base_uri": "https://localhost:8080/"
        },
        "id": "sjih9EB7v9DW",
        "outputId": "046979b0-8b95-40c5-ba91-bb020aaa7470"
      },
      "source": [
        "# 같은 장르내에서 플랫폼별 판매량의 차이가 다른지 확인\n",
        "for column in df_plat_gen.columns:\n",
        "    ttest = ttest_1samp(df_plat_gen[column].dropna(),.5)\n",
        "    print(column, \"/p-value =\", ttest.pvalue)\n",
        "\n",
        "# 귀무가설 = 같은 장르일때 플랫폼별 판매량차이는 없다\n",
        "# p-value가 모두 0.05보다 작다 -> 귀무가설 기각\n",
        "# 장르의 판매량과 플랫폼은 연관이 있다"
      ],
      "execution_count": null,
      "outputs": [
        {
          "output_type": "stream",
          "text": [
            "Action /p-value = 0.0003726899003919444\n",
            "Adventure /p-value = 0.00036377270003170074\n",
            "Misc /p-value = 0.0051380953994127395\n",
            "Platform /p-value = 3.0405762924314426e-05\n",
            "Sports /p-value = 0.0029072697108501193\n",
            "Simulation /p-value = 0.011866741740473632\n",
            "Racing /p-value = 0.0008550342727190338\n",
            "Role-Playing /p-value = 5.158692940259852e-05\n",
            "Puzzle /p-value = 0.018706909776241752\n",
            "Strategy /p-value = 0.002228983556135935\n",
            "Fighting /p-value = 0.0009260042200852938\n",
            "Shooter /p-value = 0.004645152696081308\n"
          ],
          "name": "stdout"
        }
      ]
    },
    {
      "cell_type": "markdown",
      "metadata": {
        "id": "SIx63JgsxYvg"
      },
      "source": [
        "---\n",
        "## 판매량과 다른 요소들의 관계를 비교해보자  \n",
        "---\n",
        "위의 분석들을 통해 다음과 같은 결론을 내릴 수 있다  \n",
        "\n",
        "1. 지역별 선호하는 장르가 다르다.\n",
        "2. 지역별 선호하는 플랫폼이 다르다.\n",
        "3. 연도별 장르의 트랜드가 있다.\n",
        "4. 연도별 플렛폼의 트랜드는 없다.\n",
        "5. 장르의 판매량과 플랫폼은 연관이 있다\n",
        "\n",
        "이 조건들을 고려해본다면,  \n",
        "판매량이 높은 게임들을 분석하여 장르나 플랫폼을 먼저 고르고   \n",
        "그 결과를 극대화시킬 수 있는 지역을 선택해야한다\n"
      ]
    },
    {
      "cell_type": "markdown",
      "metadata": {
        "id": "j0jOOZu-lq12"
      },
      "source": [
        "---\n",
        "# 3. 출고량이 많은 게임을 분석하고 시각화해보자\n",
        "---\n",
        "\n",
        "출고량이 많은 게임들을 기준을 세워 분석해보자\n",
        "\n",
        "- 그럼 가장 먼저 고려해야하는것은 무엇일까?  \n",
        "분석한 바로는 장르와 플랫폼 모두 판매량과 연관이있다.  \n",
        "- 그러므로 둘 중 보다 뚜렷하게 차이가 나타나는 기준을 선택한다.  \n",
        "  - 예를들어 게임장르의 분포는 비슷한데, 플랫폼의 분포가 확실히 구분된다면 먼저 플랫폼을 정하는것이 유리하다.  \n",
        "\n",
        "- 그 다음 정해진 장르나 플랫폼을 기준으로 나머지 조건을 고려해보자 "
      ]
    },
    {
      "cell_type": "code",
      "metadata": {
        "id": "kDcImloYlvj5",
        "colab": {
          "base_uri": "https://localhost:8080/",
          "height": 205
        },
        "outputId": "f2e4f4ed-398b-4317-86ac-7c5d0ad4885f"
      },
      "source": [
        "# 총판매량 오름차순 정리해서 살펴보기\n",
        "df_total = df\n",
        "df_total['Total'] =  df_total['NA_Sales'] + df_total['JP_Sales'] + df_total['EU_Sales'] + df_total['Other_Sales']\n",
        "df_total = df.sort_values(by=['Total'],ascending=False)\n",
        "df_total = df_total.dropna()\n",
        "df_total['Year'] = df_total['Year'].apply(make_year)\n",
        "\n",
        "df_total.head()"
      ],
      "execution_count": null,
      "outputs": [
        {
          "output_type": "execute_result",
          "data": {
            "text/html": [
              "<div>\n",
              "<style scoped>\n",
              "    .dataframe tbody tr th:only-of-type {\n",
              "        vertical-align: middle;\n",
              "    }\n",
              "\n",
              "    .dataframe tbody tr th {\n",
              "        vertical-align: top;\n",
              "    }\n",
              "\n",
              "    .dataframe thead th {\n",
              "        text-align: right;\n",
              "    }\n",
              "</style>\n",
              "<table border=\"1\" class=\"dataframe\">\n",
              "  <thead>\n",
              "    <tr style=\"text-align: right;\">\n",
              "      <th></th>\n",
              "      <th>Platform</th>\n",
              "      <th>Year</th>\n",
              "      <th>Genre</th>\n",
              "      <th>NA_Sales</th>\n",
              "      <th>EU_Sales</th>\n",
              "      <th>JP_Sales</th>\n",
              "      <th>Other_Sales</th>\n",
              "      <th>Total</th>\n",
              "    </tr>\n",
              "  </thead>\n",
              "  <tbody>\n",
              "    <tr>\n",
              "      <th>2908</th>\n",
              "      <td>Wii</td>\n",
              "      <td>2006</td>\n",
              "      <td>Sports</td>\n",
              "      <td>41.49</td>\n",
              "      <td>29.02</td>\n",
              "      <td>3.77</td>\n",
              "      <td>8.46</td>\n",
              "      <td>82.74</td>\n",
              "    </tr>\n",
              "    <tr>\n",
              "      <th>4199</th>\n",
              "      <td>NES</td>\n",
              "      <td>1985</td>\n",
              "      <td>Platform</td>\n",
              "      <td>29.08</td>\n",
              "      <td>3.58</td>\n",
              "      <td>6.81</td>\n",
              "      <td>0.77</td>\n",
              "      <td>40.24</td>\n",
              "    </tr>\n",
              "    <tr>\n",
              "      <th>12579</th>\n",
              "      <td>Wii</td>\n",
              "      <td>2008</td>\n",
              "      <td>Racing</td>\n",
              "      <td>15.85</td>\n",
              "      <td>12.88</td>\n",
              "      <td>3.79</td>\n",
              "      <td>3.31</td>\n",
              "      <td>35.83</td>\n",
              "    </tr>\n",
              "    <tr>\n",
              "      <th>3352</th>\n",
              "      <td>Wii</td>\n",
              "      <td>2009</td>\n",
              "      <td>Sports</td>\n",
              "      <td>15.75</td>\n",
              "      <td>11.01</td>\n",
              "      <td>3.28</td>\n",
              "      <td>2.96</td>\n",
              "      <td>33.00</td>\n",
              "    </tr>\n",
              "    <tr>\n",
              "      <th>7829</th>\n",
              "      <td>GB</td>\n",
              "      <td>1996</td>\n",
              "      <td>Role-Playing</td>\n",
              "      <td>11.27</td>\n",
              "      <td>8.89</td>\n",
              "      <td>10.22</td>\n",
              "      <td>1.00</td>\n",
              "      <td>31.38</td>\n",
              "    </tr>\n",
              "  </tbody>\n",
              "</table>\n",
              "</div>"
            ],
            "text/plain": [
              "      Platform  Year         Genre  ...  JP_Sales  Other_Sales  Total\n",
              "2908       Wii  2006        Sports  ...      3.77         8.46  82.74\n",
              "4199       NES  1985      Platform  ...      6.81         0.77  40.24\n",
              "12579      Wii  2008        Racing  ...      3.79         3.31  35.83\n",
              "3352       Wii  2009        Sports  ...      3.28         2.96  33.00\n",
              "7829        GB  1996  Role-Playing  ...     10.22         1.00  31.38\n",
              "\n",
              "[5 rows x 8 columns]"
            ]
          },
          "metadata": {
            "tags": []
          },
          "execution_count": 48
        }
      ]
    },
    {
      "cell_type": "code",
      "metadata": {
        "id": "FAskdP5ar_tX",
        "colab": {
          "base_uri": "https://localhost:8080/",
          "height": 265
        },
        "outputId": "68ae7346-913d-47d8-f54c-37f72b3c22c3"
      },
      "source": [
        "# 총 판매량 그래프 (판매량이 너무 압도적인 첫번째 값을 빼고 500개를 관찰)\n",
        "df_total_reset = df_total.reset_index(drop=True)\n",
        "df_total_reset = df_total_reset[1:500]\n",
        "\n",
        "sns.lineplot(data=df_total_reset,x=df_total_reset.index,y=df_total_reset.Total)\n",
        "plt.show()\n",
        "\n",
        "# 총 판매량 그래프는 상위100개까지가 판매량이 차이가 많이 난다"
      ],
      "execution_count": null,
      "outputs": [
        {
          "output_type": "display_data",
          "data": {
            "image/png": "[encoded data removed]",
            "text/plain": [
              "<Figure size 432x288 with 1 Axes>"
            ]
          },
          "metadata": {
            "tags": [],
            "needs_background": "light"
          }
        }
      ]
    },
    {
      "cell_type": "code",
      "metadata": {
        "id": "EXuDNaEizjz3",
        "colab": {
          "base_uri": "https://localhost:8080/",
          "height": 279
        },
        "outputId": "ca952373-d9aa-4768-a313-50474521cbed"
      },
      "source": [
        "# 총판매량의 누적량 감소그래프를 살펴보자\n",
        "arr =[]\n",
        "for i in range(0,len((df_total.Total)[1:5000])):\n",
        "    result = ((df_total.Total.sum() - (df_total.Total[0:i]).sum())/df_total.Total.sum())*100\n",
        "    vec = [i,round(result,2)]\n",
        "    arr.append(vec)\n",
        "\n",
        "arr = pd.DataFrame(arr,columns=['x','y'])\n",
        "\n",
        "sns.lineplot(data=arr,x=arr.x, y=arr.y)\n",
        "plt.show()\n",
        "\n",
        "# 누적량의 감소는 초반에 급격하게 위에서 정한 대략 500개의 데이터를 사용하도록하자"
      ],
      "execution_count": null,
      "outputs": [
        {
          "output_type": "display_data",
          "data": {
            "image/png": "[encoded data removed]",
            "text/plain": [
              "<Figure size 432x288 with 1 Axes>"
            ]
          },
          "metadata": {
            "tags": [],
            "needs_background": "light"
          }
        }
      ]
    },
    {
      "cell_type": "code",
      "metadata": {
        "id": "OLNEi8eIfMvI"
      },
      "source": [
        "# 판매량 상위 10% 게임 설정\n",
        "df_total = df_total[:500]\n",
        "df_total\n",
        "\n",
        "#상위 10%에서의 기준별 총판매량 나타내는 함수선언\n",
        "def show_10per(about):\n",
        "    df_y_t = df_total[[about,'Total']]\n",
        "    df_y_t = df_y_t.dropna()\n",
        "\n",
        "    df_y_t = df_y_t.groupby(about).sum()\n",
        "    df_y_t = df_y_t.sort_values(by=['Total'], ascending = False)[:6]\n",
        "    # bar plot 시각화\n",
        "    sns.barplot(data = df_y_t, x = df_y_t.index , y = 'Total')\n",
        "    plt.show()"
      ],
      "execution_count": null,
      "outputs": []
    },
    {
      "cell_type": "code",
      "metadata": {
        "id": "S-Lt8GjhP9Yw",
        "colab": {
          "base_uri": "https://localhost:8080/",
          "height": 279
        },
        "outputId": "9efb85b7-6e92-4158-c62c-418c85ab0303"
      },
      "source": [
        "# 장르와 총판매량\n",
        "show_10per('Genre')"
      ],
      "execution_count": null,
      "outputs": [
        {
          "output_type": "display_data",
          "data": {
            "image/png": "[encoded data removed]",
            "text/plain": [
              "<Figure size 432x288 with 1 Axes>"
            ]
          },
          "metadata": {
            "tags": [],
            "needs_background": "light"
          }
        }
      ]
    },
    {
      "cell_type": "code",
      "metadata": {
        "id": "au4BE08JbYTx",
        "colab": {
          "base_uri": "https://localhost:8080/",
          "height": 279
        },
        "outputId": "b978d5ab-346e-4df3-f8a9-41071c475cd9"
      },
      "source": [
        "# 플랫폼과 판매량\n",
        "show_10per('Platform')"
      ],
      "execution_count": null,
      "outputs": [
        {
          "output_type": "display_data",
          "data": {
            "image/png": "[encoded data removed]",
            "text/plain": [
              "<Figure size 432x288 with 1 Axes>"
            ]
          },
          "metadata": {
            "tags": [],
            "needs_background": "light"
          }
        }
      ]
    },
    {
      "cell_type": "markdown",
      "metadata": {
        "id": "Bv-IkEuGFN9R"
      },
      "source": [
        "## 장르는 액션, 플랫폼은 PS2 가 많다\n",
        "- 하지만 장르와 플랫폼의 1,2위 판매량차이가 비슷하다\n",
        "- 장르는 연도별 트랜드가 있으므로, 너무 오래된 연도는 의미가 없다\n",
        "- 최근 10년 데이터인 2006년 이후 연도별 장르의 판매량을 살펴보자"
      ]
    },
    {
      "cell_type": "code",
      "metadata": {
        "id": "FKPReTbu04Gl",
        "colab": {
          "base_uri": "https://localhost:8080/"
        },
        "outputId": "0f8c7603-a2ef-4129-8aed-d230bd0b221c"
      },
      "source": [
        "#연도,판매량,장르\n",
        "df_year_genre = df_total\n",
        "df_year_genre = df_year_genre[['Genre','Year','Total']]\n",
        "\n",
        "df_year_genre = df_year_genre[df_year_genre['Year'] > '2006']\n",
        "df_year_genre = df_year_genre.sort_values(by=['Year'])\n",
        "df_year_genre\n",
        "\n",
        "# 연도별 장르의 갯수를 확인해보자\n",
        "genre_sum = pd.crosstab(df_year_genre.Year,df_year_genre.Genre)\n",
        "\n",
        "for genre in genres:\n",
        "    print(genre,'total =',genre_sum[genre].sum())"
      ],
      "execution_count": null,
      "outputs": [
        {
          "output_type": "stream",
          "text": [
            "Action total = 58\n",
            "Adventure total = 5\n",
            "Fighting total = 6\n",
            "Misc total = 27\n",
            "Platform total = 15\n",
            "Puzzle total = 3\n",
            "Racing total = 11\n",
            "Role-Playing total = 33\n",
            "Shooter total = 55\n",
            "Simulation total = 11\n",
            "Sports total = 33\n",
            "Strategy total = 1\n"
          ],
          "name": "stdout"
        }
      ]
    },
    {
      "cell_type": "code",
      "metadata": {
        "id": "nfEjM57t4Gfw",
        "colab": {
          "base_uri": "https://localhost:8080/",
          "height": 334
        },
        "outputId": "08726726-6d19-4606-a597-974bcaf1fbb5"
      },
      "source": [
        "# 그래프로 확인\n",
        "plt.figure(figsize=(10,5))\n",
        "sns.scatterplot(data = df_year_genre, x = 'Year', y = 'Total', hue='Genre')\n",
        "plt.show()"
      ],
      "execution_count": null,
      "outputs": [
        {
          "output_type": "display_data",
          "data": {
            "image/png": "[encoded data removed]",
            "text/plain": [
              "<Figure size 720x360 with 1 Axes>"
            ]
          },
          "metadata": {
            "tags": [],
            "needs_background": "light"
          }
        }
      ]
    },
    {
      "cell_type": "markdown",
      "metadata": {
        "id": "D7v9P7Js67NW"
      },
      "source": [
        "# 최근 출고량이 많은 게임의 장르도 액션, 슈팅 임을 확인했다\n",
        "- 액션게임과 슈팅게임의 플랫폼,지역별 판매량을 확인해보자"
      ]
    },
    {
      "cell_type": "code",
      "metadata": {
        "id": "_fQsc1LK76gW"
      },
      "source": [
        "# 함수화\n",
        "def genreCheck(genre):\n",
        "    df_action = df_total[df_total['Genre']==genre]\n",
        "    df_action.head()\n",
        "\n",
        "    df_action_drop = df_action.drop(['Year','Genre'],axis=1)\n",
        "\n",
        "    df_action_total = df_action.groupby('Platform').sum()\n",
        "    return df_action_total.sort_values(by=['Total'],ascending=False).head()"
      ],
      "execution_count": null,
      "outputs": []
    },
    {
      "cell_type": "code",
      "metadata": {
        "id": "mfIKqpqfwL3J",
        "colab": {
          "base_uri": "https://localhost:8080/",
          "height": 236
        },
        "outputId": "13c09f41-8ccb-4afe-a7e1-f35b0451f569"
      },
      "source": [
        "# 액션장르의 플랫폼별 판매량\n",
        "genreCheck('Action')"
      ],
      "execution_count": null,
      "outputs": [
        {
          "output_type": "execute_result",
          "data": {
            "text/html": [
              "<div>\n",
              "<style scoped>\n",
              "    .dataframe tbody tr th:only-of-type {\n",
              "        vertical-align: middle;\n",
              "    }\n",
              "\n",
              "    .dataframe tbody tr th {\n",
              "        vertical-align: top;\n",
              "    }\n",
              "\n",
              "    .dataframe thead th {\n",
              "        text-align: right;\n",
              "    }\n",
              "</style>\n",
              "<table border=\"1\" class=\"dataframe\">\n",
              "  <thead>\n",
              "    <tr style=\"text-align: right;\">\n",
              "      <th></th>\n",
              "      <th>NA_Sales</th>\n",
              "      <th>EU_Sales</th>\n",
              "      <th>JP_Sales</th>\n",
              "      <th>Other_Sales</th>\n",
              "      <th>Total</th>\n",
              "    </tr>\n",
              "    <tr>\n",
              "      <th>Platform</th>\n",
              "      <th></th>\n",
              "      <th></th>\n",
              "      <th></th>\n",
              "      <th></th>\n",
              "      <th></th>\n",
              "    </tr>\n",
              "  </thead>\n",
              "  <tbody>\n",
              "    <tr>\n",
              "      <th>PS3</th>\n",
              "      <td>48.32</td>\n",
              "      <td>46.46</td>\n",
              "      <td>5.44</td>\n",
              "      <td>20.00</td>\n",
              "      <td>120.22</td>\n",
              "    </tr>\n",
              "    <tr>\n",
              "      <th>PS2</th>\n",
              "      <td>56.38</td>\n",
              "      <td>30.39</td>\n",
              "      <td>4.53</td>\n",
              "      <td>23.34</td>\n",
              "      <td>114.64</td>\n",
              "    </tr>\n",
              "    <tr>\n",
              "      <th>X360</th>\n",
              "      <td>49.97</td>\n",
              "      <td>27.05</td>\n",
              "      <td>0.71</td>\n",
              "      <td>7.77</td>\n",
              "      <td>85.50</td>\n",
              "    </tr>\n",
              "    <tr>\n",
              "      <th>PS</th>\n",
              "      <td>31.90</td>\n",
              "      <td>24.30</td>\n",
              "      <td>6.57</td>\n",
              "      <td>4.00</td>\n",
              "      <td>66.77</td>\n",
              "    </tr>\n",
              "    <tr>\n",
              "      <th>PS4</th>\n",
              "      <td>14.50</td>\n",
              "      <td>19.45</td>\n",
              "      <td>1.39</td>\n",
              "      <td>7.16</td>\n",
              "      <td>42.50</td>\n",
              "    </tr>\n",
              "  </tbody>\n",
              "</table>\n",
              "</div>"
            ],
            "text/plain": [
              "          NA_Sales  EU_Sales  JP_Sales  Other_Sales   Total\n",
              "Platform                                                   \n",
              "PS3          48.32     46.46      5.44        20.00  120.22\n",
              "PS2          56.38     30.39      4.53        23.34  114.64\n",
              "X360         49.97     27.05      0.71         7.77   85.50\n",
              "PS           31.90     24.30      6.57         4.00   66.77\n",
              "PS4          14.50     19.45      1.39         7.16   42.50"
            ]
          },
          "metadata": {
            "tags": []
          },
          "execution_count": 156
        }
      ]
    },
    {
      "cell_type": "code",
      "metadata": {
        "id": "jTPqyuUFQ91m",
        "colab": {
          "base_uri": "https://localhost:8080/",
          "height": 236
        },
        "outputId": "e5c98623-55ca-436f-8ec4-a91386bdb848"
      },
      "source": [
        "# 슈팅장르의 플랫폼별 판매량\n",
        "genreCheck('Shooter')"
      ],
      "execution_count": null,
      "outputs": [
        {
          "output_type": "execute_result",
          "data": {
            "text/html": [
              "<div>\n",
              "<style scoped>\n",
              "    .dataframe tbody tr th:only-of-type {\n",
              "        vertical-align: middle;\n",
              "    }\n",
              "\n",
              "    .dataframe tbody tr th {\n",
              "        vertical-align: top;\n",
              "    }\n",
              "\n",
              "    .dataframe thead th {\n",
              "        text-align: right;\n",
              "    }\n",
              "</style>\n",
              "<table border=\"1\" class=\"dataframe\">\n",
              "  <thead>\n",
              "    <tr style=\"text-align: right;\">\n",
              "      <th></th>\n",
              "      <th>NA_Sales</th>\n",
              "      <th>EU_Sales</th>\n",
              "      <th>JP_Sales</th>\n",
              "      <th>Other_Sales</th>\n",
              "      <th>Total</th>\n",
              "    </tr>\n",
              "    <tr>\n",
              "      <th>Platform</th>\n",
              "      <th></th>\n",
              "      <th></th>\n",
              "      <th></th>\n",
              "      <th></th>\n",
              "      <th></th>\n",
              "    </tr>\n",
              "  </thead>\n",
              "  <tbody>\n",
              "    <tr>\n",
              "      <th>X360</th>\n",
              "      <td>113.03</td>\n",
              "      <td>46.60</td>\n",
              "      <td>1.38</td>\n",
              "      <td>15.48</td>\n",
              "      <td>176.49</td>\n",
              "    </tr>\n",
              "    <tr>\n",
              "      <th>PS3</th>\n",
              "      <td>43.32</td>\n",
              "      <td>40.75</td>\n",
              "      <td>4.75</td>\n",
              "      <td>16.15</td>\n",
              "      <td>104.97</td>\n",
              "    </tr>\n",
              "    <tr>\n",
              "      <th>PS4</th>\n",
              "      <td>20.81</td>\n",
              "      <td>23.21</td>\n",
              "      <td>1.52</td>\n",
              "      <td>8.54</td>\n",
              "      <td>54.08</td>\n",
              "    </tr>\n",
              "    <tr>\n",
              "      <th>PS2</th>\n",
              "      <td>20.62</td>\n",
              "      <td>13.13</td>\n",
              "      <td>0.76</td>\n",
              "      <td>4.32</td>\n",
              "      <td>38.83</td>\n",
              "    </tr>\n",
              "    <tr>\n",
              "      <th>XOne</th>\n",
              "      <td>20.55</td>\n",
              "      <td>9.07</td>\n",
              "      <td>0.14</td>\n",
              "      <td>2.75</td>\n",
              "      <td>32.51</td>\n",
              "    </tr>\n",
              "  </tbody>\n",
              "</table>\n",
              "</div>"
            ],
            "text/plain": [
              "          NA_Sales  EU_Sales  JP_Sales  Other_Sales   Total\n",
              "Platform                                                   \n",
              "X360        113.03     46.60      1.38        15.48  176.49\n",
              "PS3          43.32     40.75      4.75        16.15  104.97\n",
              "PS4          20.81     23.21      1.52         8.54   54.08\n",
              "PS2          20.62     13.13      0.76         4.32   38.83\n",
              "XOne         20.55      9.07      0.14         2.75   32.51"
            ]
          },
          "metadata": {
            "tags": []
          },
          "execution_count": 157
        }
      ]
    },
    {
      "cell_type": "markdown",
      "metadata": {
        "id": "vLNWBlA1lxjN"
      },
      "source": [
        "---\n",
        "# 결론\n",
        "---\n",
        "\n",
        "**액션** 장르의 게임을 **PS3, PS2** 로 **북미, 유럽** 에 출시  \n",
        "**슈팅** 장르의 게임을 **X360, PS3** 로 **북미, 유럽** 에 출시  \n",
        "\n",
        "정도로 설계방향을 설정할 수 있다"
      ]
    }
  ]
}