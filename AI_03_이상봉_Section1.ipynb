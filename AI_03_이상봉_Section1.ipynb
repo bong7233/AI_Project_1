{
  "nbformat": 4,
  "nbformat_minor": 0,
  "metadata": {
    "colab": {
      "name": "project1_이상봉.ipynb",
      "provenance": [],
      "collapsed_sections": []
    },
    "kernelspec": {
      "name": "python3",
      "display_name": "Python 3"
    },
    "language_info": {
      "name": "python"
    }
  },
  "cells": [
    {
      "cell_type": "markdown",
      "metadata": {
        "id": "xNm35ClGwGE0"
      },
      "source": [
        "# 첫번째 프로젝트\n",
        "\n",
        "## 프로젝트의 주제와 목적\n",
        "최근 북미, 유럽, 일본, 그외 지역에서의 게임 판매량 데이터를 분석하여 다음 출시할 게임의 방향을 정하는것이 목적이다.  \n",
        "정확한 분석을 위해서는 게임의 판매량에 영향을 미치는요인이 무엇인지 알아내야한다.  \n",
        "즉 판매량과 장르, 플렛폼, 출시년도의 연관성을 따져보아야 한다.\n",
        "\n",
        "## 우선 분석과정을 4개의 작은 단위로 나눠볼 수 있다\n",
        "1. 지역별 선호하는 장르가 다른가?\n",
        "2. 연도별 트랜드가 있는가?\n",
        "3. 플랫폼에따른 판매량의 차이가 있는가?\n",
        "4. 판매량이 가장 높은 게임들은 무슨 특징을 가지고 있는가?\n",
        "\n",
        "이 분석과정을 통해, **\"잘 팔리는\"** 게임을 만들기위해 어떤 부분을 우선시 해야하는지를 판단해야 한다\n"
      ]
    },
    {
      "cell_type": "markdown",
      "metadata": {
        "id": "il6aXNvqTNgN"
      },
      "source": [
        "## 지역별 선호하는 장르가 다른가?  \n",
        "선호하는 장르란?  \"많이 팔리는 장르\"이다.  \n",
        "한마디로 **\"지역별 판매량과, 장르가 서로 관련이 있는가?\"** 를 확인해야한다  \n",
        "\n",
        "만약 장르가 두가지 뿐이라면 어떤 장르가 더 잘팔리는지를 비교하면 된다\n",
        "하지만 수많은 장르와 수만개이상의 게임을 비교한다면... 한번에 정확한 비교를 할 수 없다  \n",
        "\n",
        "그러므로, 통계학적 방법을 이용하여 데이터를 **단순화** 시켜, 효율적이고 정확한 비교를 해야한다  \n",
        "\n",
        "단순화한다는게 무슨뜻일까?  \n",
        "예를들면 사람의 외모나 능력, 습관을 가지고 \"이사람은 예의바른사람인가?\" 를 판단하긴 힘들다.  \n",
        "하지만 그 사람이 초면에 반말을하는 습관이있다면, 예의없는 사람일 확률이 매우높다.  \n",
        "즉, 외모나 능력보다 반말을한다는 조건이 비교적 확실한 판단 기준이 될 수 있다.  \n",
        "동일하게, 데이터의 특징들 중 비교적 확실한 판단기준이되는 특징을 찾고(경우에따라 특징들을 혼합하기도한다) 그것을 기준으로 나누는것이 단순화라고 볼 수 있다."
      ]
    },
    {
      "cell_type": "markdown",
      "metadata": {
        "id": "Hqvk5acKkl4A"
      },
      "source": [
        ""
      ]
    },
    {
      "cell_type": "code",
      "metadata": {
        "id": "KaSK2caSlPW4",
        "outputId": "0e5cff0f-a5d1-4ebe-e1a4-1628f4cf33d9",
        "colab": {
          "base_uri": "https://localhost:8080/"
        }
      },
      "source": [
        "import pandas as pd\n",
        "\n",
        "\n",
        "# 데이터 불러오기\n",
        "df = pd.read_csv('/content/drive/MyDrive/AI_bootcamp/vgames2.csv', encoding='CP949')\n",
        "\n",
        "# 인덱스제거\n",
        "df = df.drop('Unnamed: 0', axis=1)\n",
        "\n",
        "# 데이터 결측치 확인\n",
        "df.isnull().sum()"
      ],
      "execution_count": 47,
      "outputs": [
        {
          "output_type": "execute_result",
          "data": {
            "text/plain": [
              "Name             0\n",
              "Platform         0\n",
              "Year           271\n",
              "Genre           50\n",
              "Publisher       58\n",
              "NA_Sales         0\n",
              "EU_Sales         0\n",
              "JP_Sales         0\n",
              "Other_Sales      0\n",
              "dtype: int64"
            ]
          },
          "metadata": {
            "tags": []
          },
          "execution_count": 47
        }
      ]
    },
    {
      "cell_type": "code",
      "metadata": {
        "id": "kHVwjbdwlQY-"
      },
      "source": [
        "# 데이터 단위를 (0.00) 형태로 통일하는 함수선언\n",
        "def unification(str):\n",
        "    if ('K' in str) == True:\n",
        "        remove_k = str.replace('K','')\n",
        "        return float(remove_k)*0.001\n",
        "    elif ('M' in str) == True:\n",
        "        remove_m = str.replace('M','')\n",
        "        return float(remove_m)\n",
        "\n",
        "# 단위통일 컬럼에 적용하는 함수\n",
        "def dfUnification(df):\n",
        "    df = df.apply(unification)\n",
        "\n",
        "# 각 컬럼 단위통일\n",
        "dfUnification(df['NA_Sales'])\n",
        "dfUnification(df['JP_Sales'])\n",
        "dfUnification(df['EU_Sales'])\n",
        "dfUnification(df['Other_Sales'])"
      ],
      "execution_count": 50,
      "outputs": []
    },
    {
      "cell_type": "code",
      "metadata": {
        "id": "nRLi2kFOo-ia"
      },
      "source": [
        ""
      ],
      "execution_count": null,
      "outputs": []
    }
  ]
}