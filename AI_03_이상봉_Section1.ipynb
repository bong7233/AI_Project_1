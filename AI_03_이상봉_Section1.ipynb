{
  "nbformat": 4,
  "nbformat_minor": 0,
  "metadata": {
    "colab": {
      "name": "project1_이상봉.ipynb",
      "provenance": [],
      "collapsed_sections": []
    },
    "kernelspec": {
      "name": "python3",
      "display_name": "Python 3"
    },
    "language_info": {
      "name": "python"
    }
  },
  "cells": [
    {
      "cell_type": "markdown",
      "metadata": {
        "id": "xNm35ClGwGE0"
      },
      "source": [
        "# Project\n",
        "---\n",
        "## **주제와 목적**\n",
        "최근 북미, 유럽, 일본, 그외 지역에서의 게임 판매량 데이터를 분석하고  \n",
        "분석을 바탕으로 다음 분기 어떤 게임을 설계 할 것인지 정하는것이다  \n",
        "\n",
        "---\n",
        "## **게임을 설계하기 위해서 무엇을 고려해야할까?**\n",
        "게임을 설계하는 방향은 \"판매량이 많은 게임\" 을 만드는 것이다  \n",
        "그러므로 게임의 판매량에 영향을 주는 요인이 무엇인지 확인하고  \n",
        "그 요인들을 바탕으로 게임의 장르, 플랫폼을 선택해야한다.\n",
        "\n",
        "---\n",
        "### **1. 장르는 어떻게 선택할까?**\n",
        "\n",
        "우선 장르와 지역, 연도의 관련성을 분석해보자\n",
        "1. 지역별 장르의 선호도가 다를까?\n",
        "2. 연도별 장르의 트랜드가 있는가?\n",
        "\n",
        "이 과정을 통해 장르와 연관성 있는것을 찾아낸다  \n",
        "\n",
        "---\n",
        "### **2. 플랫폼은 어떻게 선택할까?**\n",
        "\n",
        "플랫폼과 판매량의 관련성을 분석해보자\n",
        "1. 지역별 플랫폼의 선호도가 다를까?\n",
        "2. 플랫폼과 장르는 연관이 있을까?\n",
        "\n",
        "---\n",
        "### **3. 출고량이 많은 게임을 분석해보자**\n",
        "출고량이 많은 게임들을 기준을 세워 분석해보자\n",
        "1. 출고량이 많은 게임들의 장르 분포는?\n",
        "2. 출고량이 많은 게임들의 플랫폼 분포는?\n",
        "3. 기타 고려할 사항들은?\n",
        "---\n",
        "### **4. 분석방향**\n",
        "1,2번에서 분석한 장르와 플랫폼에 관련있는 사항들을 고려하여  \n",
        "출고량이 많은 게임들의 분석결과에 적용시키면  \n",
        "어떤 장르와 플랫폼을 골라야 하는지,  \n",
        "골랐다면 지역을 신경써야하는지 결론 내릴 수 있다.\n",
        "\n",
        "---\n",
        "## **결론**\n",
        "1~4번 과정을 통해  \n",
        "**\"어떤 장르의 게임을 어떤 플랫폼으로 어디에 출시할지\"**  \n",
        "설계 방향을 정할 수 있어야 한다\n"
      ]
    },
    {
      "cell_type": "markdown",
      "metadata": {
        "id": "Hqvk5acKkl4A"
      },
      "source": [
        "---\n",
        "\n",
        "분석을 시작하기전에, 데이터를 좀더 깔끔하게 다듬는 전처리 작업을 진행하였다 \n",
        "\n",
        "---\n",
        "# 전처리작업(EDA)\n",
        "우선 데이터내의 수치를 일관성있게 통일하기위해 전처리작업을 진행하였다  \n",
        "전처리작업이란, 숫자의단위나 알파벳의 대소문자의 통일, 알수없는값이나 비어있는값을 처리하여 데이터의 오류를 줄이는 과정이다."
      ]
    },
    {
      "cell_type": "code",
      "metadata": {
        "colab": {
          "base_uri": "https://localhost:8080/"
        },
        "id": "QcswP7LkOhIS",
        "outputId": "dcb61c1e-35c2-4af4-defb-2f49e7fde898"
      },
      "source": [
        "from google.colab import drive\n",
        "drive.mount('/content/drive')"
      ],
      "execution_count": 18,
      "outputs": [
        {
          "output_type": "stream",
          "text": [
            "Drive already mounted at /content/drive; to attempt to forcibly remount, call drive.mount(\"/content/drive\", force_remount=True).\n"
          ],
          "name": "stdout"
        }
      ]
    },
    {
      "cell_type": "code",
      "metadata": {
        "id": "KaSK2caSlPW4"
      },
      "source": [
        "import pandas as pd\n",
        "import numpy as np\n",
        "from scipy.stats import chi2_contingency, f_oneway, stats\n",
        "from sklearn.decomposition import PCA\n",
        "from sklearn.preprocessing import StandardScaler\n",
        "import seaborn as sns\n",
        "import matplotlib.pyplot as plt\n",
        "\n",
        "# 데이터 불러오기\n",
        "df = pd.read_csv('/content/drive/MyDrive/AI_bootcamp/vgames2.csv', encoding='CP949')\n",
        "\n",
        "# 인덱스제거\n",
        "df = df.drop(['Unnamed: 0','Name','Publisher'], axis=1)"
      ],
      "execution_count": 306,
      "outputs": []
    },
    {
      "cell_type": "code",
      "metadata": {
        "colab": {
          "base_uri": "https://localhost:8080/"
        },
        "id": "kHVwjbdwlQY-",
        "outputId": "df9a3088-b0aa-4865-a287-5f7f26005c9d"
      },
      "source": [
        "# 데이터 전처리하기\n",
        "\n",
        "\n",
        "# 판매량을 (0.00) 단위로 통일하고 float으로 변경하는 함수 선언\n",
        "def unification(string):\n",
        "    # K가 있다면 지우고 천 곱하고 백만으로 나누기\n",
        "    if ('K' in string) == True:\n",
        "        # 만약 0K 라면 0.001로 바로바꾸기\n",
        "        if string == '0K':\n",
        "            return float(0.001)\n",
        "        else:\n",
        "            remove_k = string.replace('K','')\n",
        "            return float(remove_k)*0.001\n",
        "    # M이 있다면 지우기\n",
        "    elif ('M' in string) == True:\n",
        "        # 만약 OM 이라면 1.0으로 바꾸기\n",
        "        if string == '0M':\n",
        "            return float(1.0)\n",
        "        else:\n",
        "            remove_m = string.replace('M','')\n",
        "            return float(remove_m)\n",
        "    # 둘다없다면 타입만바꾸기\n",
        "    else:\n",
        "        return float(string)\n",
        "\n",
        "# 판매량 칼럽의 단위통일시키기\n",
        "df['NA_Sales'] = df['NA_Sales'].apply(unification)\n",
        "df['JP_Sales'] = df['JP_Sales'].apply(unification)\n",
        "df['EU_Sales'] = df['EU_Sales'].apply(unification)\n",
        "df['Other_Sales'] = df['Other_Sales'].apply(unification)\n",
        "\n",
        "# datatype이 object->float으로 되었는지 확인\n",
        "df.dtypes\n"
      ],
      "execution_count": 307,
      "outputs": [
        {
          "output_type": "execute_result",
          "data": {
            "text/plain": [
              "Platform        object\n",
              "Year           float64\n",
              "Genre           object\n",
              "NA_Sales       float64\n",
              "EU_Sales       float64\n",
              "JP_Sales       float64\n",
              "Other_Sales    float64\n",
              "dtype: object"
            ]
          },
          "metadata": {
            "tags": []
          },
          "execution_count": 307
        }
      ]
    },
    {
      "cell_type": "markdown",
      "metadata": {
        "id": "2-4sokgN_edQ"
      },
      "source": [
        "---\n",
        "# 1. 장르는 어떻게 선택할까?\n",
        "---\n",
        "## 지역별 장르의 선호도는 다를까?  \n",
        "- 장르들의 지역별 판매량이 비슷하다면  ->  선호도가 비슷하다  \n",
        "- 장르들의 지역별 판매량이 다르다면  ->  선호도가 다르다  \n"
      ]
    },
    {
      "cell_type": "code",
      "metadata": {
        "colab": {
          "base_uri": "https://localhost:8080/",
          "height": 205
        },
        "id": "6cxR7Lo1_fGp",
        "outputId": "a1ca2e27-467e-49bc-f26b-b3a06bd5b059"
      },
      "source": [
        "# 장르와 판매량만 포함하는 df2 선언후 결측치 처리\n",
        "df2 = df\n",
        "df2 = df2.drop(['Year','Platform'],axis=1)\n",
        "df2 = df2.dropna()\n",
        "df2.isna().sum()\n",
        "df2.head()"
      ],
      "execution_count": 309,
      "outputs": [
        {
          "output_type": "execute_result",
          "data": {
            "text/html": [
              "<div>\n",
              "<style scoped>\n",
              "    .dataframe tbody tr th:only-of-type {\n",
              "        vertical-align: middle;\n",
              "    }\n",
              "\n",
              "    .dataframe tbody tr th {\n",
              "        vertical-align: top;\n",
              "    }\n",
              "\n",
              "    .dataframe thead th {\n",
              "        text-align: right;\n",
              "    }\n",
              "</style>\n",
              "<table border=\"1\" class=\"dataframe\">\n",
              "  <thead>\n",
              "    <tr style=\"text-align: right;\">\n",
              "      <th></th>\n",
              "      <th>Genre</th>\n",
              "      <th>NA_Sales</th>\n",
              "      <th>EU_Sales</th>\n",
              "      <th>JP_Sales</th>\n",
              "      <th>Other_Sales</th>\n",
              "    </tr>\n",
              "  </thead>\n",
              "  <tbody>\n",
              "    <tr>\n",
              "      <th>0</th>\n",
              "      <td>Action</td>\n",
              "      <td>0.04</td>\n",
              "      <td>0.00</td>\n",
              "      <td>0.00</td>\n",
              "      <td>0.00</td>\n",
              "    </tr>\n",
              "    <tr>\n",
              "      <th>1</th>\n",
              "      <td>Action</td>\n",
              "      <td>0.17</td>\n",
              "      <td>0.00</td>\n",
              "      <td>0.00</td>\n",
              "      <td>0.01</td>\n",
              "    </tr>\n",
              "    <tr>\n",
              "      <th>2</th>\n",
              "      <td>Adventure</td>\n",
              "      <td>0.00</td>\n",
              "      <td>0.00</td>\n",
              "      <td>0.02</td>\n",
              "      <td>0.00</td>\n",
              "    </tr>\n",
              "    <tr>\n",
              "      <th>3</th>\n",
              "      <td>Misc</td>\n",
              "      <td>0.04</td>\n",
              "      <td>0.00</td>\n",
              "      <td>0.00</td>\n",
              "      <td>0.00</td>\n",
              "    </tr>\n",
              "    <tr>\n",
              "      <th>4</th>\n",
              "      <td>Platform</td>\n",
              "      <td>0.12</td>\n",
              "      <td>0.09</td>\n",
              "      <td>0.00</td>\n",
              "      <td>0.04</td>\n",
              "    </tr>\n",
              "  </tbody>\n",
              "</table>\n",
              "</div>"
            ],
            "text/plain": [
              "       Genre  NA_Sales  EU_Sales  JP_Sales  Other_Sales\n",
              "0     Action      0.04      0.00      0.00         0.00\n",
              "1     Action      0.17      0.00      0.00         0.01\n",
              "2  Adventure      0.00      0.00      0.02         0.00\n",
              "3       Misc      0.04      0.00      0.00         0.00\n",
              "4   Platform      0.12      0.09      0.00         0.04"
            ]
          },
          "metadata": {
            "tags": []
          },
          "execution_count": 309
        }
      ]
    },
    {
      "cell_type": "code",
      "metadata": {
        "colab": {
          "base_uri": "https://localhost:8080/"
        },
        "id": "CMgj5VhjFziI",
        "outputId": "095a56c9-44e7-436b-acdf-ba3274855e05"
      },
      "source": [
        "# 장르 선호도 비교해보기\n",
        "\n",
        "# 장르들 목록 선언\n",
        "genres = ['Action', 'Adventure', 'Fighting', 'Misc', 'Platform', 'Puzzle',\n",
        "       'Racing', 'Role-Playing', 'Shooter', 'Simulation', 'Sports',\n",
        "       'Strategy']\n",
        "\n",
        "# 각 장르에대한 지역별 판매량 비교\n",
        "for genre in genres:\n",
        "    genre_data = df2[df2['Genre'] == genre]\n",
        "    result = f_oneway(genre_data['NA_Sales'],genre_data['JP_Sales'],genre_data['EU_Sales'],genre_data['Other_Sales'])\n",
        "    print(genre, '/p-value =', result[1])\n",
        "\n",
        "# 여기서의 \" 귀무가설 = 지역간 장르별 판매량은 차이가없다 \"\n",
        "# 하지만 장르들의 p-value 값이 모두 0.05보다 현저히 작으므로 귀무가설을 기각할수 있다\n",
        "# 즉 \"각 지역간의 장르별 판매량은 차이가 있다\" (지역별 장르의 선호도는 다르다)"
      ],
      "execution_count": 310,
      "outputs": [
        {
          "output_type": "stream",
          "text": [
            "Action /p-value = 9.917382232427142e-147\n",
            "Adventure /p-value = 2.0945837982584205e-20\n",
            "Fighting /p-value = 1.2330556384385163e-43\n",
            "Misc /p-value = 6.440700553325507e-43\n",
            "Platform /p-value = 3.476396668290617e-28\n",
            "Puzzle /p-value = 7.747629545653912e-07\n",
            "Racing /p-value = 5.541020506203407e-39\n",
            "Role-Playing /p-value = 2.1695107684387342e-27\n",
            "Shooter /p-value = 1.8083226259160457e-63\n",
            "Simulation /p-value = 1.0172201539635495e-21\n",
            "Sports /p-value = 1.4237698139211029e-39\n",
            "Strategy /p-value = 2.6194762348013894e-12\n"
          ],
          "name": "stdout"
        }
      ]
    },
    {
      "cell_type": "markdown",
      "metadata": {
        "id": "MfMrUpW2VYjT"
      },
      "source": [
        "---\n",
        "## 연도별 게임의 트랜드가 있을까?\n",
        "\n",
        "- 연도의 장르별 판매량이 다르다면 - > 트랜드가 있다\n",
        "- 연도의 장르별 판매량이 비슷하다면 - > 트랜드가 없다 \n"
      ]
    },
    {
      "cell_type": "code",
      "metadata": {
        "colab": {
          "base_uri": "https://localhost:8080/"
        },
        "id": "J33HGkyGOHlz",
        "outputId": "fd25e8f4-9b1c-4401-925b-75e9aa8cf071"
      },
      "source": [
        "# 연도와 장르,판매량 포함한 df3 선언후 결측치 처리\n",
        "df3 = df.drop('Platform',axis=1).dropna()\n",
        "df3.isna().sum()\n",
        "\n",
        "# 네자리로 통일시킨후 catogorical 하게 바꾸는 함수 선언\n",
        "def make_year(year):\n",
        "    if year < 21:\n",
        "        return str(year+2000)\n",
        "    elif year > 80 and year <= 99:\n",
        "        return str(year+1900)\n",
        "    else:\n",
        "        return str(year)\n",
        "\n",
        "# apply 사용해서 단위 통일\n",
        "df3['Year'] = df3['Year'].apply(make_year)\n",
        "df3.dtypes"
      ],
      "execution_count": 312,
      "outputs": [
        {
          "output_type": "execute_result",
          "data": {
            "text/plain": [
              "Year            object\n",
              "Genre           object\n",
              "NA_Sales       float64\n",
              "EU_Sales       float64\n",
              "JP_Sales       float64\n",
              "Other_Sales    float64\n",
              "dtype: object"
            ]
          },
          "metadata": {
            "tags": []
          },
          "execution_count": 312
        }
      ]
    },
    {
      "cell_type": "code",
      "metadata": {
        "colab": {
          "base_uri": "https://localhost:8080/"
        },
        "id": "IjAQDNVAo7MX",
        "outputId": "8307375e-1709-4fcb-ff49-f906bd6f8de7"
      },
      "source": [
        "from scipy.stats import ttest_1samp\n",
        "\n",
        "# 연도와 장르별 총 판매량을 나타내는 데이터프레임 선언\n",
        "df3['Total'] = df3['NA_Sales'] + df3['JP_Sales'] + df3['EU_Sales'] + df3['Other_Sales']\n",
        "\n",
        "df_year_genre = df3.loc[:,['Year','Genre','Total']]\n",
        "\n",
        "\n",
        "years = sorted(df_year_genre.Year.unique())\n",
        "\n",
        "# 각 년도별 장르의 판매량을 단일t-test하여 p-value 찾기\n",
        "for year in years:\n",
        "    df_year = df_year_genre[df_year_genre['Year'] == year]\n",
        "    df_year = df_year.drop('Year',axis=1)\n",
        "    result = df_year.groupby('Genre').sum()\n",
        "    print(year, 'p-value =', ttest_1samp(result.Total, .5).pvalue)\n",
        "\n",
        "# 여기서의 귀무가설은 연도내에서 장르들의 판매량은 차이가없다\n",
        "# 1991년도 이후 p-value 값이 0.05보다 작으므로 귀무가설 기각\n",
        "# 연도내에서 장르들의 판매량은 차이가 있다, 즉 연도별 트랜드가 있다"
      ],
      "execution_count": 313,
      "outputs": [
        {
          "output_type": "stream",
          "text": [
            "1980.0 p-value = 0.24459674030407155\n",
            "1981.0 p-value = 0.07466456063423615\n",
            "1982.0 p-value = 0.029252839150856514\n",
            "1983.0 p-value = 0.07141212851668743\n",
            "1984.0 p-value = 0.15085092647917114\n",
            "1985.0 p-value = 0.2698099895987587\n",
            "1986.0 p-value = 0.025617598721504594\n",
            "1987.0 p-value = 0.010817995665639705\n",
            "1988.0 p-value = 0.13628612185234243\n",
            "1989.0 p-value = 0.1039589968757798\n",
            "1990.0 p-value = 0.05572617213049469\n",
            "1991.0 p-value = 0.007927449605955157\n",
            "1992.0 p-value = 0.002128384090813836\n",
            "1993.0 p-value = 0.04481744445603272\n",
            "1994.0 p-value = 0.016677184597609827\n",
            "1995.0 p-value = 0.0006353026385446525\n",
            "1996.0 p-value = 0.0006439720650256627\n",
            "1997.0 p-value = 0.00016079559085433793\n",
            "1998.0 p-value = 0.00014008923976103222\n",
            "1999.0 p-value = 0.00020782071010839263\n",
            "2000.0 p-value = 0.0010549574981376908\n",
            "2001.0 p-value = 0.0003411432104538389\n",
            "2002.0 p-value = 0.0010166652954320416\n",
            "2003.0 p-value = 0.000692649939401702\n",
            "2004.0 p-value = 0.00043434654468725196\n",
            "2005.0 p-value = 0.0002537157317036536\n",
            "2006.0 p-value = 0.0016530282677865802\n",
            "2007.0 p-value = 0.00027428756323871794\n",
            "2008.0 p-value = 0.00023603466545541686\n",
            "2009.0 p-value = 0.0009187388893056157\n",
            "2010.0 p-value = 0.0008164739631273518\n",
            "2011.0 p-value = 0.0016809661970809972\n",
            "2012.0 p-value = 0.013136160978480332\n",
            "2013.0 p-value = 0.015146401186341365\n",
            "2014.0 p-value = 0.009758111141046629\n",
            "2015.0 p-value = 0.01244031498161676\n",
            "2016.0 p-value = 0.016871764453012437\n",
            "2017.0 p-value = 0.020097103583245166\n",
            "2020.0 p-value = nan\n"
          ],
          "name": "stdout"
        },
        {
          "output_type": "stream",
          "text": [
            "/usr/local/lib/python3.7/dist-packages/numpy/core/fromnumeric.py:3622: RuntimeWarning: Degrees of freedom <= 0 for slice\n",
            "  **kwargs)\n",
            "/usr/local/lib/python3.7/dist-packages/numpy/core/_methods.py:226: RuntimeWarning: invalid value encountered in double_scalars\n",
            "  ret = ret.dtype.type(ret / rcount)\n"
          ],
          "name": "stderr"
        }
      ]
    },
    {
      "cell_type": "markdown",
      "metadata": {
        "id": "-Xej8yxWN9rj"
      },
      "source": [
        "---\n",
        "\n",
        "# 2. 플랫폼은 어떻게 선택할까?\n",
        "---\n",
        "\n",
        "## 플랫폼과 지역별 판매량은 연관이있을까?\n",
        "\n",
        "\n"
      ]
    },
    {
      "cell_type": "code",
      "metadata": {
        "colab": {
          "base_uri": "https://localhost:8080/",
          "height": 205
        },
        "id": "dlsQpqH-ONt4",
        "outputId": "32990803-39bd-4310-c32a-a89adc73abeb"
      },
      "source": [
        "# 플랫폼과 지역별 판매액만 나타내는 데이터프레임 선언, 결측치제거\n",
        "df4 = df.drop(['Year','Genre'],axis=1)\n",
        "df4 = df4.dropna()\n",
        "df4.head()"
      ],
      "execution_count": 314,
      "outputs": [
        {
          "output_type": "execute_result",
          "data": {
            "text/html": [
              "<div>\n",
              "<style scoped>\n",
              "    .dataframe tbody tr th:only-of-type {\n",
              "        vertical-align: middle;\n",
              "    }\n",
              "\n",
              "    .dataframe tbody tr th {\n",
              "        vertical-align: top;\n",
              "    }\n",
              "\n",
              "    .dataframe thead th {\n",
              "        text-align: right;\n",
              "    }\n",
              "</style>\n",
              "<table border=\"1\" class=\"dataframe\">\n",
              "  <thead>\n",
              "    <tr style=\"text-align: right;\">\n",
              "      <th></th>\n",
              "      <th>Platform</th>\n",
              "      <th>NA_Sales</th>\n",
              "      <th>EU_Sales</th>\n",
              "      <th>JP_Sales</th>\n",
              "      <th>Other_Sales</th>\n",
              "    </tr>\n",
              "  </thead>\n",
              "  <tbody>\n",
              "    <tr>\n",
              "      <th>0</th>\n",
              "      <td>DS</td>\n",
              "      <td>0.04</td>\n",
              "      <td>0.00</td>\n",
              "      <td>0.00</td>\n",
              "      <td>0.00</td>\n",
              "    </tr>\n",
              "    <tr>\n",
              "      <th>1</th>\n",
              "      <td>Wii</td>\n",
              "      <td>0.17</td>\n",
              "      <td>0.00</td>\n",
              "      <td>0.00</td>\n",
              "      <td>0.01</td>\n",
              "    </tr>\n",
              "    <tr>\n",
              "      <th>2</th>\n",
              "      <td>PSP</td>\n",
              "      <td>0.00</td>\n",
              "      <td>0.00</td>\n",
              "      <td>0.02</td>\n",
              "      <td>0.00</td>\n",
              "    </tr>\n",
              "    <tr>\n",
              "      <th>3</th>\n",
              "      <td>DS</td>\n",
              "      <td>0.04</td>\n",
              "      <td>0.00</td>\n",
              "      <td>0.00</td>\n",
              "      <td>0.00</td>\n",
              "    </tr>\n",
              "    <tr>\n",
              "      <th>4</th>\n",
              "      <td>PS3</td>\n",
              "      <td>0.12</td>\n",
              "      <td>0.09</td>\n",
              "      <td>0.00</td>\n",
              "      <td>0.04</td>\n",
              "    </tr>\n",
              "  </tbody>\n",
              "</table>\n",
              "</div>"
            ],
            "text/plain": [
              "  Platform  NA_Sales  EU_Sales  JP_Sales  Other_Sales\n",
              "0       DS      0.04      0.00      0.00         0.00\n",
              "1      Wii      0.17      0.00      0.00         0.01\n",
              "2      PSP      0.00      0.00      0.02         0.00\n",
              "3       DS      0.04      0.00      0.00         0.00\n",
              "4      PS3      0.12      0.09      0.00         0.04"
            ]
          },
          "metadata": {
            "tags": []
          },
          "execution_count": 314
        }
      ]
    },
    {
      "cell_type": "code",
      "metadata": {
        "id": "IFUXp0lWetRQ",
        "colab": {
          "base_uri": "https://localhost:8080/"
        },
        "outputId": "db2e92bf-ea9e-477c-f87e-d168032b58a2"
      },
      "source": [
        "# 플랫폼 리스트 선언\n",
        "platforms = ['2600', '3DO', '3DS', 'DC', 'DS', 'GB', 'GBA', 'GC', 'GEN', 'GG', 'N64',\n",
        "       'NES', 'NG', 'PC', 'PCFX', 'PS', 'PS2', 'PS3', 'PS4', 'PSP', 'PSV',\n",
        "       'SAT', 'SCD', 'SNES', 'TG16', 'WS', 'Wii', 'WiiU', 'X360', 'XB',\n",
        "       'XOne']\n",
        "\n",
        "# 각 플랫폼별 데이터 분리\n",
        "def makePlatform(df):\n",
        "    for platform in platforms:\n",
        "        platform_data = df[df['Platform'] == platform]\n",
        "        result = f_oneway(platform_data['NA_Sales'],platform_data['JP_Sales'],platform_data['EU_Sales'],platform_data['Other_Sales'])\n",
        "        print(platform, '/p-value =', result[1])\n",
        "\n",
        "makePlatform(df4)\n",
        "\n",
        "# 귀무가설은 지역별 플랫폼 분포는 차이가 없다\n",
        "# 결과는 아주오래된 몇개의 플랫폼을 제외하고는 모두 0.05보다 훨씬 낮은 p-value값을 가졌다\n",
        "# 그러므로 귀무가설을 기각할 수 있고, 지역별 플랫폼의 분포는 차이가 있다 고 판단할 수 있다\n",
        "# 즉 지역별 플랫폼의 선호도는 다르다"
      ],
      "execution_count": 315,
      "outputs": [
        {
          "output_type": "stream",
          "text": [
            "2600 /p-value = 3.136406828910054e-42\n",
            "3DO /p-value = 0.017162023580482293\n",
            "3DS /p-value = 9.455209761154263e-10\n",
            "DC /p-value = 0.00025256814746011486\n",
            "DS /p-value = 7.303193580388891e-31\n",
            "GB /p-value = 0.00017150874520351794\n",
            "GBA /p-value = 2.2205794111493737e-53\n",
            "GC /p-value = 7.714143836255033e-62\n",
            "GEN /p-value = 0.0002372932225412577\n",
            "GG /p-value = nan\n",
            "N64 /p-value = 1.1672258273331049e-31\n",
            "NES /p-value = 4.8735256244936565e-05\n",
            "NG /p-value = 1.0011788008419206e-09\n",
            "PC /p-value = 2.180888936680166e-34\n",
            "PCFX /p-value = nan\n",
            "PS /p-value = 2.2098341986663434e-58\n",
            "PS2 /p-value = 1.0035671961679485e-71\n",
            "PS3 /p-value = 2.372704652390955e-56\n",
            "PS4 /p-value = 4.3547886105079335e-17\n",
            "PSP /p-value = 1.7909100328021057e-11\n",
            "PSV /p-value = 0.006047894173131857\n",
            "SAT /p-value = 1.7092865289945671e-65\n",
            "SCD /p-value = 0.6543526382795086\n",
            "SNES /p-value = 2.6965843101790935e-16\n",
            "TG16 /p-value = 0.29035241802349165\n",
            "WS /p-value = 5.5371926648596975e-05\n",
            "Wii /p-value = 5.524957156652667e-22\n",
            "WiiU /p-value = 1.33240566024685e-07\n",
            "X360 /p-value = 4.498129177185492e-101\n",
            "XB /p-value = 2.886602418452676e-106\n",
            "XOne /p-value = 1.907247483069732e-28\n"
          ],
          "name": "stdout"
        },
        {
          "output_type": "stream",
          "text": [
            "/usr/local/lib/python3.7/dist-packages/scipy/stats/stats.py:3348: RuntimeWarning: invalid value encountered in double_scalars\n",
            "  msw = sswn / dfwn\n"
          ],
          "name": "stderr"
        }
      ]
    },
    {
      "cell_type": "markdown",
      "metadata": {
        "id": "j7khpXr0FsLt"
      },
      "source": [
        "## 플랫폼은 연도별 트랜드가 있을까?"
      ]
    },
    {
      "cell_type": "code",
      "metadata": {
        "id": "saovAp4SFrS6",
        "outputId": "73da16c9-4ade-4b6f-e772-f0e92c8f36fa",
        "colab": {
          "base_uri": "https://localhost:8080/"
        }
      },
      "source": [
        "# 플랫폼과 연도별 데이터 정리\n",
        "df_pl_ye = df.drop('Genre',axis=1).dropna()\n",
        "df_pl_ye['Total'] = df_pl_ye['NA_Sales']+df_pl_ye['JP_Sales']+df_pl_ye['EU_Sales']+df_pl_ye['Other_Sales']\n",
        "# apply 사용해서 단위 통일\n",
        "df_pl_ye['Year'] = df_pl_ye['Year'].apply(make_year)\n",
        "df_pl_ye = df_pl_ye.dropna()\n",
        "\n",
        "df_pl_ye = df_pl_ye[['Platform','Year','Total']]\n",
        "\n",
        "# 같은 플랫폼일때 연도별 판매량 비교\n",
        "for year in years:\n",
        "    df_year = df_pl_ye[df_pl_ye['Year'] == year]\n",
        "    df_year = df_year.drop('Year',axis=1)\n",
        "    result = df_year.groupby('Platform').sum()\n",
        "    print(year, 'p-value =', ttest_1samp(result.Total, .5).pvalue)\n",
        "\n",
        "# 귀무가설 연도별 플랫폼의 판매량은 차이가없다\n",
        "# 대부분의 p-value 값이 0.05보다 크다 -> 귀무가설 기각할수 없다\n",
        "# 즉 연도별 플랫폼판매량은 차이가없다, 플랫폼은 연도별 트랜드가없다."
      ],
      "execution_count": 317,
      "outputs": [
        {
          "output_type": "stream",
          "text": [
            "1980.0 p-value = nan\n",
            "1981.0 p-value = nan\n",
            "1982.0 p-value = nan\n",
            "1983.0 p-value = 0.19949944126604433\n",
            "1984.0 p-value = 0.5029531775753187\n",
            "1985.0 p-value = 0.40138732876169747\n",
            "1986.0 p-value = 0.49706787873104263\n",
            "1987.0 p-value = 0.4524906543041226\n",
            "1988.0 p-value = 0.3825151466168577\n",
            "1989.0 p-value = 0.35981212352264214\n",
            "1990.0 p-value = 0.11682507119190999\n",
            "1991.0 p-value = 0.07063551677071056\n",
            "1992.0 p-value = 0.08181943394267667\n",
            "1993.0 p-value = 0.31224253578214434\n",
            "1994.0 p-value = 0.056211991733741674\n",
            "1995.0 p-value = 0.08604766591663356\n",
            "1996.0 p-value = 0.0646414613060476\n",
            "1997.0 p-value = 0.17983638584931744\n",
            "1998.0 p-value = 0.16932873669712914\n",
            "1999.0 p-value = 0.12784649639173523\n",
            "2000.0 p-value = 0.07026491405117498\n",
            "2001.0 p-value = 0.07071900782487342\n",
            "2002.0 p-value = 0.08196928700988874\n",
            "2003.0 p-value = 0.07472400024289637\n",
            "2004.0 p-value = 0.07170274398081429\n",
            "2005.0 p-value = 0.025268512878073843\n",
            "2006.0 p-value = 0.011336115552060131\n",
            "2007.0 p-value = 0.011168839510745723\n",
            "2008.0 p-value = 0.01107244072891078\n",
            "2009.0 p-value = 0.011521666540899889\n",
            "2010.0 p-value = 0.012586562415018439\n",
            "2011.0 p-value = 0.0176258721522217\n",
            "2012.0 p-value = 0.014383936227087373\n",
            "2013.0 p-value = 0.015242347971878291\n",
            "2014.0 p-value = 0.006743483278368068\n",
            "2015.0 p-value = 0.036786000689997427\n",
            "2016.0 p-value = 0.10073142836829178\n",
            "2017.0 p-value = 0.006701013270894804\n",
            "2020.0 p-value = nan\n"
          ],
          "name": "stdout"
        },
        {
          "output_type": "stream",
          "text": [
            "/usr/local/lib/python3.7/dist-packages/numpy/core/fromnumeric.py:3622: RuntimeWarning: Degrees of freedom <= 0 for slice\n",
            "  **kwargs)\n",
            "/usr/local/lib/python3.7/dist-packages/numpy/core/_methods.py:226: RuntimeWarning: invalid value encountered in double_scalars\n",
            "  ret = ret.dtype.type(ret / rcount)\n"
          ],
          "name": "stderr"
        }
      ]
    },
    {
      "cell_type": "markdown",
      "metadata": {
        "id": "3CKqztPNvzYo"
      },
      "source": [
        "# 플랫폼과 장르는 연관이 있을까?\n",
        "- 같은 장르라면, 플랫폼에따라 판매량에 차이가 있는지 확인해보자\n"
      ]
    },
    {
      "cell_type": "code",
      "metadata": {
        "colab": {
          "base_uri": "https://localhost:8080/",
          "height": 243
        },
        "id": "86CEgeoqvrcr",
        "outputId": "e2fd8300-3999-4c9f-c470-770c80502b37"
      },
      "source": [
        "# 플랫폼 장르 총판매량 나타내는 데이터프레임 선언\n",
        "df6 = df.drop('Year',axis=1)\n",
        "df6['Total'] = df6['NA_Sales'] + df6['JP_Sales'] + df6['EU_Sales'] + df6['Other_Sales']\n",
        "df6 = df6[['Platform','Genre','Total']]\n",
        "df6 = df6.dropna()\n",
        "\n",
        "# 플랫폼별 장르의 판매량 나타내는 함수 선언\n",
        "platforms = df.Platform.unique()\n",
        "\n",
        "def platformGenre(df):\n",
        "    df_empty = pd.DataFrame(columns=df.Genre.unique())\n",
        "    for platform in platforms:\n",
        "        plat = df[df['Platform'] == platform]\n",
        "        plat = plat[['Genre','Total']]\n",
        "        result = plat.groupby('Genre').sum().T\n",
        "        result = result.rename(index={'Total': platform})\n",
        "        df_empty = pd.concat([df_empty,result])\n",
        "    return df_empty\n",
        "\n",
        "# 확인\n",
        "df_plat_gen = platformGenre(df6)\n",
        "df_plat_gen.head()"
      ],
      "execution_count": 318,
      "outputs": [
        {
          "output_type": "execute_result",
          "data": {
            "text/html": [
              "<div>\n",
              "<style scoped>\n",
              "    .dataframe tbody tr th:only-of-type {\n",
              "        vertical-align: middle;\n",
              "    }\n",
              "\n",
              "    .dataframe tbody tr th {\n",
              "        vertical-align: top;\n",
              "    }\n",
              "\n",
              "    .dataframe thead th {\n",
              "        text-align: right;\n",
              "    }\n",
              "</style>\n",
              "<table border=\"1\" class=\"dataframe\">\n",
              "  <thead>\n",
              "    <tr style=\"text-align: right;\">\n",
              "      <th></th>\n",
              "      <th>Action</th>\n",
              "      <th>Adventure</th>\n",
              "      <th>Misc</th>\n",
              "      <th>Platform</th>\n",
              "      <th>Sports</th>\n",
              "      <th>Simulation</th>\n",
              "      <th>Racing</th>\n",
              "      <th>Role-Playing</th>\n",
              "      <th>Puzzle</th>\n",
              "      <th>Strategy</th>\n",
              "      <th>Fighting</th>\n",
              "      <th>Shooter</th>\n",
              "    </tr>\n",
              "  </thead>\n",
              "  <tbody>\n",
              "    <tr>\n",
              "      <th>DS</th>\n",
              "      <td>119.381</td>\n",
              "      <td>51.251</td>\n",
              "      <td>145.607</td>\n",
              "      <td>77.392</td>\n",
              "      <td>33.762</td>\n",
              "      <td>133.566</td>\n",
              "      <td>38.591</td>\n",
              "      <td>127.772</td>\n",
              "      <td>85.830</td>\n",
              "      <td>17.330</td>\n",
              "      <td>7.200</td>\n",
              "      <td>9.101</td>\n",
              "    </tr>\n",
              "    <tr>\n",
              "      <th>Wii</th>\n",
              "      <td>119.422</td>\n",
              "      <td>18.361</td>\n",
              "      <td>216.136</td>\n",
              "      <td>90.751</td>\n",
              "      <td>294.073</td>\n",
              "      <td>36.821</td>\n",
              "      <td>64.131</td>\n",
              "      <td>14.080</td>\n",
              "      <td>15.572</td>\n",
              "      <td>6.240</td>\n",
              "      <td>23.841</td>\n",
              "      <td>28.590</td>\n",
              "    </tr>\n",
              "    <tr>\n",
              "      <th>PSP</th>\n",
              "      <td>65.725</td>\n",
              "      <td>15.682</td>\n",
              "      <td>16.940</td>\n",
              "      <td>16.560</td>\n",
              "      <td>44.750</td>\n",
              "      <td>6.290</td>\n",
              "      <td>35.710</td>\n",
              "      <td>53.960</td>\n",
              "      <td>5.422</td>\n",
              "      <td>11.592</td>\n",
              "      <td>21.981</td>\n",
              "      <td>19.801</td>\n",
              "    </tr>\n",
              "    <tr>\n",
              "      <th>PS3</th>\n",
              "      <td>308.342</td>\n",
              "      <td>22.880</td>\n",
              "      <td>52.761</td>\n",
              "      <td>30.220</td>\n",
              "      <td>137.673</td>\n",
              "      <td>10.760</td>\n",
              "      <td>74.941</td>\n",
              "      <td>75.381</td>\n",
              "      <td>0.590</td>\n",
              "      <td>4.951</td>\n",
              "      <td>51.712</td>\n",
              "      <td>196.040</td>\n",
              "    </tr>\n",
              "    <tr>\n",
              "      <th>PC</th>\n",
              "      <td>32.511</td>\n",
              "      <td>10.033</td>\n",
              "      <td>9.540</td>\n",
              "      <td>0.470</td>\n",
              "      <td>12.973</td>\n",
              "      <td>53.771</td>\n",
              "      <td>6.032</td>\n",
              "      <td>48.633</td>\n",
              "      <td>0.930</td>\n",
              "      <td>47.683</td>\n",
              "      <td>0.270</td>\n",
              "      <td>46.222</td>\n",
              "    </tr>\n",
              "  </tbody>\n",
              "</table>\n",
              "</div>"
            ],
            "text/plain": [
              "      Action  Adventure     Misc  Platform  ...  Puzzle  Strategy  Fighting  Shooter\n",
              "DS   119.381     51.251  145.607    77.392  ...  85.830    17.330     7.200    9.101\n",
              "Wii  119.422     18.361  216.136    90.751  ...  15.572     6.240    23.841   28.590\n",
              "PSP   65.725     15.682   16.940    16.560  ...   5.422    11.592    21.981   19.801\n",
              "PS3  308.342     22.880   52.761    30.220  ...   0.590     4.951    51.712  196.040\n",
              "PC    32.511     10.033    9.540     0.470  ...   0.930    47.683     0.270   46.222\n",
              "\n",
              "[5 rows x 12 columns]"
            ]
          },
          "metadata": {
            "tags": []
          },
          "execution_count": 318
        }
      ]
    },
    {
      "cell_type": "code",
      "metadata": {
        "colab": {
          "base_uri": "https://localhost:8080/"
        },
        "id": "sjih9EB7v9DW",
        "outputId": "046979b0-8b95-40c5-ba91-bb020aaa7470"
      },
      "source": [
        "# 같은 장르내에서 플랫폼별 판매량의 차이가 다른지 확인\n",
        "for column in df_plat_gen.columns:\n",
        "    ttest = ttest_1samp(df_plat_gen[column].dropna(),.5)\n",
        "    print(column, \"/p-value =\", ttest.pvalue)\n",
        "\n",
        "# 귀무가설 = 같은 장르일때 플랫폼별 판매량차이는 없다\n",
        "# p-value가 모두 0.05보다 작다 -> 귀무가설 기각\n",
        "# 장르의 판매량과 플랫폼은 연관이 있다"
      ],
      "execution_count": 319,
      "outputs": [
        {
          "output_type": "stream",
          "text": [
            "Action /p-value = 0.0003726899003919444\n",
            "Adventure /p-value = 0.00036377270003170074\n",
            "Misc /p-value = 0.0051380953994127395\n",
            "Platform /p-value = 3.0405762924314426e-05\n",
            "Sports /p-value = 0.0029072697108501193\n",
            "Simulation /p-value = 0.011866741740473632\n",
            "Racing /p-value = 0.0008550342727190338\n",
            "Role-Playing /p-value = 5.158692940259852e-05\n",
            "Puzzle /p-value = 0.018706909776241752\n",
            "Strategy /p-value = 0.002228983556135935\n",
            "Fighting /p-value = 0.0009260042200852938\n",
            "Shooter /p-value = 0.004645152696081308\n"
          ],
          "name": "stdout"
        }
      ]
    },
    {
      "cell_type": "markdown",
      "metadata": {
        "id": "SIx63JgsxYvg"
      },
      "source": [
        "---\n",
        "## 판매량과 다른 요소들의 관계를 비교해보자  \n",
        "---\n",
        "위의 분석들을 통해 다음과 같은 결론을 내릴 수 있다  \n",
        "\n",
        "1. 지역별 선호하는 장르가 다르다.\n",
        "2. 연도별 장르의 트랜드가 있다.\n",
        "3. 지역별 선호하는 플랫폼이 다르다.\n",
        "4. 플랫폼별 장르의 판매량은 차이가있다.\n",
        "\n",
        "이 조건들을 고려해본다면,  \n",
        "판매량이 높은 게임의 장르를 확인해 장르를 고른 후,  \n",
        "그 장르가 많이팔리는 플랫폼과 지역을 찾아 적용해야 한다  \n",
        "\n",
        "그럼 판매량이 높은 게임들을 분석해보자\n",
        "\n"
      ]
    },
    {
      "cell_type": "markdown",
      "metadata": {
        "id": "j0jOOZu-lq12"
      },
      "source": [
        "---\n",
        "# 3. 출고량이 많은 게임을 분석하고 시각화해보자\n",
        "---\n",
        "\n",
        "출고량이 많은 게임들을 기준을 세워 분석해보자\n",
        "\n",
        "- 그럼 가장 먼저 고려해야하는것은 무었일까?  \n",
        "분석한 바로는 장르와 플랫폼 모두 판매량과 연관이있다.  \n",
        "- 그러므로 상위 판매량을 분석하여 보다 뚜렷하게 차이가 나타나는 기준을 선택한다.  \n",
        "- 예를들어 게임장르의 분포는 비슷한데, 플랫폼의 분포가 확실히 구분된다면 먼저 플랫폼을 정하는것이 유리하다.  \n",
        "\n",
        "그 다음 정해진 장르나 플랫폼을 기준으로 나머지 조건을 고려해보자 "
      ]
    },
    {
      "cell_type": "code",
      "metadata": {
        "id": "kDcImloYlvj5",
        "outputId": "f0451ed8-1edc-412f-a0d3-687a87e6f1d9",
        "colab": {
          "base_uri": "https://localhost:8080/",
          "height": 205
        }
      },
      "source": [
        "# 총판매량 오름차순 정리해서 살펴보기\n",
        "df_total = df\n",
        "df_total['Total'] =  df_total['NA_Sales'] + df_total['JP_Sales'] + df_total['EU_Sales'] + df_total['Other_Sales']\n",
        "df_total = df.sort_values(by=['Total'],ascending=False)\n",
        "df_total['Year'] = df_total['Year'].apply(make_year)\n",
        "\n",
        "df_total.head()"
      ],
      "execution_count": 323,
      "outputs": [
        {
          "output_type": "execute_result",
          "data": {
            "text/html": [
              "<div>\n",
              "<style scoped>\n",
              "    .dataframe tbody tr th:only-of-type {\n",
              "        vertical-align: middle;\n",
              "    }\n",
              "\n",
              "    .dataframe tbody tr th {\n",
              "        vertical-align: top;\n",
              "    }\n",
              "\n",
              "    .dataframe thead th {\n",
              "        text-align: right;\n",
              "    }\n",
              "</style>\n",
              "<table border=\"1\" class=\"dataframe\">\n",
              "  <thead>\n",
              "    <tr style=\"text-align: right;\">\n",
              "      <th></th>\n",
              "      <th>Platform</th>\n",
              "      <th>Year</th>\n",
              "      <th>Genre</th>\n",
              "      <th>NA_Sales</th>\n",
              "      <th>EU_Sales</th>\n",
              "      <th>JP_Sales</th>\n",
              "      <th>Other_Sales</th>\n",
              "      <th>Total</th>\n",
              "    </tr>\n",
              "  </thead>\n",
              "  <tbody>\n",
              "    <tr>\n",
              "      <th>2908</th>\n",
              "      <td>Wii</td>\n",
              "      <td>2006.0</td>\n",
              "      <td>Sports</td>\n",
              "      <td>41.49</td>\n",
              "      <td>29.02</td>\n",
              "      <td>3.77</td>\n",
              "      <td>8.46</td>\n",
              "      <td>82.74</td>\n",
              "    </tr>\n",
              "    <tr>\n",
              "      <th>4199</th>\n",
              "      <td>NES</td>\n",
              "      <td>1985.0</td>\n",
              "      <td>Platform</td>\n",
              "      <td>29.08</td>\n",
              "      <td>3.58</td>\n",
              "      <td>6.81</td>\n",
              "      <td>0.77</td>\n",
              "      <td>40.24</td>\n",
              "    </tr>\n",
              "    <tr>\n",
              "      <th>12579</th>\n",
              "      <td>Wii</td>\n",
              "      <td>2008.0</td>\n",
              "      <td>Racing</td>\n",
              "      <td>15.85</td>\n",
              "      <td>12.88</td>\n",
              "      <td>3.79</td>\n",
              "      <td>3.31</td>\n",
              "      <td>35.83</td>\n",
              "    </tr>\n",
              "    <tr>\n",
              "      <th>3352</th>\n",
              "      <td>Wii</td>\n",
              "      <td>2009.0</td>\n",
              "      <td>Sports</td>\n",
              "      <td>15.75</td>\n",
              "      <td>11.01</td>\n",
              "      <td>3.28</td>\n",
              "      <td>2.96</td>\n",
              "      <td>33.00</td>\n",
              "    </tr>\n",
              "    <tr>\n",
              "      <th>7829</th>\n",
              "      <td>GB</td>\n",
              "      <td>1996.0</td>\n",
              "      <td>Role-Playing</td>\n",
              "      <td>11.27</td>\n",
              "      <td>8.89</td>\n",
              "      <td>10.22</td>\n",
              "      <td>1.00</td>\n",
              "      <td>31.38</td>\n",
              "    </tr>\n",
              "  </tbody>\n",
              "</table>\n",
              "</div>"
            ],
            "text/plain": [
              "      Platform    Year         Genre  ...  JP_Sales  Other_Sales  Total\n",
              "2908       Wii  2006.0        Sports  ...      3.77         8.46  82.74\n",
              "4199       NES  1985.0      Platform  ...      6.81         0.77  40.24\n",
              "12579      Wii  2008.0        Racing  ...      3.79         3.31  35.83\n",
              "3352       Wii  2009.0        Sports  ...      3.28         2.96  33.00\n",
              "7829        GB  1996.0  Role-Playing  ...     10.22         1.00  31.38\n",
              "\n",
              "[5 rows x 8 columns]"
            ]
          },
          "metadata": {
            "tags": []
          },
          "execution_count": 323
        }
      ]
    },
    {
      "cell_type": "code",
      "metadata": {
        "id": "OLNEi8eIfMvI"
      },
      "source": [
        "# 판매량 상위 10% 게임 설정\n",
        "df_total = df_total[:1600]\n",
        "df_total\n",
        "\n",
        "#상위 10%에서의 기준별 총판매량 나타내는 함수선언\n",
        "def show_10per(about):\n",
        "    df_y_t = df_total[[about,'Total']]\n",
        "    df_y_t = df_y_t.dropna()\n",
        "\n",
        "    df_y_t = df_y_t.groupby(about).sum()\n",
        "    df_y_t = df_y_t.sort_values(by=['Total'], ascending = False)[:6]\n",
        "    # bar plot 시각화\n",
        "    sns.barplot(data = df_y_t, x = df_y_t.index , y = 'Total')\n",
        "    plt.show()"
      ],
      "execution_count": 324,
      "outputs": []
    },
    {
      "cell_type": "code",
      "metadata": {
        "id": "S-Lt8GjhP9Yw",
        "outputId": "f9921159-d2c2-4ae6-e00b-b71b4dbdd8ab",
        "colab": {
          "base_uri": "https://localhost:8080/",
          "height": 283
        }
      },
      "source": [
        "# 장르와 총판매량\n",
        "show_10per('Genre')"
      ],
      "execution_count": 325,
      "outputs": [
        {
          "output_type": "display_data",
          "data": {
            "image/png": "[encoded data removed]",
            "text/plain": [
              "<Figure size 432x288 with 1 Axes>"
            ]
          },
          "metadata": {
            "tags": [],
            "needs_background": "light"
          }
        }
      ]
    },
    {
      "cell_type": "code",
      "metadata": {
        "id": "au4BE08JbYTx",
        "outputId": "3473bce1-bffc-4c12-9a4c-c1bdbae1e248",
        "colab": {
          "base_uri": "https://localhost:8080/",
          "height": 279
        }
      },
      "source": [
        "# 플랫폼과 판매량\n",
        "show_10per('Platform')"
      ],
      "execution_count": 326,
      "outputs": [
        {
          "output_type": "display_data",
          "data": {
            "image/png": "[encoded data removed]",
            "text/plain": [
              "<Figure size 432x288 with 1 Axes>"
            ]
          },
          "metadata": {
            "tags": [],
            "needs_background": "light"
          }
        }
      ]
    },
    {
      "cell_type": "markdown",
      "metadata": {
        "id": "Bv-IkEuGFN9R"
      },
      "source": [
        "## 장르는 액션, 플랫폼은 PS2 가 많다\n",
        "- 하지만 장르의 1,2위 차이는 약 200M\n",
        "- 플랫폼의 1,2위 차이는 약 50M 으로\n",
        "- 장르가 더 확실한 차이를 보인다\n",
        "- 그러므로 장르를 액션으로 정하자"
      ]
    },
    {
      "cell_type": "code",
      "metadata": {
        "id": "mfIKqpqfwL3J",
        "outputId": "8e94a336-8af4-4546-c537-c9fa5b6b294f",
        "colab": {
          "base_uri": "https://localhost:8080/",
          "height": 205
        }
      },
      "source": [
        "# 판매량이 많은 게임들 중 액션장르만 포함하는 데이터를 다시 확인해보자\n",
        "# 액션장르가 잘팔리는 플랫폼, 지역을 찾아서 선택하자\n",
        "\n",
        "df_action = df_total[df_total['Genre']=='Action']\n",
        "df_action.head()"
      ],
      "execution_count": 337,
      "outputs": [
        {
          "output_type": "execute_result",
          "data": {
            "text/html": [
              "<div>\n",
              "<style scoped>\n",
              "    .dataframe tbody tr th:only-of-type {\n",
              "        vertical-align: middle;\n",
              "    }\n",
              "\n",
              "    .dataframe tbody tr th {\n",
              "        vertical-align: top;\n",
              "    }\n",
              "\n",
              "    .dataframe thead th {\n",
              "        text-align: right;\n",
              "    }\n",
              "</style>\n",
              "<table border=\"1\" class=\"dataframe\">\n",
              "  <thead>\n",
              "    <tr style=\"text-align: right;\">\n",
              "      <th></th>\n",
              "      <th>Platform</th>\n",
              "      <th>Year</th>\n",
              "      <th>Genre</th>\n",
              "      <th>NA_Sales</th>\n",
              "      <th>EU_Sales</th>\n",
              "      <th>JP_Sales</th>\n",
              "      <th>Other_Sales</th>\n",
              "      <th>Total</th>\n",
              "    </tr>\n",
              "  </thead>\n",
              "  <tbody>\n",
              "    <tr>\n",
              "      <th>3483</th>\n",
              "      <td>PS3</td>\n",
              "      <td>2013.0</td>\n",
              "      <td>Action</td>\n",
              "      <td>7.01</td>\n",
              "      <td>9.27</td>\n",
              "      <td>0.97</td>\n",
              "      <td>4.14</td>\n",
              "      <td>21.39</td>\n",
              "    </tr>\n",
              "    <tr>\n",
              "      <th>14669</th>\n",
              "      <td>PS2</td>\n",
              "      <td>2004.0</td>\n",
              "      <td>Action</td>\n",
              "      <td>9.43</td>\n",
              "      <td>0.40</td>\n",
              "      <td>0.41</td>\n",
              "      <td>10.57</td>\n",
              "      <td>20.81</td>\n",
              "    </tr>\n",
              "    <tr>\n",
              "      <th>10913</th>\n",
              "      <td>X360</td>\n",
              "      <td>2013.0</td>\n",
              "      <td>Action</td>\n",
              "      <td>9.63</td>\n",
              "      <td>5.31</td>\n",
              "      <td>0.06</td>\n",
              "      <td>1.38</td>\n",
              "      <td>16.38</td>\n",
              "    </tr>\n",
              "    <tr>\n",
              "      <th>5340</th>\n",
              "      <td>PS2</td>\n",
              "      <td>2002.0</td>\n",
              "      <td>Action</td>\n",
              "      <td>8.41</td>\n",
              "      <td>5.49</td>\n",
              "      <td>0.47</td>\n",
              "      <td>1.78</td>\n",
              "      <td>16.15</td>\n",
              "    </tr>\n",
              "    <tr>\n",
              "      <th>9786</th>\n",
              "      <td>PS2</td>\n",
              "      <td>2001.0</td>\n",
              "      <td>Action</td>\n",
              "      <td>6.99</td>\n",
              "      <td>4.51</td>\n",
              "      <td>0.30</td>\n",
              "      <td>1.30</td>\n",
              "      <td>13.10</td>\n",
              "    </tr>\n",
              "  </tbody>\n",
              "</table>\n",
              "</div>"
            ],
            "text/plain": [
              "      Platform    Year   Genre  ...  JP_Sales  Other_Sales  Total\n",
              "3483       PS3  2013.0  Action  ...      0.97         4.14  21.39\n",
              "14669      PS2  2004.0  Action  ...      0.41        10.57  20.81\n",
              "10913     X360  2013.0  Action  ...      0.06         1.38  16.38\n",
              "5340       PS2  2002.0  Action  ...      0.47         1.78  16.15\n",
              "9786       PS2  2001.0  Action  ...      0.30         1.30  13.10\n",
              "\n",
              "[5 rows x 8 columns]"
            ]
          },
          "metadata": {
            "tags": []
          },
          "execution_count": 337
        }
      ]
    },
    {
      "cell_type": "code",
      "metadata": {
        "id": "jTPqyuUFQ91m",
        "outputId": "c93a618d-faae-445e-e4fe-d7aac61f0c87",
        "colab": {
          "base_uri": "https://localhost:8080/",
          "height": 768
        }
      },
      "source": [
        "# 플랫폼과 지역별 판매량, 총판매량\n",
        "df_action_drop = df_action.drop(['Year','Genre'],axis=1)\n",
        "\n",
        "df_action_total = df_action.groupby('Platform').sum()\n",
        "df_action_total.sort_values(by=['Total'],ascending=False)\n",
        "\n",
        "# 액션게임이 제일잘팔리는 플랫폼은 PS3,PS2,X360 정도다\n",
        "# 그리고 이 판매량중 북미의 판매량이 가장 많았다"
      ],
      "execution_count": 341,
      "outputs": [
        {
          "output_type": "execute_result",
          "data": {
            "text/html": [
              "<div>\n",
              "<style scoped>\n",
              "    .dataframe tbody tr th:only-of-type {\n",
              "        vertical-align: middle;\n",
              "    }\n",
              "\n",
              "    .dataframe tbody tr th {\n",
              "        vertical-align: top;\n",
              "    }\n",
              "\n",
              "    .dataframe thead th {\n",
              "        text-align: right;\n",
              "    }\n",
              "</style>\n",
              "<table border=\"1\" class=\"dataframe\">\n",
              "  <thead>\n",
              "    <tr style=\"text-align: right;\">\n",
              "      <th></th>\n",
              "      <th>NA_Sales</th>\n",
              "      <th>EU_Sales</th>\n",
              "      <th>JP_Sales</th>\n",
              "      <th>Other_Sales</th>\n",
              "      <th>Total</th>\n",
              "    </tr>\n",
              "    <tr>\n",
              "      <th>Platform</th>\n",
              "      <th></th>\n",
              "      <th></th>\n",
              "      <th></th>\n",
              "      <th></th>\n",
              "      <th></th>\n",
              "    </tr>\n",
              "  </thead>\n",
              "  <tbody>\n",
              "    <tr>\n",
              "      <th>PS3</th>\n",
              "      <td>75.68</td>\n",
              "      <td>71.84</td>\n",
              "      <td>8.58</td>\n",
              "      <td>30.68</td>\n",
              "      <td>186.78</td>\n",
              "    </tr>\n",
              "    <tr>\n",
              "      <th>PS2</th>\n",
              "      <td>79.43</td>\n",
              "      <td>46.55</td>\n",
              "      <td>11.05</td>\n",
              "      <td>30.99</td>\n",
              "      <td>168.02</td>\n",
              "    </tr>\n",
              "    <tr>\n",
              "      <th>X360</th>\n",
              "      <td>85.32</td>\n",
              "      <td>49.12</td>\n",
              "      <td>2.33</td>\n",
              "      <td>13.58</td>\n",
              "      <td>150.35</td>\n",
              "    </tr>\n",
              "    <tr>\n",
              "      <th>PS</th>\n",
              "      <td>44.66</td>\n",
              "      <td>32.42</td>\n",
              "      <td>8.08</td>\n",
              "      <td>5.20</td>\n",
              "      <td>90.36</td>\n",
              "    </tr>\n",
              "    <tr>\n",
              "      <th>PS4</th>\n",
              "      <td>21.16</td>\n",
              "      <td>28.00</td>\n",
              "      <td>2.13</td>\n",
              "      <td>10.04</td>\n",
              "      <td>61.33</td>\n",
              "    </tr>\n",
              "    <tr>\n",
              "      <th>Wii</th>\n",
              "      <td>30.50</td>\n",
              "      <td>16.64</td>\n",
              "      <td>1.66</td>\n",
              "      <td>4.95</td>\n",
              "      <td>53.75</td>\n",
              "    </tr>\n",
              "    <tr>\n",
              "      <th>DS</th>\n",
              "      <td>25.50</td>\n",
              "      <td>15.71</td>\n",
              "      <td>6.72</td>\n",
              "      <td>4.47</td>\n",
              "      <td>52.40</td>\n",
              "    </tr>\n",
              "    <tr>\n",
              "      <th>NES</th>\n",
              "      <td>15.35</td>\n",
              "      <td>3.08</td>\n",
              "      <td>6.68</td>\n",
              "      <td>0.41</td>\n",
              "      <td>25.52</td>\n",
              "    </tr>\n",
              "    <tr>\n",
              "      <th>3DS</th>\n",
              "      <td>7.48</td>\n",
              "      <td>4.64</td>\n",
              "      <td>9.32</td>\n",
              "      <td>1.12</td>\n",
              "      <td>22.56</td>\n",
              "    </tr>\n",
              "    <tr>\n",
              "      <th>PSP</th>\n",
              "      <td>7.69</td>\n",
              "      <td>7.25</td>\n",
              "      <td>1.40</td>\n",
              "      <td>4.47</td>\n",
              "      <td>20.81</td>\n",
              "    </tr>\n",
              "    <tr>\n",
              "      <th>N64</th>\n",
              "      <td>11.63</td>\n",
              "      <td>4.44</td>\n",
              "      <td>3.13</td>\n",
              "      <td>1.36</td>\n",
              "      <td>20.56</td>\n",
              "    </tr>\n",
              "    <tr>\n",
              "      <th>XOne</th>\n",
              "      <td>11.36</td>\n",
              "      <td>6.27</td>\n",
              "      <td>0.02</td>\n",
              "      <td>1.60</td>\n",
              "      <td>19.25</td>\n",
              "    </tr>\n",
              "    <tr>\n",
              "      <th>GBA</th>\n",
              "      <td>11.17</td>\n",
              "      <td>5.08</td>\n",
              "      <td>1.94</td>\n",
              "      <td>0.76</td>\n",
              "      <td>18.95</td>\n",
              "    </tr>\n",
              "    <tr>\n",
              "      <th>GC</th>\n",
              "      <td>9.37</td>\n",
              "      <td>3.37</td>\n",
              "      <td>2.41</td>\n",
              "      <td>0.46</td>\n",
              "      <td>15.61</td>\n",
              "    </tr>\n",
              "    <tr>\n",
              "      <th>XB</th>\n",
              "      <td>9.34</td>\n",
              "      <td>3.89</td>\n",
              "      <td>0.04</td>\n",
              "      <td>0.55</td>\n",
              "      <td>13.82</td>\n",
              "    </tr>\n",
              "    <tr>\n",
              "      <th>SNES</th>\n",
              "      <td>3.66</td>\n",
              "      <td>1.20</td>\n",
              "      <td>2.55</td>\n",
              "      <td>0.18</td>\n",
              "      <td>7.59</td>\n",
              "    </tr>\n",
              "    <tr>\n",
              "      <th>GB</th>\n",
              "      <td>4.07</td>\n",
              "      <td>2.11</td>\n",
              "      <td>1.05</td>\n",
              "      <td>0.26</td>\n",
              "      <td>7.49</td>\n",
              "    </tr>\n",
              "    <tr>\n",
              "      <th>PC</th>\n",
              "      <td>1.86</td>\n",
              "      <td>2.31</td>\n",
              "      <td>0.00</td>\n",
              "      <td>0.42</td>\n",
              "      <td>4.59</td>\n",
              "    </tr>\n",
              "    <tr>\n",
              "      <th>2600</th>\n",
              "      <td>3.90</td>\n",
              "      <td>0.23</td>\n",
              "      <td>0.00</td>\n",
              "      <td>0.04</td>\n",
              "      <td>4.17</td>\n",
              "    </tr>\n",
              "    <tr>\n",
              "      <th>PSV</th>\n",
              "      <td>1.38</td>\n",
              "      <td>1.07</td>\n",
              "      <td>0.13</td>\n",
              "      <td>0.58</td>\n",
              "      <td>3.16</td>\n",
              "    </tr>\n",
              "    <tr>\n",
              "      <th>WiiU</th>\n",
              "      <td>1.14</td>\n",
              "      <td>0.66</td>\n",
              "      <td>1.14</td>\n",
              "      <td>0.16</td>\n",
              "      <td>3.10</td>\n",
              "    </tr>\n",
              "    <tr>\n",
              "      <th>GEN</th>\n",
              "      <td>1.86</td>\n",
              "      <td>0.55</td>\n",
              "      <td>0.11</td>\n",
              "      <td>0.08</td>\n",
              "      <td>2.60</td>\n",
              "    </tr>\n",
              "  </tbody>\n",
              "</table>\n",
              "</div>"
            ],
            "text/plain": [
              "          NA_Sales  EU_Sales  JP_Sales  Other_Sales   Total\n",
              "Platform                                                   \n",
              "PS3          75.68     71.84      8.58        30.68  186.78\n",
              "PS2          79.43     46.55     11.05        30.99  168.02\n",
              "X360         85.32     49.12      2.33        13.58  150.35\n",
              "PS           44.66     32.42      8.08         5.20   90.36\n",
              "PS4          21.16     28.00      2.13        10.04   61.33\n",
              "Wii          30.50     16.64      1.66         4.95   53.75\n",
              "DS           25.50     15.71      6.72         4.47   52.40\n",
              "NES          15.35      3.08      6.68         0.41   25.52\n",
              "3DS           7.48      4.64      9.32         1.12   22.56\n",
              "PSP           7.69      7.25      1.40         4.47   20.81\n",
              "N64          11.63      4.44      3.13         1.36   20.56\n",
              "XOne         11.36      6.27      0.02         1.60   19.25\n",
              "GBA          11.17      5.08      1.94         0.76   18.95\n",
              "GC            9.37      3.37      2.41         0.46   15.61\n",
              "XB            9.34      3.89      0.04         0.55   13.82\n",
              "SNES          3.66      1.20      2.55         0.18    7.59\n",
              "GB            4.07      2.11      1.05         0.26    7.49\n",
              "PC            1.86      2.31      0.00         0.42    4.59\n",
              "2600          3.90      0.23      0.00         0.04    4.17\n",
              "PSV           1.38      1.07      0.13         0.58    3.16\n",
              "WiiU          1.14      0.66      1.14         0.16    3.10\n",
              "GEN           1.86      0.55      0.11         0.08    2.60"
            ]
          },
          "metadata": {
            "tags": []
          },
          "execution_count": 341
        }
      ]
    },
    {
      "cell_type": "markdown",
      "metadata": {
        "id": "vLNWBlA1lxjN"
      },
      "source": [
        "---\n",
        "# 결론\n",
        "---\n",
        "\n",
        "액션장르의 게임을 PS3,PS2,X360 플랫폼으로 북미,유럽을 대상으로 설계하는것이 좋다."
      ]
    },
    {
      "cell_type": "markdown",
      "metadata": {
        "id": "dMNU1w3xFBM9"
      },
      "source": [
        "# 임시정보"
      ]
    },
    {
      "cell_type": "code",
      "metadata": {
        "id": "3ifjRNcmFCAU"
      },
      "source": [
        "# 총판매량의 상위20% 확인해보기 \n",
        "# for i in range(0,len(df_total.Total)):\n",
        "#     result = ((df_total.Total.sum() - (df_total.Total[0:i]).sum())/df_total.Total.sum())*100\n",
        "#     print(result,'%',i)\n",
        "# 상위 21개의 의 판매량합이 상위 20% 임을 확인\n"
      ],
      "execution_count": 271,
      "outputs": []
    },
    {
      "cell_type": "code",
      "metadata": {
        "id": "CR3MbXZFIWic"
      },
      "source": [
        "# 연도,판매량, 플랫폼\n",
        "# df_year_plat = df_total\n",
        "# df_year_plat = df_year_data[['Platform','Year','Total']]\n",
        "\n",
        "# # df_year_plat = df_year_plat[df_year_plat['Year'] > 2000]\n",
        "# df_year_plat\n",
        "\n",
        "# sns.scatterplot(data=df_year_plat,x='Year',y='Total',hue='Platform')\n",
        "\n",
        "# # 거의 대부분이 Will, DS 임을 확인"
      ],
      "execution_count": null,
      "outputs": []
    }
  ]
}